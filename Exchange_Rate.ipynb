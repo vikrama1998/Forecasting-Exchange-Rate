{
 "cells": [
  {
   "cell_type": "code",
   "execution_count": null,
   "metadata": {
    "id": "6eabb68e"
   },
   "outputs": [],
   "source": [
    "import pandas as pd\n",
    "import numpy as np\n",
    "import matplotlib.pyplot as plt\n",
    "import seaborn as sn\n",
    "%matplotlib inline"
   ]
  },
  {
   "cell_type": "code",
   "execution_count": null,
   "metadata": {
    "colab": {
     "base_uri": "https://localhost:8080/",
     "height": 423
    },
    "id": "76c89b4a",
    "outputId": "dd511f48-b427-4b11-a43d-7e3fa7789b23"
   },
   "outputs": [
    {
     "data": {
      "text/html": [
       "\n",
       "  <div id=\"df-9cdaa14b-c0f2-4ae6-8899-05da308b19ad\">\n",
       "    <div class=\"colab-df-container\">\n",
       "      <div>\n",
       "<style scoped>\n",
       "    .dataframe tbody tr th:only-of-type {\n",
       "        vertical-align: middle;\n",
       "    }\n",
       "\n",
       "    .dataframe tbody tr th {\n",
       "        vertical-align: top;\n",
       "    }\n",
       "\n",
       "    .dataframe thead th {\n",
       "        text-align: right;\n",
       "    }\n",
       "</style>\n",
       "<table border=\"1\" class=\"dataframe\">\n",
       "  <thead>\n",
       "    <tr style=\"text-align: right;\">\n",
       "      <th></th>\n",
       "      <th>Date</th>\n",
       "      <th>Exchange_Rate</th>\n",
       "      <th>Interest Rate</th>\n",
       "      <th>FDI in % of GDP</th>\n",
       "      <th>Export</th>\n",
       "      <th>CPI</th>\n",
       "    </tr>\n",
       "  </thead>\n",
       "  <tbody>\n",
       "    <tr>\n",
       "      <th>0</th>\n",
       "      <td>1992-01-01</td>\n",
       "      <td>5.4618</td>\n",
       "      <td>0.415635</td>\n",
       "      <td>2.613162</td>\n",
       "      <td>5.522475e+09</td>\n",
       "      <td>5.5</td>\n",
       "    </tr>\n",
       "    <tr>\n",
       "      <th>1</th>\n",
       "      <td>1992-02-01</td>\n",
       "      <td>5.4776</td>\n",
       "      <td>0.415635</td>\n",
       "      <td>2.613162</td>\n",
       "      <td>6.523120e+09</td>\n",
       "      <td>5.3</td>\n",
       "    </tr>\n",
       "    <tr>\n",
       "      <th>2</th>\n",
       "      <td>1992-03-01</td>\n",
       "      <td>5.4871</td>\n",
       "      <td>0.415635</td>\n",
       "      <td>2.613162</td>\n",
       "      <td>6.132661e+09</td>\n",
       "      <td>5.3</td>\n",
       "    </tr>\n",
       "    <tr>\n",
       "      <th>3</th>\n",
       "      <td>1992-04-01</td>\n",
       "      <td>5.5098</td>\n",
       "      <td>0.415635</td>\n",
       "      <td>2.613162</td>\n",
       "      <td>6.594309e+09</td>\n",
       "      <td>7.1</td>\n",
       "    </tr>\n",
       "    <tr>\n",
       "      <th>4</th>\n",
       "      <td>1992-05-01</td>\n",
       "      <td>5.5182</td>\n",
       "      <td>0.415635</td>\n",
       "      <td>2.613162</td>\n",
       "      <td>6.723671e+09</td>\n",
       "      <td>4.7</td>\n",
       "    </tr>\n",
       "    <tr>\n",
       "      <th>...</th>\n",
       "      <td>...</td>\n",
       "      <td>...</td>\n",
       "      <td>...</td>\n",
       "      <td>...</td>\n",
       "      <td>...</td>\n",
       "      <td>...</td>\n",
       "    </tr>\n",
       "    <tr>\n",
       "      <th>330</th>\n",
       "      <td>2019-07-01</td>\n",
       "      <td>6.8775</td>\n",
       "      <td>3.024385</td>\n",
       "      <td>1.310719</td>\n",
       "      <td>2.137597e+11</td>\n",
       "      <td>2.8</td>\n",
       "    </tr>\n",
       "    <tr>\n",
       "      <th>331</th>\n",
       "      <td>2019-08-01</td>\n",
       "      <td>7.0629</td>\n",
       "      <td>3.024385</td>\n",
       "      <td>1.310719</td>\n",
       "      <td>2.061549e+11</td>\n",
       "      <td>2.8</td>\n",
       "    </tr>\n",
       "    <tr>\n",
       "      <th>332</th>\n",
       "      <td>2019-09-01</td>\n",
       "      <td>7.1137</td>\n",
       "      <td>3.024385</td>\n",
       "      <td>1.310719</td>\n",
       "      <td>2.067389e+11</td>\n",
       "      <td>3.0</td>\n",
       "    </tr>\n",
       "    <tr>\n",
       "      <th>333</th>\n",
       "      <td>2019-10-01</td>\n",
       "      <td>7.0961</td>\n",
       "      <td>3.024385</td>\n",
       "      <td>1.310719</td>\n",
       "      <td>2.092869e+11</td>\n",
       "      <td>3.8</td>\n",
       "    </tr>\n",
       "    <tr>\n",
       "      <th>334</th>\n",
       "      <td>2019-11-01</td>\n",
       "      <td>7.0199</td>\n",
       "      <td>3.024385</td>\n",
       "      <td>1.310719</td>\n",
       "      <td>2.019539e+11</td>\n",
       "      <td>4.5</td>\n",
       "    </tr>\n",
       "  </tbody>\n",
       "</table>\n",
       "<p>335 rows × 6 columns</p>\n",
       "</div>\n",
       "      <button class=\"colab-df-convert\" onclick=\"convertToInteractive('df-9cdaa14b-c0f2-4ae6-8899-05da308b19ad')\"\n",
       "              title=\"Convert this dataframe to an interactive table.\"\n",
       "              style=\"display:none;\">\n",
       "        \n",
       "  <svg xmlns=\"http://www.w3.org/2000/svg\" height=\"24px\"viewBox=\"0 0 24 24\"\n",
       "       width=\"24px\">\n",
       "    <path d=\"M0 0h24v24H0V0z\" fill=\"none\"/>\n",
       "    <path d=\"M18.56 5.44l.94 2.06.94-2.06 2.06-.94-2.06-.94-.94-2.06-.94 2.06-2.06.94zm-11 1L8.5 8.5l.94-2.06 2.06-.94-2.06-.94L8.5 2.5l-.94 2.06-2.06.94zm10 10l.94 2.06.94-2.06 2.06-.94-2.06-.94-.94-2.06-.94 2.06-2.06.94z\"/><path d=\"M17.41 7.96l-1.37-1.37c-.4-.4-.92-.59-1.43-.59-.52 0-1.04.2-1.43.59L10.3 9.45l-7.72 7.72c-.78.78-.78 2.05 0 2.83L4 21.41c.39.39.9.59 1.41.59.51 0 1.02-.2 1.41-.59l7.78-7.78 2.81-2.81c.8-.78.8-2.07 0-2.86zM5.41 20L4 18.59l7.72-7.72 1.47 1.35L5.41 20z\"/>\n",
       "  </svg>\n",
       "      </button>\n",
       "      \n",
       "  <style>\n",
       "    .colab-df-container {\n",
       "      display:flex;\n",
       "      flex-wrap:wrap;\n",
       "      gap: 12px;\n",
       "    }\n",
       "\n",
       "    .colab-df-convert {\n",
       "      background-color: #E8F0FE;\n",
       "      border: none;\n",
       "      border-radius: 50%;\n",
       "      cursor: pointer;\n",
       "      display: none;\n",
       "      fill: #1967D2;\n",
       "      height: 32px;\n",
       "      padding: 0 0 0 0;\n",
       "      width: 32px;\n",
       "    }\n",
       "\n",
       "    .colab-df-convert:hover {\n",
       "      background-color: #E2EBFA;\n",
       "      box-shadow: 0px 1px 2px rgba(60, 64, 67, 0.3), 0px 1px 3px 1px rgba(60, 64, 67, 0.15);\n",
       "      fill: #174EA6;\n",
       "    }\n",
       "\n",
       "    [theme=dark] .colab-df-convert {\n",
       "      background-color: #3B4455;\n",
       "      fill: #D2E3FC;\n",
       "    }\n",
       "\n",
       "    [theme=dark] .colab-df-convert:hover {\n",
       "      background-color: #434B5C;\n",
       "      box-shadow: 0px 1px 3px 1px rgba(0, 0, 0, 0.15);\n",
       "      filter: drop-shadow(0px 1px 2px rgba(0, 0, 0, 0.3));\n",
       "      fill: #FFFFFF;\n",
       "    }\n",
       "  </style>\n",
       "\n",
       "      <script>\n",
       "        const buttonEl =\n",
       "          document.querySelector('#df-9cdaa14b-c0f2-4ae6-8899-05da308b19ad button.colab-df-convert');\n",
       "        buttonEl.style.display =\n",
       "          google.colab.kernel.accessAllowed ? 'block' : 'none';\n",
       "\n",
       "        async function convertToInteractive(key) {\n",
       "          const element = document.querySelector('#df-9cdaa14b-c0f2-4ae6-8899-05da308b19ad');\n",
       "          const dataTable =\n",
       "            await google.colab.kernel.invokeFunction('convertToInteractive',\n",
       "                                                     [key], {});\n",
       "          if (!dataTable) return;\n",
       "\n",
       "          const docLinkHtml = 'Like what you see? Visit the ' +\n",
       "            '<a target=\"_blank\" href=https://colab.research.google.com/notebooks/data_table.ipynb>data table notebook</a>'\n",
       "            + ' to learn more about interactive tables.';\n",
       "          element.innerHTML = '';\n",
       "          dataTable['output_type'] = 'display_data';\n",
       "          await google.colab.output.renderOutput(dataTable, element);\n",
       "          const docLink = document.createElement('div');\n",
       "          docLink.innerHTML = docLinkHtml;\n",
       "          element.appendChild(docLink);\n",
       "        }\n",
       "      </script>\n",
       "    </div>\n",
       "  </div>\n",
       "  "
      ],
      "text/plain": [
       "          Date  Exchange_Rate  Interest Rate  FDI in % of GDP        Export  \\\n",
       "0   1992-01-01         5.4618       0.415635         2.613162  5.522475e+09   \n",
       "1   1992-02-01         5.4776       0.415635         2.613162  6.523120e+09   \n",
       "2   1992-03-01         5.4871       0.415635         2.613162  6.132661e+09   \n",
       "3   1992-04-01         5.5098       0.415635         2.613162  6.594309e+09   \n",
       "4   1992-05-01         5.5182       0.415635         2.613162  6.723671e+09   \n",
       "..         ...            ...            ...              ...           ...   \n",
       "330 2019-07-01         6.8775       3.024385         1.310719  2.137597e+11   \n",
       "331 2019-08-01         7.0629       3.024385         1.310719  2.061549e+11   \n",
       "332 2019-09-01         7.1137       3.024385         1.310719  2.067389e+11   \n",
       "333 2019-10-01         7.0961       3.024385         1.310719  2.092869e+11   \n",
       "334 2019-11-01         7.0199       3.024385         1.310719  2.019539e+11   \n",
       "\n",
       "     CPI  \n",
       "0    5.5  \n",
       "1    5.3  \n",
       "2    5.3  \n",
       "3    7.1  \n",
       "4    4.7  \n",
       "..   ...  \n",
       "330  2.8  \n",
       "331  2.8  \n",
       "332  3.0  \n",
       "333  3.8  \n",
       "334  4.5  \n",
       "\n",
       "[335 rows x 6 columns]"
      ]
     },
     "execution_count": 3,
     "metadata": {},
     "output_type": "execute_result"
    }
   ],
   "source": [
    "train_df=pd.read_excel(\"/content/China Exchange Rate 1992-2019.xlsx\")\n",
    "train_df"
   ]
  },
  {
   "cell_type": "code",
   "execution_count": null,
   "metadata": {
    "colab": {
     "base_uri": "https://localhost:8080/"
    },
    "id": "xJfBmonx2kHK",
    "outputId": "09580fa5-56e2-49c5-ba25-e0019a47adc5"
   },
   "outputs": [
    {
     "name": "stdout",
     "output_type": "stream",
     "text": [
      "<class 'pandas.core.frame.DataFrame'>\n",
      "RangeIndex: 335 entries, 0 to 334\n",
      "Data columns (total 6 columns):\n",
      " #   Column           Non-Null Count  Dtype         \n",
      "---  ------           --------------  -----         \n",
      " 0   Date             335 non-null    datetime64[ns]\n",
      " 1   Exchange_Rate    335 non-null    float64       \n",
      " 2   Interest Rate    335 non-null    float64       \n",
      " 3   FDI in % of GDP  335 non-null    float64       \n",
      " 4   Export           335 non-null    float64       \n",
      " 5   CPI              335 non-null    float64       \n",
      "dtypes: datetime64[ns](1), float64(5)\n",
      "memory usage: 15.8 KB\n"
     ]
    }
   ],
   "source": [
    "train_df.info()"
   ]
  },
  {
   "cell_type": "markdown",
   "metadata": {
    "id": "6f7192fc"
   },
   "source": [
    "Correlation"
   ]
  },
  {
   "cell_type": "code",
   "execution_count": null,
   "metadata": {
    "colab": {
     "base_uri": "https://localhost:8080/",
     "height": 356
    },
    "id": "d10bb101",
    "outputId": "47b9869a-fc55-4002-997b-a8d448fa68d9"
   },
   "outputs": [
    {
     "data": {
      "text/plain": [
       "(5.5, -0.5)"
      ]
     },
     "execution_count": 5,
     "metadata": {},
     "output_type": "execute_result"
    },
    {
     "data": {
      "image/png": "[encoded data removed]",
      "text/plain": [
       "<Figure size 432x288 with 2 Axes>"
      ]
     },
     "metadata": {
      "needs_background": "light"
     },
     "output_type": "display_data"
    }
   ],
   "source": [
    "correlation=train_df.corr()\n",
    "ax=sn.heatmap(correlation,annot=True,cmap=\"PiYG\")\n",
    "bottom,top=ax.get_ylim()\n",
    "ax.set_ylim(bottom+0.5,top-0.5)"
   ]
  },
  {
   "cell_type": "markdown",
   "metadata": {
    "id": "8c-Yo4S1212N"
   },
   "source": [
    "1. Logically, exchange rate is inversely correlated with exports which says if exports is more then the currency will appreciate.\n",
    "2. CPI and Exchange rate is are somewhat positively correlated and it is logical as well."
   ]
  },
  {
   "cell_type": "markdown",
   "metadata": {
    "id": "7ea6e7e6"
   },
   "source": [
    "# Analysis"
   ]
  },
  {
   "cell_type": "markdown",
   "metadata": {
    "id": "SdSj2Aq0rqgK"
   },
   "source": [
    "Inflation"
   ]
  },
  {
   "cell_type": "code",
   "execution_count": null,
   "metadata": {
    "colab": {
     "base_uri": "https://localhost:8080/",
     "height": 361
    },
    "id": "ce45ea62",
    "outputId": "b2d9a3bc-97e1-464b-a6d0-a65249a563c2"
   },
   "outputs": [
    {
     "data": {
      "text/plain": [
       "Text(0, 0.5, 'CPI')"
      ]
     },
     "execution_count": 6,
     "metadata": {},
     "output_type": "execute_result"
    },
    {
     "data": {
      "image/png": "[encoded data removed]",
      "text/plain": [
       "<Figure size 432x288 with 1 Axes>"
      ]
     },
     "metadata": {
      "needs_background": "light"
     },
     "output_type": "display_data"
    }
   ],
   "source": [
    "plt.plot(train_df['Date'],train_df['CPI'])\n",
    "plt.title('Inflation across years')\n",
    "plt.xticks(train_df['Date'][::20],  rotation='vertical')\n",
    "plt.xlabel('Date')\n",
    "plt.ylabel('CPI')"
   ]
  },
  {
   "cell_type": "markdown",
   "metadata": {
    "id": "djfRtnc6rstB"
   },
   "source": [
    "Exchange Rate"
   ]
  },
  {
   "cell_type": "code",
   "execution_count": null,
   "metadata": {
    "colab": {
     "base_uri": "https://localhost:8080/",
     "height": 361
    },
    "id": "gzASXC5zqch9",
    "outputId": "de4e023f-b671-4883-d590-cc70862feaf6"
   },
   "outputs": [
    {
     "data": {
      "text/plain": [
       "Text(0, 0.5, 'Exchange_Rate')"
      ]
     },
     "execution_count": 7,
     "metadata": {},
     "output_type": "execute_result"
    },
    {
     "data": {
      "image/png": "[encoded data removed]",
      "text/plain": [
       "<Figure size 432x288 with 1 Axes>"
      ]
     },
     "metadata": {
      "needs_background": "light"
     },
     "output_type": "display_data"
    }
   ],
   "source": [
    "plt.plot(train_df['Date'],train_df['Exchange_Rate'])\n",
    "plt.title('Exchange Rate across year')\n",
    "plt.xticks(train_df['Date'][::20],  rotation='vertical')\n",
    "plt.xlabel('Date')\n",
    "plt.ylabel('Exchange_Rate')"
   ]
  },
  {
   "cell_type": "markdown",
   "metadata": {
    "id": "EDio0MfKsn38"
   },
   "source": [
    "FDI as % of GDP"
   ]
  },
  {
   "cell_type": "code",
   "execution_count": null,
   "metadata": {
    "colab": {
     "base_uri": "https://localhost:8080/",
     "height": 361
    },
    "id": "N9ctltI0r9sW",
    "outputId": "ad8eecde-c704-4a46-b073-1e5e5e24bc3e"
   },
   "outputs": [
    {
     "data": {
      "text/plain": [
       "Text(0, 0.5, 'FDI in % of GDP')"
      ]
     },
     "execution_count": 8,
     "metadata": {},
     "output_type": "execute_result"
    },
    {
     "data": {
      "image/png": "[encoded data removed]",
      "text/plain": [
       "<Figure size 432x288 with 1 Axes>"
      ]
     },
     "metadata": {
      "needs_background": "light"
     },
     "output_type": "display_data"
    }
   ],
   "source": [
    "plt.plot(train_df['Date'],train_df['FDI in % of GDP'])\n",
    "plt.title('FDI in % of GDP')\n",
    "plt.xticks(train_df['Date'][::20],  rotation='vertical')\n",
    "plt.xlabel('Date')\n",
    "plt.ylabel('FDI in % of GDP')"
   ]
  },
  {
   "cell_type": "markdown",
   "metadata": {
    "id": "LLIdHUW77hjp"
   },
   "source": [
    "Export"
   ]
  },
  {
   "cell_type": "code",
   "execution_count": null,
   "metadata": {
    "colab": {
     "base_uri": "https://localhost:8080/",
     "height": 361
    },
    "id": "Se9a_6zf7XYC",
    "outputId": "e39a5cba-e8d7-4fce-bc85-33e328d3b988"
   },
   "outputs": [
    {
     "data": {
      "text/plain": [
       "Text(0, 0.5, 'Export')"
      ]
     },
     "execution_count": 9,
     "metadata": {},
     "output_type": "execute_result"
    },
    {
     "data": {
      "image/png": "[encoded data removed]",
      "text/plain": [
       "<Figure size 432x288 with 1 Axes>"
      ]
     },
     "metadata": {
      "needs_background": "light"
     },
     "output_type": "display_data"
    }
   ],
   "source": [
    "plt.plot(train_df['Date'],train_df['Export'])\n",
    "plt.title('EXport across years')\n",
    "plt.xticks(train_df['Date'][::20],  rotation='vertical')\n",
    "plt.xlabel('Date')\n",
    "plt.ylabel('Export')"
   ]
  },
  {
   "cell_type": "markdown",
   "metadata": {
    "id": "G8Peu3LN7_sj"
   },
   "source": [
    "Interest Rate"
   ]
  },
  {
   "cell_type": "code",
   "execution_count": null,
   "metadata": {
    "colab": {
     "base_uri": "https://localhost:8080/",
     "height": 361
    },
    "id": "McMurtTA7qJS",
    "outputId": "09201040-c96c-4c82-a4b4-2744a82efde6"
   },
   "outputs": [
    {
     "data": {
      "text/plain": [
       "Text(0, 0.5, 'Interest Rate')"
      ]
     },
     "execution_count": 9,
     "metadata": {},
     "output_type": "execute_result"
    },
    {
     "data": {
      "image/png": "[encoded data removed]",
      "text/plain": [
       "<Figure size 432x288 with 1 Axes>"
      ]
     },
     "metadata": {
      "needs_background": "light"
     },
     "output_type": "display_data"
    }
   ],
   "source": [
    "plt.plot(train_df['Date'],train_df['Interest Rate'])\n",
    "plt.title('Interest Rate Across Years')\n",
    "plt.xticks(train_df['Date'][::20],  rotation='vertical')\n",
    "plt.xlabel('Date')\n",
    "plt.ylabel('Interest Rate')"
   ]
  },
  {
   "cell_type": "markdown",
   "metadata": {
    "id": "0eigQCRCwhRt"
   },
   "source": [
    "# Regression Model"
   ]
  },
  {
   "cell_type": "code",
   "execution_count": null,
   "metadata": {
    "colab": {
     "base_uri": "https://localhost:8080/"
    },
    "id": "J857DZ3AtiCG",
    "outputId": "debcfe9d-4025-4d4b-a234-b467443b3620"
   },
   "outputs": [
    {
     "name": "stderr",
     "output_type": "stream",
     "text": [
      "/usr/local/lib/python3.7/dist-packages/statsmodels/tools/_testing.py:19: FutureWarning: pandas.util.testing is deprecated. Use the functions in the public API at pandas.testing instead.\n",
      "  import pandas.util.testing as tm\n"
     ]
    }
   ],
   "source": [
    "import statsmodels.api as sm"
   ]
  },
  {
   "cell_type": "code",
   "execution_count": null,
   "metadata": {
    "id": "ZdjmdFulwsij"
   },
   "outputs": [],
   "source": [
    "x=train_df[['Export']]"
   ]
  },
  {
   "cell_type": "code",
   "execution_count": null,
   "metadata": {
    "id": "4omovvRYxJtW"
   },
   "outputs": [],
   "source": [
    "y=train_df['Exchange_Rate']"
   ]
  },
  {
   "cell_type": "code",
   "execution_count": null,
   "metadata": {
    "colab": {
     "base_uri": "https://localhost:8080/"
    },
    "id": "oQNAmewWwmq4",
    "outputId": "564fa348-fc3a-420b-aded-30498dd62f84"
   },
   "outputs": [
    {
     "name": "stderr",
     "output_type": "stream",
     "text": [
      "/usr/local/lib/python3.7/dist-packages/statsmodels/tsa/tsatools.py:117: FutureWarning: In a future version of pandas all arguments of concat except for the argument 'objs' will be keyword-only\n",
      "  x = pd.concat(x[::order], 1)\n"
     ]
    },
    {
     "data": {
      "text/plain": [
       "array([ 8.07404677e+00, -8.15230515e-12])"
      ]
     },
     "execution_count": 13,
     "metadata": {},
     "output_type": "execute_result"
    }
   ],
   "source": [
    "xnew = sm.add_constant(x)\n",
    "model = sm.OLS(y,xnew)\n",
    "results = model.fit()\n",
    "np.array(results.params)"
   ]
  },
  {
   "cell_type": "code",
   "execution_count": null,
   "metadata": {
    "colab": {
     "base_uri": "https://localhost:8080/",
     "height": 476
    },
    "id": "jxig-QLBxYOg",
    "outputId": "5e0d8710-0e92-4fca-87d7-09de8401652d"
   },
   "outputs": [
    {
     "data": {
      "text/html": [
       "<table class=\"simpletable\">\n",
       "<caption>OLS Regression Results</caption>\n",
       "<tr>\n",
       "  <th>Dep. Variable:</th>      <td>Exchange_Rate</td>  <th>  R-squared:         </th> <td>   0.399</td>\n",
       "</tr>\n",
       "<tr>\n",
       "  <th>Model:</th>                   <td>OLS</td>       <th>  Adj. R-squared:    </th> <td>   0.397</td>\n",
       "</tr>\n",
       "<tr>\n",
       "  <th>Method:</th>             <td>Least Squares</td>  <th>  F-statistic:       </th> <td>   221.0</td>\n",
       "</tr>\n",
       "<tr>\n",
       "  <th>Date:</th>             <td>Mon, 18 Jul 2022</td> <th>  Prob (F-statistic):</th> <td>1.07e-38</td>\n",
       "</tr>\n",
       "<tr>\n",
       "  <th>Time:</th>                 <td>13:44:10</td>     <th>  Log-Likelihood:    </th> <td> -378.74</td>\n",
       "</tr>\n",
       "<tr>\n",
       "  <th>No. Observations:</th>      <td>   335</td>      <th>  AIC:               </th> <td>   761.5</td>\n",
       "</tr>\n",
       "<tr>\n",
       "  <th>Df Residuals:</th>          <td>   333</td>      <th>  BIC:               </th> <td>   769.1</td>\n",
       "</tr>\n",
       "<tr>\n",
       "  <th>Df Model:</th>              <td>     1</td>      <th>                     </th>     <td> </td>   \n",
       "</tr>\n",
       "<tr>\n",
       "  <th>Covariance Type:</th>      <td>nonrobust</td>    <th>                     </th>     <td> </td>   \n",
       "</tr>\n",
       "</table>\n",
       "<table class=\"simpletable\">\n",
       "<tr>\n",
       "     <td></td>       <th>coef</th>     <th>std err</th>      <th>t</th>      <th>P>|t|</th>  <th>[0.025</th>    <th>0.975]</th>  \n",
       "</tr>\n",
       "<tr>\n",
       "  <th>const</th>  <td>    8.0740</td> <td>    0.064</td> <td>  125.877</td> <td> 0.000</td> <td>    7.948</td> <td>    8.200</td>\n",
       "</tr>\n",
       "<tr>\n",
       "  <th>Export</th> <td>-8.152e-12</td> <td> 5.48e-13</td> <td>  -14.866</td> <td> 0.000</td> <td>-9.23e-12</td> <td>-7.07e-12</td>\n",
       "</tr>\n",
       "</table>\n",
       "<table class=\"simpletable\">\n",
       "<tr>\n",
       "  <th>Omnibus:</th>       <td>155.159</td> <th>  Durbin-Watson:     </th> <td>   0.057</td> \n",
       "</tr>\n",
       "<tr>\n",
       "  <th>Prob(Omnibus):</th> <td> 0.000</td>  <th>  Jarque-Bera (JB):  </th> <td> 526.032</td> \n",
       "</tr>\n",
       "<tr>\n",
       "  <th>Skew:</th>          <td>-2.151</td>  <th>  Prob(JB):          </th> <td>5.94e-115</td>\n",
       "</tr>\n",
       "<tr>\n",
       "  <th>Kurtosis:</th>      <td> 7.379</td>  <th>  Cond. No.          </th> <td>1.83e+11</td> \n",
       "</tr>\n",
       "</table><br/><br/>Warnings:<br/>[1] Standard Errors assume that the covariance matrix of the errors is correctly specified.<br/>[2] The condition number is large, 1.83e+11. This might indicate that there are<br/>strong multicollinearity or other numerical problems."
      ],
      "text/plain": [
       "<class 'statsmodels.iolib.summary.Summary'>\n",
       "\"\"\"\n",
       "                            OLS Regression Results                            \n",
       "==============================================================================\n",
       "Dep. Variable:          Exchange_Rate   R-squared:                       0.399\n",
       "Model:                            OLS   Adj. R-squared:                  0.397\n",
       "Method:                 Least Squares   F-statistic:                     221.0\n",
       "Date:                Mon, 18 Jul 2022   Prob (F-statistic):           1.07e-38\n",
       "Time:                        13:44:10   Log-Likelihood:                -378.74\n",
       "No. Observations:                 335   AIC:                             761.5\n",
       "Df Residuals:                     333   BIC:                             769.1\n",
       "Df Model:                           1                                         \n",
       "Covariance Type:            nonrobust                                         \n",
       "==============================================================================\n",
       "                 coef    std err          t      P>|t|      [0.025      0.975]\n",
       "------------------------------------------------------------------------------\n",
       "const          8.0740      0.064    125.877      0.000       7.948       8.200\n",
       "Export     -8.152e-12   5.48e-13    -14.866      0.000   -9.23e-12   -7.07e-12\n",
       "==============================================================================\n",
       "Omnibus:                      155.159   Durbin-Watson:                   0.057\n",
       "Prob(Omnibus):                  0.000   Jarque-Bera (JB):              526.032\n",
       "Skew:                          -2.151   Prob(JB):                    5.94e-115\n",
       "Kurtosis:                       7.379   Cond. No.                     1.83e+11\n",
       "==============================================================================\n",
       "\n",
       "Warnings:\n",
       "[1] Standard Errors assume that the covariance matrix of the errors is correctly specified.\n",
       "[2] The condition number is large, 1.83e+11. This might indicate that there are\n",
       "strong multicollinearity or other numerical problems.\n",
       "\"\"\""
      ]
     },
     "execution_count": 14,
     "metadata": {},
     "output_type": "execute_result"
    }
   ],
   "source": [
    "results.summary()"
   ]
  },
  {
   "cell_type": "markdown",
   "metadata": {
    "id": "zrgeHk8s8YnC"
   },
   "source": [
    "Coefficient is is negative which is logical and it is also statistically significant. "
   ]
  },
  {
   "cell_type": "code",
   "execution_count": null,
   "metadata": {
    "id": "0MkBNgdgR7l1"
   },
   "outputs": [],
   "source": [
    "x=train_df[['Export','CPI']]"
   ]
  },
  {
   "cell_type": "code",
   "execution_count": null,
   "metadata": {
    "id": "LQJNu9nPSG_F"
   },
   "outputs": [],
   "source": [
    "y=train_df['Exchange_Rate']"
   ]
  },
  {
   "cell_type": "code",
   "execution_count": null,
   "metadata": {
    "colab": {
     "base_uri": "https://localhost:8080/"
    },
    "id": "4HOOYAS2SI4d",
    "outputId": "23ea9453-e960-471d-b3d2-84056011dcc5"
   },
   "outputs": [
    {
     "name": "stderr",
     "output_type": "stream",
     "text": [
      "/usr/local/lib/python3.7/dist-packages/statsmodels/tsa/tsatools.py:117: FutureWarning: In a future version of pandas all arguments of concat except for the argument 'objs' will be keyword-only\n",
      "  x = pd.concat(x[::order], 1)\n"
     ]
    },
    {
     "data": {
      "text/plain": [
       "array([ 8.21170663e+00, -8.65531580e-12, -2.23884036e-02])"
      ]
     },
     "execution_count": 17,
     "metadata": {},
     "output_type": "execute_result"
    }
   ],
   "source": [
    "xnew = sm.add_constant(x)\n",
    "model = sm.OLS(y,xnew)\n",
    "results = model.fit()\n",
    "np.array(results.params)"
   ]
  },
  {
   "cell_type": "code",
   "execution_count": null,
   "metadata": {
    "colab": {
     "base_uri": "https://localhost:8080/",
     "height": 497
    },
    "id": "Uy0d9C00SI67",
    "outputId": "df7f031f-3839-4eeb-d540-3f722a1a4680"
   },
   "outputs": [
    {
     "data": {
      "text/html": [
       "<table class=\"simpletable\">\n",
       "<caption>OLS Regression Results</caption>\n",
       "<tr>\n",
       "  <th>Dep. Variable:</th>      <td>Exchange_Rate</td>  <th>  R-squared:         </th> <td>   0.416</td>\n",
       "</tr>\n",
       "<tr>\n",
       "  <th>Model:</th>                   <td>OLS</td>       <th>  Adj. R-squared:    </th> <td>   0.412</td>\n",
       "</tr>\n",
       "<tr>\n",
       "  <th>Method:</th>             <td>Least Squares</td>  <th>  F-statistic:       </th> <td>   118.1</td>\n",
       "</tr>\n",
       "<tr>\n",
       "  <th>Date:</th>             <td>Mon, 18 Jul 2022</td> <th>  Prob (F-statistic):</th> <td>1.86e-39</td>\n",
       "</tr>\n",
       "<tr>\n",
       "  <th>Time:</th>                 <td>13:44:10</td>     <th>  Log-Likelihood:    </th> <td> -374.02</td>\n",
       "</tr>\n",
       "<tr>\n",
       "  <th>No. Observations:</th>      <td>   335</td>      <th>  AIC:               </th> <td>   754.0</td>\n",
       "</tr>\n",
       "<tr>\n",
       "  <th>Df Residuals:</th>          <td>   332</td>      <th>  BIC:               </th> <td>   765.5</td>\n",
       "</tr>\n",
       "<tr>\n",
       "  <th>Df Model:</th>              <td>     2</td>      <th>                     </th>     <td> </td>   \n",
       "</tr>\n",
       "<tr>\n",
       "  <th>Covariance Type:</th>      <td>nonrobust</td>    <th>                     </th>     <td> </td>   \n",
       "</tr>\n",
       "</table>\n",
       "<table class=\"simpletable\">\n",
       "<tr>\n",
       "     <td></td>       <th>coef</th>     <th>std err</th>      <th>t</th>      <th>P>|t|</th>  <th>[0.025</th>    <th>0.975]</th>  \n",
       "</tr>\n",
       "<tr>\n",
       "  <th>const</th>  <td>    8.2117</td> <td>    0.077</td> <td>  105.962</td> <td> 0.000</td> <td>    8.059</td> <td>    8.364</td>\n",
       "</tr>\n",
       "<tr>\n",
       "  <th>Export</th> <td>-8.655e-12</td> <td> 5.66e-13</td> <td>  -15.304</td> <td> 0.000</td> <td>-9.77e-12</td> <td>-7.54e-12</td>\n",
       "</tr>\n",
       "<tr>\n",
       "  <th>CPI</th>    <td>   -0.0224</td> <td>    0.007</td> <td>   -3.083</td> <td> 0.002</td> <td>   -0.037</td> <td>   -0.008</td>\n",
       "</tr>\n",
       "</table>\n",
       "<table class=\"simpletable\">\n",
       "<tr>\n",
       "  <th>Omnibus:</th>       <td>139.450</td> <th>  Durbin-Watson:     </th> <td>   0.063</td>\n",
       "</tr>\n",
       "<tr>\n",
       "  <th>Prob(Omnibus):</th> <td> 0.000</td>  <th>  Jarque-Bera (JB):  </th> <td> 435.051</td>\n",
       "</tr>\n",
       "<tr>\n",
       "  <th>Skew:</th>          <td>-1.938</td>  <th>  Prob(JB):          </th> <td>3.39e-95</td>\n",
       "</tr>\n",
       "<tr>\n",
       "  <th>Kurtosis:</th>      <td> 7.018</td>  <th>  Cond. No.          </th> <td>2.24e+11</td>\n",
       "</tr>\n",
       "</table><br/><br/>Warnings:<br/>[1] Standard Errors assume that the covariance matrix of the errors is correctly specified.<br/>[2] The condition number is large, 2.24e+11. This might indicate that there are<br/>strong multicollinearity or other numerical problems."
      ],
      "text/plain": [
       "<class 'statsmodels.iolib.summary.Summary'>\n",
       "\"\"\"\n",
       "                            OLS Regression Results                            \n",
       "==============================================================================\n",
       "Dep. Variable:          Exchange_Rate   R-squared:                       0.416\n",
       "Model:                            OLS   Adj. R-squared:                  0.412\n",
       "Method:                 Least Squares   F-statistic:                     118.1\n",
       "Date:                Mon, 18 Jul 2022   Prob (F-statistic):           1.86e-39\n",
       "Time:                        13:44:10   Log-Likelihood:                -374.02\n",
       "No. Observations:                 335   AIC:                             754.0\n",
       "Df Residuals:                     332   BIC:                             765.5\n",
       "Df Model:                           2                                         \n",
       "Covariance Type:            nonrobust                                         \n",
       "==============================================================================\n",
       "                 coef    std err          t      P>|t|      [0.025      0.975]\n",
       "------------------------------------------------------------------------------\n",
       "const          8.2117      0.077    105.962      0.000       8.059       8.364\n",
       "Export     -8.655e-12   5.66e-13    -15.304      0.000   -9.77e-12   -7.54e-12\n",
       "CPI           -0.0224      0.007     -3.083      0.002      -0.037      -0.008\n",
       "==============================================================================\n",
       "Omnibus:                      139.450   Durbin-Watson:                   0.063\n",
       "Prob(Omnibus):                  0.000   Jarque-Bera (JB):              435.051\n",
       "Skew:                          -1.938   Prob(JB):                     3.39e-95\n",
       "Kurtosis:                       7.018   Cond. No.                     2.24e+11\n",
       "==============================================================================\n",
       "\n",
       "Warnings:\n",
       "[1] Standard Errors assume that the covariance matrix of the errors is correctly specified.\n",
       "[2] The condition number is large, 2.24e+11. This might indicate that there are\n",
       "strong multicollinearity or other numerical problems.\n",
       "\"\"\""
      ]
     },
     "execution_count": 18,
     "metadata": {},
     "output_type": "execute_result"
    }
   ],
   "source": [
    "results.summary()"
   ]
  },
  {
   "cell_type": "markdown",
   "metadata": {
    "id": "FPZs1Au68vKc"
   },
   "source": [
    "Both coefficients are statistically significant"
   ]
  },
  {
   "cell_type": "code",
   "execution_count": null,
   "metadata": {
    "id": "C1dyKsCPSWNN"
   },
   "outputs": [],
   "source": [
    "x=train_df[['Export','CPI','FDI in % of GDP']]"
   ]
  },
  {
   "cell_type": "code",
   "execution_count": null,
   "metadata": {
    "id": "jkvVO5eLSgrN"
   },
   "outputs": [],
   "source": [
    "y=train_df['Exchange_Rate']"
   ]
  },
  {
   "cell_type": "code",
   "execution_count": null,
   "metadata": {
    "colab": {
     "base_uri": "https://localhost:8080/"
    },
    "id": "NW4G6EC-Sg-s",
    "outputId": "376f8bae-dd87-446d-c439-66cb71db6bca"
   },
   "outputs": [
    {
     "name": "stderr",
     "output_type": "stream",
     "text": [
      "/usr/local/lib/python3.7/dist-packages/statsmodels/tsa/tsatools.py:117: FutureWarning: In a future version of pandas all arguments of concat except for the argument 'objs' will be keyword-only\n",
      "  x = pd.concat(x[::order], 1)\n"
     ]
    },
    {
     "data": {
      "text/plain": [
       "array([ 7.61392913e+00, -7.18270273e-12, -3.43959357e-02,  1.45597557e-01])"
      ]
     },
     "execution_count": 21,
     "metadata": {},
     "output_type": "execute_result"
    }
   ],
   "source": [
    "xnew = sm.add_constant(x)\n",
    "model = sm.OLS(y,xnew)\n",
    "results = model.fit()\n",
    "np.array(results.params)"
   ]
  },
  {
   "cell_type": "code",
   "execution_count": null,
   "metadata": {
    "colab": {
     "base_uri": "https://localhost:8080/",
     "height": 518
    },
    "id": "isJUXtGFShB0",
    "outputId": "4d723bcc-75ad-4d52-8b68-1be3d29ce6a6"
   },
   "outputs": [
    {
     "data": {
      "text/html": [
       "<table class=\"simpletable\">\n",
       "<caption>OLS Regression Results</caption>\n",
       "<tr>\n",
       "  <th>Dep. Variable:</th>      <td>Exchange_Rate</td>  <th>  R-squared:         </th> <td>   0.428</td>\n",
       "</tr>\n",
       "<tr>\n",
       "  <th>Model:</th>                   <td>OLS</td>       <th>  Adj. R-squared:    </th> <td>   0.422</td>\n",
       "</tr>\n",
       "<tr>\n",
       "  <th>Method:</th>             <td>Least Squares</td>  <th>  F-statistic:       </th> <td>   82.42</td>\n",
       "</tr>\n",
       "<tr>\n",
       "  <th>Date:</th>             <td>Mon, 18 Jul 2022</td> <th>  Prob (F-statistic):</th> <td>7.59e-40</td>\n",
       "</tr>\n",
       "<tr>\n",
       "  <th>Time:</th>                 <td>13:44:10</td>     <th>  Log-Likelihood:    </th> <td> -370.55</td>\n",
       "</tr>\n",
       "<tr>\n",
       "  <th>No. Observations:</th>      <td>   335</td>      <th>  AIC:               </th> <td>   749.1</td>\n",
       "</tr>\n",
       "<tr>\n",
       "  <th>Df Residuals:</th>          <td>   331</td>      <th>  BIC:               </th> <td>   764.4</td>\n",
       "</tr>\n",
       "<tr>\n",
       "  <th>Df Model:</th>              <td>     3</td>      <th>                     </th>     <td> </td>   \n",
       "</tr>\n",
       "<tr>\n",
       "  <th>Covariance Type:</th>      <td>nonrobust</td>    <th>                     </th>     <td> </td>   \n",
       "</tr>\n",
       "</table>\n",
       "<table class=\"simpletable\">\n",
       "<tr>\n",
       "         <td></td>            <th>coef</th>     <th>std err</th>      <th>t</th>      <th>P>|t|</th>  <th>[0.025</th>    <th>0.975]</th>  \n",
       "</tr>\n",
       "<tr>\n",
       "  <th>const</th>           <td>    7.6139</td> <td>    0.240</td> <td>   31.729</td> <td> 0.000</td> <td>    7.142</td> <td>    8.086</td>\n",
       "</tr>\n",
       "<tr>\n",
       "  <th>Export</th>          <td>-7.183e-12</td> <td> 7.92e-13</td> <td>   -9.064</td> <td> 0.000</td> <td>-8.74e-12</td> <td>-5.62e-12</td>\n",
       "</tr>\n",
       "<tr>\n",
       "  <th>CPI</th>             <td>   -0.0344</td> <td>    0.009</td> <td>   -4.035</td> <td> 0.000</td> <td>   -0.051</td> <td>   -0.018</td>\n",
       "</tr>\n",
       "<tr>\n",
       "  <th>FDI in % of GDP</th> <td>    0.1456</td> <td>    0.055</td> <td>    2.629</td> <td> 0.009</td> <td>    0.037</td> <td>    0.255</td>\n",
       "</tr>\n",
       "</table>\n",
       "<table class=\"simpletable\">\n",
       "<tr>\n",
       "  <th>Omnibus:</th>       <td>119.824</td> <th>  Durbin-Watson:     </th> <td>   0.066</td>\n",
       "</tr>\n",
       "<tr>\n",
       "  <th>Prob(Omnibus):</th> <td> 0.000</td>  <th>  Jarque-Bera (JB):  </th> <td> 311.441</td>\n",
       "</tr>\n",
       "<tr>\n",
       "  <th>Skew:</th>          <td>-1.731</td>  <th>  Prob(JB):          </th> <td>2.35e-68</td>\n",
       "</tr>\n",
       "<tr>\n",
       "  <th>Kurtosis:</th>      <td> 6.213</td>  <th>  Cond. No.          </th> <td>7.15e+11</td>\n",
       "</tr>\n",
       "</table><br/><br/>Warnings:<br/>[1] Standard Errors assume that the covariance matrix of the errors is correctly specified.<br/>[2] The condition number is large, 7.15e+11. This might indicate that there are<br/>strong multicollinearity or other numerical problems."
      ],
      "text/plain": [
       "<class 'statsmodels.iolib.summary.Summary'>\n",
       "\"\"\"\n",
       "                            OLS Regression Results                            \n",
       "==============================================================================\n",
       "Dep. Variable:          Exchange_Rate   R-squared:                       0.428\n",
       "Model:                            OLS   Adj. R-squared:                  0.422\n",
       "Method:                 Least Squares   F-statistic:                     82.42\n",
       "Date:                Mon, 18 Jul 2022   Prob (F-statistic):           7.59e-40\n",
       "Time:                        13:44:10   Log-Likelihood:                -370.55\n",
       "No. Observations:                 335   AIC:                             749.1\n",
       "Df Residuals:                     331   BIC:                             764.4\n",
       "Df Model:                           3                                         \n",
       "Covariance Type:            nonrobust                                         \n",
       "===================================================================================\n",
       "                      coef    std err          t      P>|t|      [0.025      0.975]\n",
       "-----------------------------------------------------------------------------------\n",
       "const               7.6139      0.240     31.729      0.000       7.142       8.086\n",
       "Export          -7.183e-12   7.92e-13     -9.064      0.000   -8.74e-12   -5.62e-12\n",
       "CPI                -0.0344      0.009     -4.035      0.000      -0.051      -0.018\n",
       "FDI in % of GDP     0.1456      0.055      2.629      0.009       0.037       0.255\n",
       "==============================================================================\n",
       "Omnibus:                      119.824   Durbin-Watson:                   0.066\n",
       "Prob(Omnibus):                  0.000   Jarque-Bera (JB):              311.441\n",
       "Skew:                          -1.731   Prob(JB):                     2.35e-68\n",
       "Kurtosis:                       6.213   Cond. No.                     7.15e+11\n",
       "==============================================================================\n",
       "\n",
       "Warnings:\n",
       "[1] Standard Errors assume that the covariance matrix of the errors is correctly specified.\n",
       "[2] The condition number is large, 7.15e+11. This might indicate that there are\n",
       "strong multicollinearity or other numerical problems.\n",
       "\"\"\""
      ]
     },
     "execution_count": 22,
     "metadata": {},
     "output_type": "execute_result"
    }
   ],
   "source": [
    "results.summary()"
   ]
  },
  {
   "cell_type": "code",
   "execution_count": null,
   "metadata": {
    "id": "IJA2UQQUSohv"
   },
   "outputs": [],
   "source": [
    "x=train_df[['Export','CPI','FDI in % of GDP','Interest Rate']][:-30]"
   ]
  },
  {
   "cell_type": "code",
   "execution_count": null,
   "metadata": {
    "colab": {
     "base_uri": "https://localhost:8080/"
    },
    "id": "ktfsaO-Lzjk1",
    "outputId": "255670a2-12e4-441e-f2f0-f39268aa63e7"
   },
   "outputs": [
    {
     "data": {
      "text/plain": [
       "(305, 4)"
      ]
     },
     "execution_count": 24,
     "metadata": {},
     "output_type": "execute_result"
    }
   ],
   "source": [
    "x.shape"
   ]
  },
  {
   "cell_type": "code",
   "execution_count": null,
   "metadata": {
    "id": "NoTXwSKayhLV"
   },
   "outputs": [],
   "source": [
    "test_x=train_df[['Export','CPI','FDI in % of GDP','Interest Rate']][-30:]"
   ]
  },
  {
   "cell_type": "code",
   "execution_count": null,
   "metadata": {
    "colab": {
     "base_uri": "https://localhost:8080/"
    },
    "id": "hGwc5e6uzmud",
    "outputId": "6027ea8e-810b-44cc-986f-d11aebcca4e3"
   },
   "outputs": [
    {
     "data": {
      "text/plain": [
       "(30, 4)"
      ]
     },
     "execution_count": 26,
     "metadata": {},
     "output_type": "execute_result"
    }
   ],
   "source": [
    "test_x.shape"
   ]
  },
  {
   "cell_type": "code",
   "execution_count": null,
   "metadata": {
    "id": "8vED1wjmS7_F"
   },
   "outputs": [],
   "source": [
    "y=train_df['Exchange_Rate'][:-30]"
   ]
  },
  {
   "cell_type": "code",
   "execution_count": null,
   "metadata": {
    "id": "j5eSQYqSy1yV"
   },
   "outputs": [],
   "source": [
    "test_y=train_df['Exchange_Rate'][-30:]"
   ]
  },
  {
   "cell_type": "code",
   "execution_count": null,
   "metadata": {
    "colab": {
     "base_uri": "https://localhost:8080/"
    },
    "id": "QtW7iZxYS-00",
    "outputId": "173740c0-38d7-4172-8390-430a3f79c07e"
   },
   "outputs": [
    {
     "name": "stderr",
     "output_type": "stream",
     "text": [
      "/usr/local/lib/python3.7/dist-packages/statsmodels/tsa/tsatools.py:117: FutureWarning: In a future version of pandas all arguments of concat except for the argument 'objs' will be keyword-only\n",
      "  x = pd.concat(x[::order], 1)\n"
     ]
    },
    {
     "data": {
      "text/plain": [
       "array([ 7.09291971e+00, -7.26909783e-12, -2.94396622e-02,  2.52628572e-01,\n",
       "        3.23279454e-02])"
      ]
     },
     "execution_count": 29,
     "metadata": {},
     "output_type": "execute_result"
    }
   ],
   "source": [
    "xnew = sm.add_constant(x)\n",
    "model = sm.OLS(y,xnew)\n",
    "results = model.fit()\n",
    "np.array(results.params)"
   ]
  },
  {
   "cell_type": "code",
   "execution_count": null,
   "metadata": {
    "colab": {
     "base_uri": "https://localhost:8080/",
     "height": 539
    },
    "id": "LV9nzDjQTBWV",
    "outputId": "1b5e8408-3e19-4453-8b15-d8e6f2415d0c"
   },
   "outputs": [
    {
     "data": {
      "text/html": [
       "<table class=\"simpletable\">\n",
       "<caption>OLS Regression Results</caption>\n",
       "<tr>\n",
       "  <th>Dep. Variable:</th>      <td>Exchange_Rate</td>  <th>  R-squared:         </th> <td>   0.446</td>\n",
       "</tr>\n",
       "<tr>\n",
       "  <th>Model:</th>                   <td>OLS</td>       <th>  Adj. R-squared:    </th> <td>   0.439</td>\n",
       "</tr>\n",
       "<tr>\n",
       "  <th>Method:</th>             <td>Least Squares</td>  <th>  F-statistic:       </th> <td>   60.49</td>\n",
       "</tr>\n",
       "<tr>\n",
       "  <th>Date:</th>             <td>Mon, 18 Jul 2022</td> <th>  Prob (F-statistic):</th> <td>2.03e-37</td>\n",
       "</tr>\n",
       "<tr>\n",
       "  <th>Time:</th>                 <td>13:44:10</td>     <th>  Log-Likelihood:    </th> <td> -339.62</td>\n",
       "</tr>\n",
       "<tr>\n",
       "  <th>No. Observations:</th>      <td>   305</td>      <th>  AIC:               </th> <td>   689.2</td>\n",
       "</tr>\n",
       "<tr>\n",
       "  <th>Df Residuals:</th>          <td>   300</td>      <th>  BIC:               </th> <td>   707.8</td>\n",
       "</tr>\n",
       "<tr>\n",
       "  <th>Df Model:</th>              <td>     4</td>      <th>                     </th>     <td> </td>   \n",
       "</tr>\n",
       "<tr>\n",
       "  <th>Covariance Type:</th>      <td>nonrobust</td>    <th>                     </th>     <td> </td>   \n",
       "</tr>\n",
       "</table>\n",
       "<table class=\"simpletable\">\n",
       "<tr>\n",
       "         <td></td>            <th>coef</th>     <th>std err</th>      <th>t</th>      <th>P>|t|</th>  <th>[0.025</th>    <th>0.975]</th>  \n",
       "</tr>\n",
       "<tr>\n",
       "  <th>const</th>           <td>    7.0929</td> <td>    0.283</td> <td>   25.093</td> <td> 0.000</td> <td>    6.537</td> <td>    7.649</td>\n",
       "</tr>\n",
       "<tr>\n",
       "  <th>Export</th>          <td>-7.269e-12</td> <td> 8.44e-13</td> <td>   -8.613</td> <td> 0.000</td> <td>-8.93e-12</td> <td>-5.61e-12</td>\n",
       "</tr>\n",
       "<tr>\n",
       "  <th>CPI</th>             <td>   -0.0294</td> <td>    0.013</td> <td>   -2.329</td> <td> 0.021</td> <td>   -0.054</td> <td>   -0.005</td>\n",
       "</tr>\n",
       "<tr>\n",
       "  <th>FDI in % of GDP</th> <td>    0.2526</td> <td>    0.061</td> <td>    4.165</td> <td> 0.000</td> <td>    0.133</td> <td>    0.372</td>\n",
       "</tr>\n",
       "<tr>\n",
       "  <th>Interest Rate</th>   <td>    0.0323</td> <td>    0.020</td> <td>    1.639</td> <td> 0.102</td> <td>   -0.006</td> <td>    0.071</td>\n",
       "</tr>\n",
       "</table>\n",
       "<table class=\"simpletable\">\n",
       "<tr>\n",
       "  <th>Omnibus:</th>       <td>108.207</td> <th>  Durbin-Watson:     </th> <td>   0.077</td>\n",
       "</tr>\n",
       "<tr>\n",
       "  <th>Prob(Omnibus):</th> <td> 0.000</td>  <th>  Jarque-Bera (JB):  </th> <td> 276.476</td>\n",
       "</tr>\n",
       "<tr>\n",
       "  <th>Skew:</th>          <td>-1.702</td>  <th>  Prob(JB):          </th> <td>9.21e-61</td>\n",
       "</tr>\n",
       "<tr>\n",
       "  <th>Kurtosis:</th>      <td> 6.189</td>  <th>  Cond. No.          </th> <td>7.06e+11</td>\n",
       "</tr>\n",
       "</table><br/><br/>Warnings:<br/>[1] Standard Errors assume that the covariance matrix of the errors is correctly specified.<br/>[2] The condition number is large, 7.06e+11. This might indicate that there are<br/>strong multicollinearity or other numerical problems."
      ],
      "text/plain": [
       "<class 'statsmodels.iolib.summary.Summary'>\n",
       "\"\"\"\n",
       "                            OLS Regression Results                            \n",
       "==============================================================================\n",
       "Dep. Variable:          Exchange_Rate   R-squared:                       0.446\n",
       "Model:                            OLS   Adj. R-squared:                  0.439\n",
       "Method:                 Least Squares   F-statistic:                     60.49\n",
       "Date:                Mon, 18 Jul 2022   Prob (F-statistic):           2.03e-37\n",
       "Time:                        13:44:10   Log-Likelihood:                -339.62\n",
       "No. Observations:                 305   AIC:                             689.2\n",
       "Df Residuals:                     300   BIC:                             707.8\n",
       "Df Model:                           4                                         \n",
       "Covariance Type:            nonrobust                                         \n",
       "===================================================================================\n",
       "                      coef    std err          t      P>|t|      [0.025      0.975]\n",
       "-----------------------------------------------------------------------------------\n",
       "const               7.0929      0.283     25.093      0.000       6.537       7.649\n",
       "Export          -7.269e-12   8.44e-13     -8.613      0.000   -8.93e-12   -5.61e-12\n",
       "CPI                -0.0294      0.013     -2.329      0.021      -0.054      -0.005\n",
       "FDI in % of GDP     0.2526      0.061      4.165      0.000       0.133       0.372\n",
       "Interest Rate       0.0323      0.020      1.639      0.102      -0.006       0.071\n",
       "==============================================================================\n",
       "Omnibus:                      108.207   Durbin-Watson:                   0.077\n",
       "Prob(Omnibus):                  0.000   Jarque-Bera (JB):              276.476\n",
       "Skew:                          -1.702   Prob(JB):                     9.21e-61\n",
       "Kurtosis:                       6.189   Cond. No.                     7.06e+11\n",
       "==============================================================================\n",
       "\n",
       "Warnings:\n",
       "[1] Standard Errors assume that the covariance matrix of the errors is correctly specified.\n",
       "[2] The condition number is large, 7.06e+11. This might indicate that there are\n",
       "strong multicollinearity or other numerical problems.\n",
       "\"\"\""
      ]
     },
     "execution_count": 30,
     "metadata": {},
     "output_type": "execute_result"
    }
   ],
   "source": [
    "results.summary()"
   ]
  },
  {
   "cell_type": "markdown",
   "metadata": {
    "id": "gQ7g5vuFzniC"
   },
   "source": [
    "Finding VIF"
   ]
  },
  {
   "cell_type": "code",
   "execution_count": null,
   "metadata": {
    "id": "p0NGC4RVxfAZ"
   },
   "outputs": [],
   "source": [
    "from statsmodels.stats.outliers_influence import variance_inflation_factor"
   ]
  },
  {
   "cell_type": "code",
   "execution_count": null,
   "metadata": {
    "id": "6OXMaBbjznAZ"
   },
   "outputs": [],
   "source": [
    "vif_data = pd.DataFrame()\n",
    "vif_data[\"feature\"] = x.columns\n",
    "  \n",
    "# calculating VIF for each feature\n",
    "vif_data[\"VIF\"] = [variance_inflation_factor(x.values, i)\n",
    "                          for i in range(len(x.columns))]"
   ]
  },
  {
   "cell_type": "code",
   "execution_count": null,
   "metadata": {
    "colab": {
     "base_uri": "https://localhost:8080/",
     "height": 175
    },
    "id": "tW81Gm6Qzwb4",
    "outputId": "0e163411-f825-4a18-eaf3-0bf80e87b231"
   },
   "outputs": [
    {
     "data": {
      "text/html": [
       "\n",
       "  <div id=\"df-a0e1b811-7a7f-4ac9-afd4-a6d6003b5c3c\">\n",
       "    <div class=\"colab-df-container\">\n",
       "      <div>\n",
       "<style scoped>\n",
       "    .dataframe tbody tr th:only-of-type {\n",
       "        vertical-align: middle;\n",
       "    }\n",
       "\n",
       "    .dataframe tbody tr th {\n",
       "        vertical-align: top;\n",
       "    }\n",
       "\n",
       "    .dataframe thead th {\n",
       "        text-align: right;\n",
       "    }\n",
       "</style>\n",
       "<table border=\"1\" class=\"dataframe\">\n",
       "  <thead>\n",
       "    <tr style=\"text-align: right;\">\n",
       "      <th></th>\n",
       "      <th>feature</th>\n",
       "      <th>VIF</th>\n",
       "    </tr>\n",
       "  </thead>\n",
       "  <tbody>\n",
       "    <tr>\n",
       "      <th>0</th>\n",
       "      <td>Export</td>\n",
       "      <td>1.680034</td>\n",
       "    </tr>\n",
       "    <tr>\n",
       "      <th>1</th>\n",
       "      <td>CPI</td>\n",
       "      <td>4.888976</td>\n",
       "    </tr>\n",
       "    <tr>\n",
       "      <th>2</th>\n",
       "      <td>FDI in % of GDP</td>\n",
       "      <td>5.700819</td>\n",
       "    </tr>\n",
       "    <tr>\n",
       "      <th>3</th>\n",
       "      <td>Interest Rate</td>\n",
       "      <td>2.897942</td>\n",
       "    </tr>\n",
       "  </tbody>\n",
       "</table>\n",
       "</div>\n",
       "      <button class=\"colab-df-convert\" onclick=\"convertToInteractive('df-a0e1b811-7a7f-4ac9-afd4-a6d6003b5c3c')\"\n",
       "              title=\"Convert this dataframe to an interactive table.\"\n",
       "              style=\"display:none;\">\n",
       "        \n",
       "  <svg xmlns=\"http://www.w3.org/2000/svg\" height=\"24px\"viewBox=\"0 0 24 24\"\n",
       "       width=\"24px\">\n",
       "    <path d=\"M0 0h24v24H0V0z\" fill=\"none\"/>\n",
       "    <path d=\"M18.56 5.44l.94 2.06.94-2.06 2.06-.94-2.06-.94-.94-2.06-.94 2.06-2.06.94zm-11 1L8.5 8.5l.94-2.06 2.06-.94-2.06-.94L8.5 2.5l-.94 2.06-2.06.94zm10 10l.94 2.06.94-2.06 2.06-.94-2.06-.94-.94-2.06-.94 2.06-2.06.94z\"/><path d=\"M17.41 7.96l-1.37-1.37c-.4-.4-.92-.59-1.43-.59-.52 0-1.04.2-1.43.59L10.3 9.45l-7.72 7.72c-.78.78-.78 2.05 0 2.83L4 21.41c.39.39.9.59 1.41.59.51 0 1.02-.2 1.41-.59l7.78-7.78 2.81-2.81c.8-.78.8-2.07 0-2.86zM5.41 20L4 18.59l7.72-7.72 1.47 1.35L5.41 20z\"/>\n",
       "  </svg>\n",
       "      </button>\n",
       "      \n",
       "  <style>\n",
       "    .colab-df-container {\n",
       "      display:flex;\n",
       "      flex-wrap:wrap;\n",
       "      gap: 12px;\n",
       "    }\n",
       "\n",
       "    .colab-df-convert {\n",
       "      background-color: #E8F0FE;\n",
       "      border: none;\n",
       "      border-radius: 50%;\n",
       "      cursor: pointer;\n",
       "      display: none;\n",
       "      fill: #1967D2;\n",
       "      height: 32px;\n",
       "      padding: 0 0 0 0;\n",
       "      width: 32px;\n",
       "    }\n",
       "\n",
       "    .colab-df-convert:hover {\n",
       "      background-color: #E2EBFA;\n",
       "      box-shadow: 0px 1px 2px rgba(60, 64, 67, 0.3), 0px 1px 3px 1px rgba(60, 64, 67, 0.15);\n",
       "      fill: #174EA6;\n",
       "    }\n",
       "\n",
       "    [theme=dark] .colab-df-convert {\n",
       "      background-color: #3B4455;\n",
       "      fill: #D2E3FC;\n",
       "    }\n",
       "\n",
       "    [theme=dark] .colab-df-convert:hover {\n",
       "      background-color: #434B5C;\n",
       "      box-shadow: 0px 1px 3px 1px rgba(0, 0, 0, 0.15);\n",
       "      filter: drop-shadow(0px 1px 2px rgba(0, 0, 0, 0.3));\n",
       "      fill: #FFFFFF;\n",
       "    }\n",
       "  </style>\n",
       "\n",
       "      <script>\n",
       "        const buttonEl =\n",
       "          document.querySelector('#df-a0e1b811-7a7f-4ac9-afd4-a6d6003b5c3c button.colab-df-convert');\n",
       "        buttonEl.style.display =\n",
       "          google.colab.kernel.accessAllowed ? 'block' : 'none';\n",
       "\n",
       "        async function convertToInteractive(key) {\n",
       "          const element = document.querySelector('#df-a0e1b811-7a7f-4ac9-afd4-a6d6003b5c3c');\n",
       "          const dataTable =\n",
       "            await google.colab.kernel.invokeFunction('convertToInteractive',\n",
       "                                                     [key], {});\n",
       "          if (!dataTable) return;\n",
       "\n",
       "          const docLinkHtml = 'Like what you see? Visit the ' +\n",
       "            '<a target=\"_blank\" href=https://colab.research.google.com/notebooks/data_table.ipynb>data table notebook</a>'\n",
       "            + ' to learn more about interactive tables.';\n",
       "          element.innerHTML = '';\n",
       "          dataTable['output_type'] = 'display_data';\n",
       "          await google.colab.output.renderOutput(dataTable, element);\n",
       "          const docLink = document.createElement('div');\n",
       "          docLink.innerHTML = docLinkHtml;\n",
       "          element.appendChild(docLink);\n",
       "        }\n",
       "      </script>\n",
       "    </div>\n",
       "  </div>\n",
       "  "
      ],
      "text/plain": [
       "           feature       VIF\n",
       "0           Export  1.680034\n",
       "1              CPI  4.888976\n",
       "2  FDI in % of GDP  5.700819\n",
       "3    Interest Rate  2.897942"
      ]
     },
     "execution_count": 33,
     "metadata": {},
     "output_type": "execute_result"
    }
   ],
   "source": [
    "vif_data"
   ]
  },
  {
   "cell_type": "markdown",
   "metadata": {
    "id": "S_V_BYYvz54O"
   },
   "source": [
    "VIF is below 10 so no multicollinearity"
   ]
  },
  {
   "cell_type": "markdown",
   "metadata": {
    "id": "9Z0OfSzv2Ugm"
   },
   "source": [
    "# Evaluation"
   ]
  },
  {
   "cell_type": "code",
   "execution_count": null,
   "metadata": {
    "id": "G7eneT_W1GjP"
   },
   "outputs": [],
   "source": [
    "y_pred=7.0929+-0.0294*x['CPI']+0.2526*x['FDI in % of GDP']+0.0323*x['Interest Rate']"
   ]
  },
  {
   "cell_type": "code",
   "execution_count": null,
   "metadata": {
    "id": "jAmGsPil1G0o"
   },
   "outputs": [],
   "source": [
    "from sklearn.metrics import mean_squared_error\n",
    "from math import sqrt\n",
    "\n",
    "rms = sqrt(mean_squared_error(y, y_pred))"
   ]
  },
  {
   "cell_type": "code",
   "execution_count": null,
   "metadata": {
    "colab": {
     "base_uri": "https://localhost:8080/"
    },
    "id": "xfDPnbG2i38I",
    "outputId": "e39316f4-0a4a-40a6-fa4d-a788cc0f206e"
   },
   "outputs": [
    {
     "name": "stdout",
     "output_type": "stream",
     "text": [
      "RMSE:  1.057265259161642\n"
     ]
    }
   ],
   "source": [
    "print('RMSE: ',rms)"
   ]
  },
  {
   "cell_type": "markdown",
   "metadata": {
    "id": "gU7AibWYZrIa"
   },
   "source": [
    "Random walk Model"
   ]
  },
  {
   "cell_type": "code",
   "execution_count": null,
   "metadata": {
    "id": "keMPEdK-uEiA"
   },
   "outputs": [],
   "source": [
    "from statsmodels.tsa.arima_model import ARIMA"
   ]
  },
  {
   "cell_type": "code",
   "execution_count": null,
   "metadata": {
    "id": "L0zvoQtiuJUg"
   },
   "outputs": [],
   "source": [
    "train=train_df['Exchange_Rate'][:-30]\n",
    "test=train_df['Exchange_Rate'][-30:]"
   ]
  },
  {
   "cell_type": "code",
   "execution_count": null,
   "metadata": {
    "id": "XyD3ifflPa2B"
   },
   "outputs": [],
   "source": [
    "model=ARIMA(train,order=(0,1,0))"
   ]
  },
  {
   "cell_type": "code",
   "execution_count": null,
   "metadata": {
    "colab": {
     "base_uri": "https://localhost:8080/",
     "height": 244
    },
    "id": "I2JELv1fP1UC",
    "outputId": "aefa8e42-caf6-449f-dc9a-3df325a2015a"
   },
   "outputs": [
    {
     "name": "stderr",
     "output_type": "stream",
     "text": [
      "/usr/local/lib/python3.7/dist-packages/statsmodels/base/model.py:512: ConvergenceWarning: Maximum Likelihood optimization failed to converge. Check mle_retvals\n",
      "  \"Check mle_retvals\", ConvergenceWarning)\n"
     ]
    },
    {
     "data": {
      "text/html": [
       "<table class=\"simpletable\">\n",
       "<caption>ARIMA Model Results</caption>\n",
       "<tr>\n",
       "  <th>Dep. Variable:</th>  <td>D.Exchange_Rate</td> <th>  No. Observations:  </th>    <td>304</td>  \n",
       "</tr>\n",
       "<tr>\n",
       "  <th>Model:</th>          <td>ARIMA(0, 1, 0)</td>  <th>  Log Likelihood     </th>  <td>108.345</td>\n",
       "</tr>\n",
       "<tr>\n",
       "  <th>Method:</th>               <td>css</td>       <th>  S.D. of innovations</th>   <td>0.169</td> \n",
       "</tr>\n",
       "<tr>\n",
       "  <th>Date:</th>          <td>Mon, 18 Jul 2022</td> <th>  AIC                </th> <td>-212.689</td>\n",
       "</tr>\n",
       "<tr>\n",
       "  <th>Time:</th>              <td>13:44:10</td>     <th>  BIC                </th> <td>-205.255</td>\n",
       "</tr>\n",
       "<tr>\n",
       "  <th>Sample:</th>                <td>1</td>        <th>  HQIC               </th> <td>-209.715</td>\n",
       "</tr>\n",
       "<tr>\n",
       "  <th></th>                       <td> </td>        <th>                     </th>     <td> </td>   \n",
       "</tr>\n",
       "</table>\n",
       "<table class=\"simpletable\">\n",
       "<tr>\n",
       "    <td></td>       <th>coef</th>     <th>std err</th>      <th>z</th>      <th>P>|z|</th>  <th>[0.025</th>    <th>0.975]</th>  \n",
       "</tr>\n",
       "<tr>\n",
       "  <th>const</th> <td>    0.0047</td> <td>    0.010</td> <td>    0.482</td> <td> 0.630</td> <td>   -0.014</td> <td>    0.024</td>\n",
       "</tr>\n",
       "</table>"
      ],
      "text/plain": [
       "<class 'statsmodels.iolib.summary.Summary'>\n",
       "\"\"\"\n",
       "                             ARIMA Model Results                              \n",
       "==============================================================================\n",
       "Dep. Variable:        D.Exchange_Rate   No. Observations:                  304\n",
       "Model:                 ARIMA(0, 1, 0)   Log Likelihood                 108.345\n",
       "Method:                           css   S.D. of innovations              0.169\n",
       "Date:                Mon, 18 Jul 2022   AIC                           -212.689\n",
       "Time:                        13:44:10   BIC                           -205.255\n",
       "Sample:                             1   HQIC                          -209.715\n",
       "                                                                              \n",
       "==============================================================================\n",
       "                 coef    std err          z      P>|z|      [0.025      0.975]\n",
       "------------------------------------------------------------------------------\n",
       "const          0.0047      0.010      0.482      0.630      -0.014       0.024\n",
       "==============================================================================\n",
       "\"\"\""
      ]
     },
     "execution_count": 40,
     "metadata": {},
     "output_type": "execute_result"
    }
   ],
   "source": [
    "model=model.fit()\n",
    "model.summary()"
   ]
  },
  {
   "cell_type": "code",
   "execution_count": null,
   "metadata": {
    "colab": {
     "base_uri": "https://localhost:8080/"
    },
    "id": "5b2-Xiw3P8hC",
    "outputId": "0e5512ef-5190-4c67-824b-6c414ca07723"
   },
   "outputs": [
    {
     "data": {
      "text/plain": [
       "305    6.888979\n",
       "306    6.893659\n",
       "307    6.898338\n",
       "308    6.903017\n",
       "309    6.907696\n",
       "310    6.912376\n",
       "311    6.917055\n",
       "312    6.921734\n",
       "313    6.926413\n",
       "314    6.931093\n",
       "315    6.935772\n",
       "316    6.940451\n",
       "317    6.945131\n",
       "318    6.949810\n",
       "319    6.954489\n",
       "320    6.959168\n",
       "321    6.963848\n",
       "322    6.968527\n",
       "323    6.973206\n",
       "324    6.977886\n",
       "325    6.982565\n",
       "326    6.987244\n",
       "327    6.991923\n",
       "328    6.996603\n",
       "329    7.001282\n",
       "330    7.005961\n",
       "331    7.010640\n",
       "332    7.015320\n",
       "333    7.019999\n",
       "334    7.024678\n",
       "dtype: float64"
      ]
     },
     "execution_count": 41,
     "metadata": {},
     "output_type": "execute_result"
    }
   ],
   "source": [
    "start=len(train)\n",
    "end=len(train)+len(test)-1\n",
    "pred=model.predict(start=start,end=end,typ='levels')\n",
    "pred"
   ]
  },
  {
   "cell_type": "code",
   "execution_count": null,
   "metadata": {
    "id": "JPHJeaPcQvcZ"
   },
   "outputs": [],
   "source": [
    "from sklearn.metrics import mean_squared_error\n",
    "from math import sqrt\n",
    "mse=mean_squared_error(test, pred)\n",
    "rms = sqrt(mean_squared_error(test, pred))"
   ]
  },
  {
   "cell_type": "code",
   "execution_count": null,
   "metadata": {
    "colab": {
     "base_uri": "https://localhost:8080/"
    },
    "id": "kNBezNJXghV0",
    "outputId": "da3ddac7-f52e-4b9e-a4e7-b170095372fe"
   },
   "outputs": [
    {
     "name": "stdout",
     "output_type": "stream",
     "text": [
      "MSE  0.09400231698435557\n",
      "RMSE  0.30659797289668367\n"
     ]
    }
   ],
   "source": [
    "print('MSE ',mse)\n",
    "print('RMSE ',rms)"
   ]
  },
  {
   "cell_type": "markdown",
   "metadata": {
    "id": "4SbU4e_fmslw"
   },
   "source": [
    "#Time Series Analysis"
   ]
  },
  {
   "cell_type": "code",
   "execution_count": null,
   "metadata": {
    "id": "CKGbNgPMmko2"
   },
   "outputs": [],
   "source": [
    "\n",
    "import statsmodels.tsa.stattools as sts\n",
    "from statsmodels.tsa.seasonal import seasonal_decompose\n",
    "import statsmodels.graphics.tsaplots as sgt\n",
    "from  statsmodels.tsa.arima_model import ARMA\n",
    "from  statsmodels.tsa.arima_model import ARIMA\n",
    "\n",
    "from  scipy.stats.distributions import chi2\n"
   ]
  },
  {
   "cell_type": "code",
   "execution_count": null,
   "metadata": {
    "id": "nJcOGS6PmzDT"
   },
   "outputs": [],
   "source": [
    "df=pd.read_excel(\"/content/China Exchange Rate 1992-2019.xlsx\")"
   ]
  },
  {
   "cell_type": "code",
   "execution_count": null,
   "metadata": {
    "colab": {
     "base_uri": "https://localhost:8080/"
    },
    "id": "NibbkR0cm2CY",
    "outputId": "3f5af3d9-7ee6-4d54-cc2a-e8e262096915"
   },
   "outputs": [
    {
     "data": {
      "text/plain": [
       "Date               0\n",
       "Exchange_Rate      0\n",
       "Interest Rate      0\n",
       "FDI in % of GDP    0\n",
       "Export             0\n",
       "CPI                0\n",
       "dtype: int64"
      ]
     },
     "execution_count": 46,
     "metadata": {},
     "output_type": "execute_result"
    }
   ],
   "source": [
    "df.isna().sum()"
   ]
  },
  {
   "cell_type": "code",
   "execution_count": null,
   "metadata": {
    "colab": {
     "base_uri": "https://localhost:8080/",
     "height": 300
    },
    "id": "7yYE0Z63nQPO",
    "outputId": "14f4976f-8e27-46d3-c13b-e3bce0e62572"
   },
   "outputs": [
    {
     "data": {
      "text/html": [
       "\n",
       "  <div id=\"df-b78aa693-5b21-410d-8f91-bda9f1ab2d5a\">\n",
       "    <div class=\"colab-df-container\">\n",
       "      <div>\n",
       "<style scoped>\n",
       "    .dataframe tbody tr th:only-of-type {\n",
       "        vertical-align: middle;\n",
       "    }\n",
       "\n",
       "    .dataframe tbody tr th {\n",
       "        vertical-align: top;\n",
       "    }\n",
       "\n",
       "    .dataframe thead th {\n",
       "        text-align: right;\n",
       "    }\n",
       "</style>\n",
       "<table border=\"1\" class=\"dataframe\">\n",
       "  <thead>\n",
       "    <tr style=\"text-align: right;\">\n",
       "      <th></th>\n",
       "      <th>Exchange_Rate</th>\n",
       "      <th>Interest Rate</th>\n",
       "      <th>FDI in % of GDP</th>\n",
       "      <th>Export</th>\n",
       "      <th>CPI</th>\n",
       "    </tr>\n",
       "  </thead>\n",
       "  <tbody>\n",
       "    <tr>\n",
       "      <th>count</th>\n",
       "      <td>335.000000</td>\n",
       "      <td>335.000000</td>\n",
       "      <td>335.000000</td>\n",
       "      <td>3.350000e+02</td>\n",
       "      <td>335.000000</td>\n",
       "    </tr>\n",
       "    <tr>\n",
       "      <th>mean</th>\n",
       "      <td>7.341634</td>\n",
       "      <td>1.890291</td>\n",
       "      <td>3.537627</td>\n",
       "      <td>8.984118e+10</td>\n",
       "      <td>4.130209</td>\n",
       "    </tr>\n",
       "    <tr>\n",
       "      <th>std</th>\n",
       "      <td>0.968159</td>\n",
       "      <td>3.457074</td>\n",
       "      <td>1.243850</td>\n",
       "      <td>7.500741e+10</td>\n",
       "      <td>5.841390</td>\n",
       "    </tr>\n",
       "    <tr>\n",
       "      <th>min</th>\n",
       "      <td>5.441700</td>\n",
       "      <td>-7.989744</td>\n",
       "      <td>1.310719</td>\n",
       "      <td>4.610344e+09</td>\n",
       "      <td>-2.680000</td>\n",
       "    </tr>\n",
       "    <tr>\n",
       "      <th>25%</th>\n",
       "      <td>6.469850</td>\n",
       "      <td>-0.630986</td>\n",
       "      <td>2.613162</td>\n",
       "      <td>1.593954e+10</td>\n",
       "      <td>1.200000</td>\n",
       "    </tr>\n",
       "    <tr>\n",
       "      <th>50%</th>\n",
       "      <td>7.368200</td>\n",
       "      <td>2.638147</td>\n",
       "      <td>3.609100</td>\n",
       "      <td>6.823275e+10</td>\n",
       "      <td>2.200000</td>\n",
       "    </tr>\n",
       "    <tr>\n",
       "      <th>75%</th>\n",
       "      <td>8.277450</td>\n",
       "      <td>4.054230</td>\n",
       "      <td>4.472078</td>\n",
       "      <td>1.724374e+11</td>\n",
       "      <td>5.150000</td>\n",
       "    </tr>\n",
       "    <tr>\n",
       "      <th>max</th>\n",
       "      <td>8.725100</td>\n",
       "      <td>7.356478</td>\n",
       "      <td>6.186882</td>\n",
       "      <td>2.524567e+11</td>\n",
       "      <td>27.700000</td>\n",
       "    </tr>\n",
       "  </tbody>\n",
       "</table>\n",
       "</div>\n",
       "      <button class=\"colab-df-convert\" onclick=\"convertToInteractive('df-b78aa693-5b21-410d-8f91-bda9f1ab2d5a')\"\n",
       "              title=\"Convert this dataframe to an interactive table.\"\n",
       "              style=\"display:none;\">\n",
       "        \n",
       "  <svg xmlns=\"http://www.w3.org/2000/svg\" height=\"24px\"viewBox=\"0 0 24 24\"\n",
       "       width=\"24px\">\n",
       "    <path d=\"M0 0h24v24H0V0z\" fill=\"none\"/>\n",
       "    <path d=\"M18.56 5.44l.94 2.06.94-2.06 2.06-.94-2.06-.94-.94-2.06-.94 2.06-2.06.94zm-11 1L8.5 8.5l.94-2.06 2.06-.94-2.06-.94L8.5 2.5l-.94 2.06-2.06.94zm10 10l.94 2.06.94-2.06 2.06-.94-2.06-.94-.94-2.06-.94 2.06-2.06.94z\"/><path d=\"M17.41 7.96l-1.37-1.37c-.4-.4-.92-.59-1.43-.59-.52 0-1.04.2-1.43.59L10.3 9.45l-7.72 7.72c-.78.78-.78 2.05 0 2.83L4 21.41c.39.39.9.59 1.41.59.51 0 1.02-.2 1.41-.59l7.78-7.78 2.81-2.81c.8-.78.8-2.07 0-2.86zM5.41 20L4 18.59l7.72-7.72 1.47 1.35L5.41 20z\"/>\n",
       "  </svg>\n",
       "      </button>\n",
       "      \n",
       "  <style>\n",
       "    .colab-df-container {\n",
       "      display:flex;\n",
       "      flex-wrap:wrap;\n",
       "      gap: 12px;\n",
       "    }\n",
       "\n",
       "    .colab-df-convert {\n",
       "      background-color: #E8F0FE;\n",
       "      border: none;\n",
       "      border-radius: 50%;\n",
       "      cursor: pointer;\n",
       "      display: none;\n",
       "      fill: #1967D2;\n",
       "      height: 32px;\n",
       "      padding: 0 0 0 0;\n",
       "      width: 32px;\n",
       "    }\n",
       "\n",
       "    .colab-df-convert:hover {\n",
       "      background-color: #E2EBFA;\n",
       "      box-shadow: 0px 1px 2px rgba(60, 64, 67, 0.3), 0px 1px 3px 1px rgba(60, 64, 67, 0.15);\n",
       "      fill: #174EA6;\n",
       "    }\n",
       "\n",
       "    [theme=dark] .colab-df-convert {\n",
       "      background-color: #3B4455;\n",
       "      fill: #D2E3FC;\n",
       "    }\n",
       "\n",
       "    [theme=dark] .colab-df-convert:hover {\n",
       "      background-color: #434B5C;\n",
       "      box-shadow: 0px 1px 3px 1px rgba(0, 0, 0, 0.15);\n",
       "      filter: drop-shadow(0px 1px 2px rgba(0, 0, 0, 0.3));\n",
       "      fill: #FFFFFF;\n",
       "    }\n",
       "  </style>\n",
       "\n",
       "      <script>\n",
       "        const buttonEl =\n",
       "          document.querySelector('#df-b78aa693-5b21-410d-8f91-bda9f1ab2d5a button.colab-df-convert');\n",
       "        buttonEl.style.display =\n",
       "          google.colab.kernel.accessAllowed ? 'block' : 'none';\n",
       "\n",
       "        async function convertToInteractive(key) {\n",
       "          const element = document.querySelector('#df-b78aa693-5b21-410d-8f91-bda9f1ab2d5a');\n",
       "          const dataTable =\n",
       "            await google.colab.kernel.invokeFunction('convertToInteractive',\n",
       "                                                     [key], {});\n",
       "          if (!dataTable) return;\n",
       "\n",
       "          const docLinkHtml = 'Like what you see? Visit the ' +\n",
       "            '<a target=\"_blank\" href=https://colab.research.google.com/notebooks/data_table.ipynb>data table notebook</a>'\n",
       "            + ' to learn more about interactive tables.';\n",
       "          element.innerHTML = '';\n",
       "          dataTable['output_type'] = 'display_data';\n",
       "          await google.colab.output.renderOutput(dataTable, element);\n",
       "          const docLink = document.createElement('div');\n",
       "          docLink.innerHTML = docLinkHtml;\n",
       "          element.appendChild(docLink);\n",
       "        }\n",
       "      </script>\n",
       "    </div>\n",
       "  </div>\n",
       "  "
      ],
      "text/plain": [
       "       Exchange_Rate  Interest Rate  FDI in % of GDP        Export         CPI\n",
       "count     335.000000     335.000000       335.000000  3.350000e+02  335.000000\n",
       "mean        7.341634       1.890291         3.537627  8.984118e+10    4.130209\n",
       "std         0.968159       3.457074         1.243850  7.500741e+10    5.841390\n",
       "min         5.441700      -7.989744         1.310719  4.610344e+09   -2.680000\n",
       "25%         6.469850      -0.630986         2.613162  1.593954e+10    1.200000\n",
       "50%         7.368200       2.638147         3.609100  6.823275e+10    2.200000\n",
       "75%         8.277450       4.054230         4.472078  1.724374e+11    5.150000\n",
       "max         8.725100       7.356478         6.186882  2.524567e+11   27.700000"
      ]
     },
     "execution_count": 47,
     "metadata": {},
     "output_type": "execute_result"
    }
   ],
   "source": [
    "df.describe()"
   ]
  },
  {
   "cell_type": "code",
   "execution_count": null,
   "metadata": {
    "id": "mphjJ9r8nU1d"
   },
   "outputs": [],
   "source": [
    "#Converting date into date time format\n",
    "df.Date=pd.to_datetime(df.Date,dayfirst=True)"
   ]
  },
  {
   "cell_type": "code",
   "execution_count": null,
   "metadata": {
    "colab": {
     "base_uri": "https://localhost:8080/",
     "height": 455
    },
    "id": "kBOL1uQinXju",
    "outputId": "6f356505-0a54-405a-eb4b-96f6f5351cc1"
   },
   "outputs": [
    {
     "data": {
      "text/html": [
       "\n",
       "  <div id=\"df-fe61e366-478b-4700-84c9-b79e7c5f4f6e\">\n",
       "    <div class=\"colab-df-container\">\n",
       "      <div>\n",
       "<style scoped>\n",
       "    .dataframe tbody tr th:only-of-type {\n",
       "        vertical-align: middle;\n",
       "    }\n",
       "\n",
       "    .dataframe tbody tr th {\n",
       "        vertical-align: top;\n",
       "    }\n",
       "\n",
       "    .dataframe thead th {\n",
       "        text-align: right;\n",
       "    }\n",
       "</style>\n",
       "<table border=\"1\" class=\"dataframe\">\n",
       "  <thead>\n",
       "    <tr style=\"text-align: right;\">\n",
       "      <th></th>\n",
       "      <th>Exchange_Rate</th>\n",
       "      <th>Interest Rate</th>\n",
       "      <th>FDI in % of GDP</th>\n",
       "      <th>Export</th>\n",
       "      <th>CPI</th>\n",
       "    </tr>\n",
       "    <tr>\n",
       "      <th>Date</th>\n",
       "      <th></th>\n",
       "      <th></th>\n",
       "      <th></th>\n",
       "      <th></th>\n",
       "      <th></th>\n",
       "    </tr>\n",
       "  </thead>\n",
       "  <tbody>\n",
       "    <tr>\n",
       "      <th>1992-01-01</th>\n",
       "      <td>5.4618</td>\n",
       "      <td>0.415635</td>\n",
       "      <td>2.613162</td>\n",
       "      <td>5.522475e+09</td>\n",
       "      <td>5.5</td>\n",
       "    </tr>\n",
       "    <tr>\n",
       "      <th>1992-02-01</th>\n",
       "      <td>5.4776</td>\n",
       "      <td>0.415635</td>\n",
       "      <td>2.613162</td>\n",
       "      <td>6.523120e+09</td>\n",
       "      <td>5.3</td>\n",
       "    </tr>\n",
       "    <tr>\n",
       "      <th>1992-03-01</th>\n",
       "      <td>5.4871</td>\n",
       "      <td>0.415635</td>\n",
       "      <td>2.613162</td>\n",
       "      <td>6.132661e+09</td>\n",
       "      <td>5.3</td>\n",
       "    </tr>\n",
       "    <tr>\n",
       "      <th>1992-04-01</th>\n",
       "      <td>5.5098</td>\n",
       "      <td>0.415635</td>\n",
       "      <td>2.613162</td>\n",
       "      <td>6.594309e+09</td>\n",
       "      <td>7.1</td>\n",
       "    </tr>\n",
       "    <tr>\n",
       "      <th>1992-05-01</th>\n",
       "      <td>5.5182</td>\n",
       "      <td>0.415635</td>\n",
       "      <td>2.613162</td>\n",
       "      <td>6.723671e+09</td>\n",
       "      <td>4.7</td>\n",
       "    </tr>\n",
       "    <tr>\n",
       "      <th>...</th>\n",
       "      <td>...</td>\n",
       "      <td>...</td>\n",
       "      <td>...</td>\n",
       "      <td>...</td>\n",
       "      <td>...</td>\n",
       "    </tr>\n",
       "    <tr>\n",
       "      <th>2019-07-01</th>\n",
       "      <td>6.8775</td>\n",
       "      <td>3.024385</td>\n",
       "      <td>1.310719</td>\n",
       "      <td>2.137597e+11</td>\n",
       "      <td>2.8</td>\n",
       "    </tr>\n",
       "    <tr>\n",
       "      <th>2019-08-01</th>\n",
       "      <td>7.0629</td>\n",
       "      <td>3.024385</td>\n",
       "      <td>1.310719</td>\n",
       "      <td>2.061549e+11</td>\n",
       "      <td>2.8</td>\n",
       "    </tr>\n",
       "    <tr>\n",
       "      <th>2019-09-01</th>\n",
       "      <td>7.1137</td>\n",
       "      <td>3.024385</td>\n",
       "      <td>1.310719</td>\n",
       "      <td>2.067389e+11</td>\n",
       "      <td>3.0</td>\n",
       "    </tr>\n",
       "    <tr>\n",
       "      <th>2019-10-01</th>\n",
       "      <td>7.0961</td>\n",
       "      <td>3.024385</td>\n",
       "      <td>1.310719</td>\n",
       "      <td>2.092869e+11</td>\n",
       "      <td>3.8</td>\n",
       "    </tr>\n",
       "    <tr>\n",
       "      <th>2019-11-01</th>\n",
       "      <td>7.0199</td>\n",
       "      <td>3.024385</td>\n",
       "      <td>1.310719</td>\n",
       "      <td>2.019539e+11</td>\n",
       "      <td>4.5</td>\n",
       "    </tr>\n",
       "  </tbody>\n",
       "</table>\n",
       "<p>335 rows × 5 columns</p>\n",
       "</div>\n",
       "      <button class=\"colab-df-convert\" onclick=\"convertToInteractive('df-fe61e366-478b-4700-84c9-b79e7c5f4f6e')\"\n",
       "              title=\"Convert this dataframe to an interactive table.\"\n",
       "              style=\"display:none;\">\n",
       "        \n",
       "  <svg xmlns=\"http://www.w3.org/2000/svg\" height=\"24px\"viewBox=\"0 0 24 24\"\n",
       "       width=\"24px\">\n",
       "    <path d=\"M0 0h24v24H0V0z\" fill=\"none\"/>\n",
       "    <path d=\"M18.56 5.44l.94 2.06.94-2.06 2.06-.94-2.06-.94-.94-2.06-.94 2.06-2.06.94zm-11 1L8.5 8.5l.94-2.06 2.06-.94-2.06-.94L8.5 2.5l-.94 2.06-2.06.94zm10 10l.94 2.06.94-2.06 2.06-.94-2.06-.94-.94-2.06-.94 2.06-2.06.94z\"/><path d=\"M17.41 7.96l-1.37-1.37c-.4-.4-.92-.59-1.43-.59-.52 0-1.04.2-1.43.59L10.3 9.45l-7.72 7.72c-.78.78-.78 2.05 0 2.83L4 21.41c.39.39.9.59 1.41.59.51 0 1.02-.2 1.41-.59l7.78-7.78 2.81-2.81c.8-.78.8-2.07 0-2.86zM5.41 20L4 18.59l7.72-7.72 1.47 1.35L5.41 20z\"/>\n",
       "  </svg>\n",
       "      </button>\n",
       "      \n",
       "  <style>\n",
       "    .colab-df-container {\n",
       "      display:flex;\n",
       "      flex-wrap:wrap;\n",
       "      gap: 12px;\n",
       "    }\n",
       "\n",
       "    .colab-df-convert {\n",
       "      background-color: #E8F0FE;\n",
       "      border: none;\n",
       "      border-radius: 50%;\n",
       "      cursor: pointer;\n",
       "      display: none;\n",
       "      fill: #1967D2;\n",
       "      height: 32px;\n",
       "      padding: 0 0 0 0;\n",
       "      width: 32px;\n",
       "    }\n",
       "\n",
       "    .colab-df-convert:hover {\n",
       "      background-color: #E2EBFA;\n",
       "      box-shadow: 0px 1px 2px rgba(60, 64, 67, 0.3), 0px 1px 3px 1px rgba(60, 64, 67, 0.15);\n",
       "      fill: #174EA6;\n",
       "    }\n",
       "\n",
       "    [theme=dark] .colab-df-convert {\n",
       "      background-color: #3B4455;\n",
       "      fill: #D2E3FC;\n",
       "    }\n",
       "\n",
       "    [theme=dark] .colab-df-convert:hover {\n",
       "      background-color: #434B5C;\n",
       "      box-shadow: 0px 1px 3px 1px rgba(0, 0, 0, 0.15);\n",
       "      filter: drop-shadow(0px 1px 2px rgba(0, 0, 0, 0.3));\n",
       "      fill: #FFFFFF;\n",
       "    }\n",
       "  </style>\n",
       "\n",
       "      <script>\n",
       "        const buttonEl =\n",
       "          document.querySelector('#df-fe61e366-478b-4700-84c9-b79e7c5f4f6e button.colab-df-convert');\n",
       "        buttonEl.style.display =\n",
       "          google.colab.kernel.accessAllowed ? 'block' : 'none';\n",
       "\n",
       "        async function convertToInteractive(key) {\n",
       "          const element = document.querySelector('#df-fe61e366-478b-4700-84c9-b79e7c5f4f6e');\n",
       "          const dataTable =\n",
       "            await google.colab.kernel.invokeFunction('convertToInteractive',\n",
       "                                                     [key], {});\n",
       "          if (!dataTable) return;\n",
       "\n",
       "          const docLinkHtml = 'Like what you see? Visit the ' +\n",
       "            '<a target=\"_blank\" href=https://colab.research.google.com/notebooks/data_table.ipynb>data table notebook</a>'\n",
       "            + ' to learn more about interactive tables.';\n",
       "          element.innerHTML = '';\n",
       "          dataTable['output_type'] = 'display_data';\n",
       "          await google.colab.output.renderOutput(dataTable, element);\n",
       "          const docLink = document.createElement('div');\n",
       "          docLink.innerHTML = docLinkHtml;\n",
       "          element.appendChild(docLink);\n",
       "        }\n",
       "      </script>\n",
       "    </div>\n",
       "  </div>\n",
       "  "
      ],
      "text/plain": [
       "            Exchange_Rate  Interest Rate  FDI in % of GDP        Export  CPI\n",
       "Date                                                                        \n",
       "1992-01-01         5.4618       0.415635         2.613162  5.522475e+09  5.5\n",
       "1992-02-01         5.4776       0.415635         2.613162  6.523120e+09  5.3\n",
       "1992-03-01         5.4871       0.415635         2.613162  6.132661e+09  5.3\n",
       "1992-04-01         5.5098       0.415635         2.613162  6.594309e+09  7.1\n",
       "1992-05-01         5.5182       0.415635         2.613162  6.723671e+09  4.7\n",
       "...                   ...            ...              ...           ...  ...\n",
       "2019-07-01         6.8775       3.024385         1.310719  2.137597e+11  2.8\n",
       "2019-08-01         7.0629       3.024385         1.310719  2.061549e+11  2.8\n",
       "2019-09-01         7.1137       3.024385         1.310719  2.067389e+11  3.0\n",
       "2019-10-01         7.0961       3.024385         1.310719  2.092869e+11  3.8\n",
       "2019-11-01         7.0199       3.024385         1.310719  2.019539e+11  4.5\n",
       "\n",
       "[335 rows x 5 columns]"
      ]
     },
     "execution_count": 49,
     "metadata": {},
     "output_type": "execute_result"
    }
   ],
   "source": [
    "#setting date as index\n",
    "df.set_index(\"Date\",inplace=True)\n",
    "df"
   ]
  },
  {
   "cell_type": "code",
   "execution_count": null,
   "metadata": {
    "id": "Kgd8ehRYnauu"
   },
   "outputs": [],
   "source": [
    "#As for time series we only need exchange rate column \n",
    "del df[\"Interest Rate\"],df[\"FDI in % of GDP\"],df[\"Export\"],df[\"CPI\"]"
   ]
  },
  {
   "cell_type": "code",
   "execution_count": null,
   "metadata": {
    "colab": {
     "base_uri": "https://localhost:8080/",
     "height": 455
    },
    "id": "Fxb9_e-dndlI",
    "outputId": "71feb2ba-7ba4-482c-beba-47f251eec84c"
   },
   "outputs": [
    {
     "data": {
      "text/html": [
       "\n",
       "  <div id=\"df-a11011f8-d28d-4b85-824e-759177b96abd\">\n",
       "    <div class=\"colab-df-container\">\n",
       "      <div>\n",
       "<style scoped>\n",
       "    .dataframe tbody tr th:only-of-type {\n",
       "        vertical-align: middle;\n",
       "    }\n",
       "\n",
       "    .dataframe tbody tr th {\n",
       "        vertical-align: top;\n",
       "    }\n",
       "\n",
       "    .dataframe thead th {\n",
       "        text-align: right;\n",
       "    }\n",
       "</style>\n",
       "<table border=\"1\" class=\"dataframe\">\n",
       "  <thead>\n",
       "    <tr style=\"text-align: right;\">\n",
       "      <th></th>\n",
       "      <th>Exchange_Rate</th>\n",
       "    </tr>\n",
       "    <tr>\n",
       "      <th>Date</th>\n",
       "      <th></th>\n",
       "    </tr>\n",
       "  </thead>\n",
       "  <tbody>\n",
       "    <tr>\n",
       "      <th>1992-01-01</th>\n",
       "      <td>5.4618</td>\n",
       "    </tr>\n",
       "    <tr>\n",
       "      <th>1992-02-01</th>\n",
       "      <td>5.4776</td>\n",
       "    </tr>\n",
       "    <tr>\n",
       "      <th>1992-03-01</th>\n",
       "      <td>5.4871</td>\n",
       "    </tr>\n",
       "    <tr>\n",
       "      <th>1992-04-01</th>\n",
       "      <td>5.5098</td>\n",
       "    </tr>\n",
       "    <tr>\n",
       "      <th>1992-05-01</th>\n",
       "      <td>5.5182</td>\n",
       "    </tr>\n",
       "    <tr>\n",
       "      <th>...</th>\n",
       "      <td>...</td>\n",
       "    </tr>\n",
       "    <tr>\n",
       "      <th>2019-07-01</th>\n",
       "      <td>6.8775</td>\n",
       "    </tr>\n",
       "    <tr>\n",
       "      <th>2019-08-01</th>\n",
       "      <td>7.0629</td>\n",
       "    </tr>\n",
       "    <tr>\n",
       "      <th>2019-09-01</th>\n",
       "      <td>7.1137</td>\n",
       "    </tr>\n",
       "    <tr>\n",
       "      <th>2019-10-01</th>\n",
       "      <td>7.0961</td>\n",
       "    </tr>\n",
       "    <tr>\n",
       "      <th>2019-11-01</th>\n",
       "      <td>7.0199</td>\n",
       "    </tr>\n",
       "  </tbody>\n",
       "</table>\n",
       "<p>335 rows × 1 columns</p>\n",
       "</div>\n",
       "      <button class=\"colab-df-convert\" onclick=\"convertToInteractive('df-a11011f8-d28d-4b85-824e-759177b96abd')\"\n",
       "              title=\"Convert this dataframe to an interactive table.\"\n",
       "              style=\"display:none;\">\n",
       "        \n",
       "  <svg xmlns=\"http://www.w3.org/2000/svg\" height=\"24px\"viewBox=\"0 0 24 24\"\n",
       "       width=\"24px\">\n",
       "    <path d=\"M0 0h24v24H0V0z\" fill=\"none\"/>\n",
       "    <path d=\"M18.56 5.44l.94 2.06.94-2.06 2.06-.94-2.06-.94-.94-2.06-.94 2.06-2.06.94zm-11 1L8.5 8.5l.94-2.06 2.06-.94-2.06-.94L8.5 2.5l-.94 2.06-2.06.94zm10 10l.94 2.06.94-2.06 2.06-.94-2.06-.94-.94-2.06-.94 2.06-2.06.94z\"/><path d=\"M17.41 7.96l-1.37-1.37c-.4-.4-.92-.59-1.43-.59-.52 0-1.04.2-1.43.59L10.3 9.45l-7.72 7.72c-.78.78-.78 2.05 0 2.83L4 21.41c.39.39.9.59 1.41.59.51 0 1.02-.2 1.41-.59l7.78-7.78 2.81-2.81c.8-.78.8-2.07 0-2.86zM5.41 20L4 18.59l7.72-7.72 1.47 1.35L5.41 20z\"/>\n",
       "  </svg>\n",
       "      </button>\n",
       "      \n",
       "  <style>\n",
       "    .colab-df-container {\n",
       "      display:flex;\n",
       "      flex-wrap:wrap;\n",
       "      gap: 12px;\n",
       "    }\n",
       "\n",
       "    .colab-df-convert {\n",
       "      background-color: #E8F0FE;\n",
       "      border: none;\n",
       "      border-radius: 50%;\n",
       "      cursor: pointer;\n",
       "      display: none;\n",
       "      fill: #1967D2;\n",
       "      height: 32px;\n",
       "      padding: 0 0 0 0;\n",
       "      width: 32px;\n",
       "    }\n",
       "\n",
       "    .colab-df-convert:hover {\n",
       "      background-color: #E2EBFA;\n",
       "      box-shadow: 0px 1px 2px rgba(60, 64, 67, 0.3), 0px 1px 3px 1px rgba(60, 64, 67, 0.15);\n",
       "      fill: #174EA6;\n",
       "    }\n",
       "\n",
       "    [theme=dark] .colab-df-convert {\n",
       "      background-color: #3B4455;\n",
       "      fill: #D2E3FC;\n",
       "    }\n",
       "\n",
       "    [theme=dark] .colab-df-convert:hover {\n",
       "      background-color: #434B5C;\n",
       "      box-shadow: 0px 1px 3px 1px rgba(0, 0, 0, 0.15);\n",
       "      filter: drop-shadow(0px 1px 2px rgba(0, 0, 0, 0.3));\n",
       "      fill: #FFFFFF;\n",
       "    }\n",
       "  </style>\n",
       "\n",
       "      <script>\n",
       "        const buttonEl =\n",
       "          document.querySelector('#df-a11011f8-d28d-4b85-824e-759177b96abd button.colab-df-convert');\n",
       "        buttonEl.style.display =\n",
       "          google.colab.kernel.accessAllowed ? 'block' : 'none';\n",
       "\n",
       "        async function convertToInteractive(key) {\n",
       "          const element = document.querySelector('#df-a11011f8-d28d-4b85-824e-759177b96abd');\n",
       "          const dataTable =\n",
       "            await google.colab.kernel.invokeFunction('convertToInteractive',\n",
       "                                                     [key], {});\n",
       "          if (!dataTable) return;\n",
       "\n",
       "          const docLinkHtml = 'Like what you see? Visit the ' +\n",
       "            '<a target=\"_blank\" href=https://colab.research.google.com/notebooks/data_table.ipynb>data table notebook</a>'\n",
       "            + ' to learn more about interactive tables.';\n",
       "          element.innerHTML = '';\n",
       "          dataTable['output_type'] = 'display_data';\n",
       "          await google.colab.output.renderOutput(dataTable, element);\n",
       "          const docLink = document.createElement('div');\n",
       "          docLink.innerHTML = docLinkHtml;\n",
       "          element.appendChild(docLink);\n",
       "        }\n",
       "      </script>\n",
       "    </div>\n",
       "  </div>\n",
       "  "
      ],
      "text/plain": [
       "            Exchange_Rate\n",
       "Date                     \n",
       "1992-01-01         5.4618\n",
       "1992-02-01         5.4776\n",
       "1992-03-01         5.4871\n",
       "1992-04-01         5.5098\n",
       "1992-05-01         5.5182\n",
       "...                   ...\n",
       "2019-07-01         6.8775\n",
       "2019-08-01         7.0629\n",
       "2019-09-01         7.1137\n",
       "2019-10-01         7.0961\n",
       "2019-11-01         7.0199\n",
       "\n",
       "[335 rows x 1 columns]"
      ]
     },
     "execution_count": 51,
     "metadata": {},
     "output_type": "execute_result"
    }
   ],
   "source": [
    "df"
   ]
  },
  {
   "cell_type": "code",
   "execution_count": null,
   "metadata": {
    "id": "3EzZwrO3nhyW"
   },
   "outputs": [],
   "source": [
    "#Splitting the Data\n",
    "size=int(len(df)*.8)"
   ]
  },
  {
   "cell_type": "code",
   "execution_count": null,
   "metadata": {
    "id": "MopRzrQankBI"
   },
   "outputs": [],
   "source": [
    "df_train=df.iloc[:size]\n",
    "df_test=df.iloc[size:]"
   ]
  },
  {
   "cell_type": "code",
   "execution_count": null,
   "metadata": {
    "colab": {
     "base_uri": "https://localhost:8080/",
     "height": 237
    },
    "id": "UIYB3IIgnpaG",
    "outputId": "e0fe2d6a-d27a-4254-cb97-c247544db943"
   },
   "outputs": [
    {
     "data": {
      "text/html": [
       "\n",
       "  <div id=\"df-ecc532a8-3cfd-4840-b483-b050638dd672\">\n",
       "    <div class=\"colab-df-container\">\n",
       "      <div>\n",
       "<style scoped>\n",
       "    .dataframe tbody tr th:only-of-type {\n",
       "        vertical-align: middle;\n",
       "    }\n",
       "\n",
       "    .dataframe tbody tr th {\n",
       "        vertical-align: top;\n",
       "    }\n",
       "\n",
       "    .dataframe thead th {\n",
       "        text-align: right;\n",
       "    }\n",
       "</style>\n",
       "<table border=\"1\" class=\"dataframe\">\n",
       "  <thead>\n",
       "    <tr style=\"text-align: right;\">\n",
       "      <th></th>\n",
       "      <th>Exchange_Rate</th>\n",
       "    </tr>\n",
       "    <tr>\n",
       "      <th>Date</th>\n",
       "      <th></th>\n",
       "    </tr>\n",
       "  </thead>\n",
       "  <tbody>\n",
       "    <tr>\n",
       "      <th>2013-12-01</th>\n",
       "      <td>6.0738</td>\n",
       "    </tr>\n",
       "    <tr>\n",
       "      <th>2014-01-01</th>\n",
       "      <td>6.0509</td>\n",
       "    </tr>\n",
       "    <tr>\n",
       "      <th>2014-02-01</th>\n",
       "      <td>6.0816</td>\n",
       "    </tr>\n",
       "    <tr>\n",
       "      <th>2014-03-01</th>\n",
       "      <td>6.1729</td>\n",
       "    </tr>\n",
       "    <tr>\n",
       "      <th>2014-04-01</th>\n",
       "      <td>6.2246</td>\n",
       "    </tr>\n",
       "  </tbody>\n",
       "</table>\n",
       "</div>\n",
       "      <button class=\"colab-df-convert\" onclick=\"convertToInteractive('df-ecc532a8-3cfd-4840-b483-b050638dd672')\"\n",
       "              title=\"Convert this dataframe to an interactive table.\"\n",
       "              style=\"display:none;\">\n",
       "        \n",
       "  <svg xmlns=\"http://www.w3.org/2000/svg\" height=\"24px\"viewBox=\"0 0 24 24\"\n",
       "       width=\"24px\">\n",
       "    <path d=\"M0 0h24v24H0V0z\" fill=\"none\"/>\n",
       "    <path d=\"M18.56 5.44l.94 2.06.94-2.06 2.06-.94-2.06-.94-.94-2.06-.94 2.06-2.06.94zm-11 1L8.5 8.5l.94-2.06 2.06-.94-2.06-.94L8.5 2.5l-.94 2.06-2.06.94zm10 10l.94 2.06.94-2.06 2.06-.94-2.06-.94-.94-2.06-.94 2.06-2.06.94z\"/><path d=\"M17.41 7.96l-1.37-1.37c-.4-.4-.92-.59-1.43-.59-.52 0-1.04.2-1.43.59L10.3 9.45l-7.72 7.72c-.78.78-.78 2.05 0 2.83L4 21.41c.39.39.9.59 1.41.59.51 0 1.02-.2 1.41-.59l7.78-7.78 2.81-2.81c.8-.78.8-2.07 0-2.86zM5.41 20L4 18.59l7.72-7.72 1.47 1.35L5.41 20z\"/>\n",
       "  </svg>\n",
       "      </button>\n",
       "      \n",
       "  <style>\n",
       "    .colab-df-container {\n",
       "      display:flex;\n",
       "      flex-wrap:wrap;\n",
       "      gap: 12px;\n",
       "    }\n",
       "\n",
       "    .colab-df-convert {\n",
       "      background-color: #E8F0FE;\n",
       "      border: none;\n",
       "      border-radius: 50%;\n",
       "      cursor: pointer;\n",
       "      display: none;\n",
       "      fill: #1967D2;\n",
       "      height: 32px;\n",
       "      padding: 0 0 0 0;\n",
       "      width: 32px;\n",
       "    }\n",
       "\n",
       "    .colab-df-convert:hover {\n",
       "      background-color: #E2EBFA;\n",
       "      box-shadow: 0px 1px 2px rgba(60, 64, 67, 0.3), 0px 1px 3px 1px rgba(60, 64, 67, 0.15);\n",
       "      fill: #174EA6;\n",
       "    }\n",
       "\n",
       "    [theme=dark] .colab-df-convert {\n",
       "      background-color: #3B4455;\n",
       "      fill: #D2E3FC;\n",
       "    }\n",
       "\n",
       "    [theme=dark] .colab-df-convert:hover {\n",
       "      background-color: #434B5C;\n",
       "      box-shadow: 0px 1px 3px 1px rgba(0, 0, 0, 0.15);\n",
       "      filter: drop-shadow(0px 1px 2px rgba(0, 0, 0, 0.3));\n",
       "      fill: #FFFFFF;\n",
       "    }\n",
       "  </style>\n",
       "\n",
       "      <script>\n",
       "        const buttonEl =\n",
       "          document.querySelector('#df-ecc532a8-3cfd-4840-b483-b050638dd672 button.colab-df-convert');\n",
       "        buttonEl.style.display =\n",
       "          google.colab.kernel.accessAllowed ? 'block' : 'none';\n",
       "\n",
       "        async function convertToInteractive(key) {\n",
       "          const element = document.querySelector('#df-ecc532a8-3cfd-4840-b483-b050638dd672');\n",
       "          const dataTable =\n",
       "            await google.colab.kernel.invokeFunction('convertToInteractive',\n",
       "                                                     [key], {});\n",
       "          if (!dataTable) return;\n",
       "\n",
       "          const docLinkHtml = 'Like what you see? Visit the ' +\n",
       "            '<a target=\"_blank\" href=https://colab.research.google.com/notebooks/data_table.ipynb>data table notebook</a>'\n",
       "            + ' to learn more about interactive tables.';\n",
       "          element.innerHTML = '';\n",
       "          dataTable['output_type'] = 'display_data';\n",
       "          await google.colab.output.renderOutput(dataTable, element);\n",
       "          const docLink = document.createElement('div');\n",
       "          docLink.innerHTML = docLinkHtml;\n",
       "          element.appendChild(docLink);\n",
       "        }\n",
       "      </script>\n",
       "    </div>\n",
       "  </div>\n",
       "  "
      ],
      "text/plain": [
       "            Exchange_Rate\n",
       "Date                     \n",
       "2013-12-01         6.0738\n",
       "2014-01-01         6.0509\n",
       "2014-02-01         6.0816\n",
       "2014-03-01         6.1729\n",
       "2014-04-01         6.2246"
      ]
     },
     "execution_count": 54,
     "metadata": {},
     "output_type": "execute_result"
    }
   ],
   "source": [
    "df_train.tail()"
   ]
  },
  {
   "cell_type": "code",
   "execution_count": null,
   "metadata": {
    "colab": {
     "base_uri": "https://localhost:8080/",
     "height": 237
    },
    "id": "uDYwUlCxnq6x",
    "outputId": "4a23925e-18d4-4b6e-ed3c-35889458c18d"
   },
   "outputs": [
    {
     "data": {
      "text/html": [
       "\n",
       "  <div id=\"df-5bdb96cb-9366-4699-bb0d-2084faf8da22\">\n",
       "    <div class=\"colab-df-container\">\n",
       "      <div>\n",
       "<style scoped>\n",
       "    .dataframe tbody tr th:only-of-type {\n",
       "        vertical-align: middle;\n",
       "    }\n",
       "\n",
       "    .dataframe tbody tr th {\n",
       "        vertical-align: top;\n",
       "    }\n",
       "\n",
       "    .dataframe thead th {\n",
       "        text-align: right;\n",
       "    }\n",
       "</style>\n",
       "<table border=\"1\" class=\"dataframe\">\n",
       "  <thead>\n",
       "    <tr style=\"text-align: right;\">\n",
       "      <th></th>\n",
       "      <th>Exchange_Rate</th>\n",
       "    </tr>\n",
       "    <tr>\n",
       "      <th>Date</th>\n",
       "      <th></th>\n",
       "    </tr>\n",
       "  </thead>\n",
       "  <tbody>\n",
       "    <tr>\n",
       "      <th>2014-05-01</th>\n",
       "      <td>6.2380</td>\n",
       "    </tr>\n",
       "    <tr>\n",
       "      <th>2014-06-01</th>\n",
       "      <td>6.2306</td>\n",
       "    </tr>\n",
       "    <tr>\n",
       "      <th>2014-07-01</th>\n",
       "      <td>6.1984</td>\n",
       "    </tr>\n",
       "    <tr>\n",
       "      <th>2014-08-01</th>\n",
       "      <td>6.1541</td>\n",
       "    </tr>\n",
       "    <tr>\n",
       "      <th>2014-09-01</th>\n",
       "      <td>6.1382</td>\n",
       "    </tr>\n",
       "  </tbody>\n",
       "</table>\n",
       "</div>\n",
       "      <button class=\"colab-df-convert\" onclick=\"convertToInteractive('df-5bdb96cb-9366-4699-bb0d-2084faf8da22')\"\n",
       "              title=\"Convert this dataframe to an interactive table.\"\n",
       "              style=\"display:none;\">\n",
       "        \n",
       "  <svg xmlns=\"http://www.w3.org/2000/svg\" height=\"24px\"viewBox=\"0 0 24 24\"\n",
       "       width=\"24px\">\n",
       "    <path d=\"M0 0h24v24H0V0z\" fill=\"none\"/>\n",
       "    <path d=\"M18.56 5.44l.94 2.06.94-2.06 2.06-.94-2.06-.94-.94-2.06-.94 2.06-2.06.94zm-11 1L8.5 8.5l.94-2.06 2.06-.94-2.06-.94L8.5 2.5l-.94 2.06-2.06.94zm10 10l.94 2.06.94-2.06 2.06-.94-2.06-.94-.94-2.06-.94 2.06-2.06.94z\"/><path d=\"M17.41 7.96l-1.37-1.37c-.4-.4-.92-.59-1.43-.59-.52 0-1.04.2-1.43.59L10.3 9.45l-7.72 7.72c-.78.78-.78 2.05 0 2.83L4 21.41c.39.39.9.59 1.41.59.51 0 1.02-.2 1.41-.59l7.78-7.78 2.81-2.81c.8-.78.8-2.07 0-2.86zM5.41 20L4 18.59l7.72-7.72 1.47 1.35L5.41 20z\"/>\n",
       "  </svg>\n",
       "      </button>\n",
       "      \n",
       "  <style>\n",
       "    .colab-df-container {\n",
       "      display:flex;\n",
       "      flex-wrap:wrap;\n",
       "      gap: 12px;\n",
       "    }\n",
       "\n",
       "    .colab-df-convert {\n",
       "      background-color: #E8F0FE;\n",
       "      border: none;\n",
       "      border-radius: 50%;\n",
       "      cursor: pointer;\n",
       "      display: none;\n",
       "      fill: #1967D2;\n",
       "      height: 32px;\n",
       "      padding: 0 0 0 0;\n",
       "      width: 32px;\n",
       "    }\n",
       "\n",
       "    .colab-df-convert:hover {\n",
       "      background-color: #E2EBFA;\n",
       "      box-shadow: 0px 1px 2px rgba(60, 64, 67, 0.3), 0px 1px 3px 1px rgba(60, 64, 67, 0.15);\n",
       "      fill: #174EA6;\n",
       "    }\n",
       "\n",
       "    [theme=dark] .colab-df-convert {\n",
       "      background-color: #3B4455;\n",
       "      fill: #D2E3FC;\n",
       "    }\n",
       "\n",
       "    [theme=dark] .colab-df-convert:hover {\n",
       "      background-color: #434B5C;\n",
       "      box-shadow: 0px 1px 3px 1px rgba(0, 0, 0, 0.15);\n",
       "      filter: drop-shadow(0px 1px 2px rgba(0, 0, 0, 0.3));\n",
       "      fill: #FFFFFF;\n",
       "    }\n",
       "  </style>\n",
       "\n",
       "      <script>\n",
       "        const buttonEl =\n",
       "          document.querySelector('#df-5bdb96cb-9366-4699-bb0d-2084faf8da22 button.colab-df-convert');\n",
       "        buttonEl.style.display =\n",
       "          google.colab.kernel.accessAllowed ? 'block' : 'none';\n",
       "\n",
       "        async function convertToInteractive(key) {\n",
       "          const element = document.querySelector('#df-5bdb96cb-9366-4699-bb0d-2084faf8da22');\n",
       "          const dataTable =\n",
       "            await google.colab.kernel.invokeFunction('convertToInteractive',\n",
       "                                                     [key], {});\n",
       "          if (!dataTable) return;\n",
       "\n",
       "          const docLinkHtml = 'Like what you see? Visit the ' +\n",
       "            '<a target=\"_blank\" href=https://colab.research.google.com/notebooks/data_table.ipynb>data table notebook</a>'\n",
       "            + ' to learn more about interactive tables.';\n",
       "          element.innerHTML = '';\n",
       "          dataTable['output_type'] = 'display_data';\n",
       "          await google.colab.output.renderOutput(dataTable, element);\n",
       "          const docLink = document.createElement('div');\n",
       "          docLink.innerHTML = docLinkHtml;\n",
       "          element.appendChild(docLink);\n",
       "        }\n",
       "      </script>\n",
       "    </div>\n",
       "  </div>\n",
       "  "
      ],
      "text/plain": [
       "            Exchange_Rate\n",
       "Date                     \n",
       "2014-05-01         6.2380\n",
       "2014-06-01         6.2306\n",
       "2014-07-01         6.1984\n",
       "2014-08-01         6.1541\n",
       "2014-09-01         6.1382"
      ]
     },
     "execution_count": 55,
     "metadata": {},
     "output_type": "execute_result"
    }
   ],
   "source": [
    "df_test.head()"
   ]
  },
  {
   "cell_type": "code",
   "execution_count": null,
   "metadata": {
    "colab": {
     "base_uri": "https://localhost:8080/",
     "height": 820
    },
    "id": "VPSKnbsFnq_2",
    "outputId": "74257d13-1677-4b86-837e-0175e501d895"
   },
   "outputs": [
    {
     "data": {
      "image/png": "[encoded data removed]",
      "text/plain": [
       "<Figure size 1800x1080 with 1 Axes>"
      ]
     },
     "metadata": {
      "needs_background": "light"
     },
     "output_type": "display_data"
    }
   ],
   "source": [
    "#Plotting the Exchange Rate \n",
    "df.Exchange_Rate.plot(figsize=(25,15))\n",
    "plt.title(\"Exchange Rate Variation for China\",size=30)\n",
    "plt.xlabel(\"Month\",size=15)\n",
    "plt.ylabel(\"Exchange Rate(Yuan/Dollar)\",size=15)\n",
    "plt.ylim(0,12)\n",
    "plt.grid()\t\n",
    "plt.show()"
   ]
  },
  {
   "cell_type": "code",
   "execution_count": null,
   "metadata": {
    "colab": {
     "base_uri": "https://localhost:8080/"
    },
    "id": "NQfnHE9RnrDl",
    "outputId": "97b3fbd9-8865-498d-dec3-82e40bfe6721"
   },
   "outputs": [
    {
     "data": {
      "text/plain": [
       "(-2.149049800276612,\n",
       " 0.2252539809676219,\n",
       " 0,\n",
       " 334,\n",
       " {'1%': -3.450081345901191,\n",
       "  '10%': -2.571401168202517,\n",
       "  '5%': -2.870232621465807},\n",
       " -232.8731579846401)"
      ]
     },
     "execution_count": 57,
     "metadata": {},
     "output_type": "execute_result"
    }
   ],
   "source": [
    "#Checking where  dataseries is stationary or not \n",
    "sts.adfuller(df.Exchange_Rate)\n",
    " #So the timeseries is not stationary "
   ]
  },
  {
   "cell_type": "code",
   "execution_count": null,
   "metadata": {
    "colab": {
     "base_uri": "https://localhost:8080/",
     "height": 297
    },
    "id": "BVWVdn-5nrGU",
    "outputId": "d66ee353-afaa-4b19-fb27-07771130252e"
   },
   "outputs": [
    {
     "data": {
      "image/png": "[encoded data removed]",
      "text/plain": [
       "<Figure size 432x288 with 4 Axes>"
      ]
     },
     "metadata": {
      "needs_background": "light"
     },
     "output_type": "display_data"
    }
   ],
   "source": [
    "#Lets check for seasonality of series\n",
    "df_dec=seasonal_decompose(df.Exchange_Rate,model=\"additive\")\n",
    "df_dec.plot()\n",
    "\n",
    "plt.show()"
   ]
  },
  {
   "cell_type": "code",
   "execution_count": null,
   "metadata": {
    "colab": {
     "base_uri": "https://localhost:8080/",
     "height": 297
    },
    "id": "Rl9JB1xCnrIl",
    "outputId": "b9ab5c3f-3500-44b9-8bcf-ef0823028239"
   },
   "outputs": [
    {
     "data": {
      "image/png": "[encoded data removed]",
      "text/plain": [
       "<Figure size 432x288 with 4 Axes>"
      ]
     },
     "metadata": {
      "needs_background": "light"
     },
     "output_type": "display_data"
    }
   ],
   "source": [
    "#Lets check for seasonality of series\n",
    "df_dec=seasonal_decompose(df.Exchange_Rate,model=\"multiplicative\")\n",
    "df_dec.plot()\n",
    "\n",
    "plt.show()"
   ]
  },
  {
   "cell_type": "code",
   "execution_count": null,
   "metadata": {
    "colab": {
     "base_uri": "https://localhost:8080/",
     "height": 290
    },
    "id": "GWFRuBvSnrLX",
    "outputId": "006b83d8-9dd2-4ec3-9078-becb0430f04b"
   },
   "outputs": [
    {
     "data": {
      "image/png": "[encoded data removed]",
      "text/plain": [
       "<Figure size 432x288 with 1 Axes>"
      ]
     },
     "metadata": {
      "needs_background": "light"
     },
     "output_type": "display_data"
    }
   ],
   "source": [
    "#Finding Autocorrelation by using ACF and PACF\n",
    "sgt.plot_acf(df.Exchange_Rate,lags=40,zero=False)\n",
    "plt.title(\"ACF\",size=25)\n",
    "plt.show()  #So it is showing that there is significant autocoorelation upto 20 lags"
   ]
  },
  {
   "cell_type": "code",
   "execution_count": null,
   "metadata": {
    "colab": {
     "base_uri": "https://localhost:8080/",
     "height": 290
    },
    "id": "4xPdyPfwnrNp",
    "outputId": "dafea204-40c2-4b70-bc9b-b9751df1aadc"
   },
   "outputs": [
    {
     "data": {
      "image/png": "[encoded data removed]",
      "text/plain": [
       "<Figure size 432x288 with 1 Axes>"
      ]
     },
     "metadata": {
      "needs_background": "light"
     },
     "output_type": "display_data"
    }
   ],
   "source": [
    "sgt.plot_pacf(df.Exchange_Rate,lags=40,zero=False,method=(\"ols\"))\n",
    "plt.title(\"PACF\",size=25)\n",
    "plt.show()  #so only upto lag 1 is significant means directly only one lag is affecting "
   ]
  },
  {
   "cell_type": "code",
   "execution_count": null,
   "metadata": {
    "colab": {
     "base_uri": "https://localhost:8080/"
    },
    "id": "K9iTwrLrn51J",
    "outputId": "835ad950-3ed0-485a-8c9f-84c65352c70b"
   },
   "outputs": [
    {
     "name": "stdout",
     "output_type": "stream",
     "text": [
      "Looking in indexes: https://pypi.org/simple, https://us-python.pkg.dev/colab-wheels/public/simple/\n",
      "Requirement already satisfied: statsmodels==0.10.2 in /usr/local/lib/python3.7/dist-packages (0.10.2)\n",
      "Requirement already satisfied: numpy>=1.11 in /usr/local/lib/python3.7/dist-packages (from statsmodels==0.10.2) (1.21.6)\n",
      "Requirement already satisfied: pandas>=0.19 in /usr/local/lib/python3.7/dist-packages (from statsmodels==0.10.2) (1.3.5)\n",
      "Requirement already satisfied: patsy>=0.4.0 in /usr/local/lib/python3.7/dist-packages (from statsmodels==0.10.2) (0.5.2)\n",
      "Requirement already satisfied: scipy>=0.18 in /usr/local/lib/python3.7/dist-packages (from statsmodels==0.10.2) (1.7.3)\n",
      "Requirement already satisfied: python-dateutil>=2.7.3 in /usr/local/lib/python3.7/dist-packages (from pandas>=0.19->statsmodels==0.10.2) (2.8.2)\n",
      "Requirement already satisfied: pytz>=2017.3 in /usr/local/lib/python3.7/dist-packages (from pandas>=0.19->statsmodels==0.10.2) (2022.1)\n",
      "Requirement already satisfied: six in /usr/local/lib/python3.7/dist-packages (from patsy>=0.4.0->statsmodels==0.10.2) (1.15.0)\n"
     ]
    }
   ],
   "source": [
    "!pip install statsmodels==0.10.2"
   ]
  },
  {
   "cell_type": "markdown",
   "metadata": {
    "id": "LOT7jC2cn-kN"
   },
   "source": [
    "#AR(1) model"
   ]
  },
  {
   "cell_type": "code",
   "execution_count": null,
   "metadata": {
    "colab": {
     "base_uri": "https://localhost:8080/",
     "height": 342
    },
    "id": "XosK9U39n53e",
    "outputId": "222ecbae-999f-4819-a435-c22d41304e3f"
   },
   "outputs": [
    {
     "name": "stderr",
     "output_type": "stream",
     "text": [
      "/usr/local/lib/python3.7/dist-packages/statsmodels/tsa/base/tsa_model.py:165: ValueWarning: No frequency information was provided, so inferred frequency MS will be used.\n",
      "  % freq, ValueWarning)\n"
     ]
    },
    {
     "data": {
      "text/html": [
       "<table class=\"simpletable\">\n",
       "<caption>ARMA Model Results</caption>\n",
       "<tr>\n",
       "  <th>Dep. Variable:</th>   <td>Exchange_Rate</td>  <th>  No. Observations:  </th>    <td>268</td>  \n",
       "</tr>\n",
       "<tr>\n",
       "  <th>Model:</th>            <td>ARMA(1, 0)</td>    <th>  Log Likelihood     </th>  <td>78.451</td> \n",
       "</tr>\n",
       "<tr>\n",
       "  <th>Method:</th>             <td>css-mle</td>     <th>  S.D. of innovations</th>   <td>0.179</td> \n",
       "</tr>\n",
       "<tr>\n",
       "  <th>Date:</th>          <td>Mon, 18 Jul 2022</td> <th>  AIC                </th> <td>-150.902</td>\n",
       "</tr>\n",
       "<tr>\n",
       "  <th>Time:</th>              <td>13:44:22</td>     <th>  BIC                </th> <td>-140.129</td>\n",
       "</tr>\n",
       "<tr>\n",
       "  <th>Sample:</th>           <td>01-01-1992</td>    <th>  HQIC               </th> <td>-146.575</td>\n",
       "</tr>\n",
       "<tr>\n",
       "  <th></th>                 <td>- 04-01-2014</td>   <th>                     </th>     <td> </td>   \n",
       "</tr>\n",
       "</table>\n",
       "<table class=\"simpletable\">\n",
       "<tr>\n",
       "           <td></td>              <th>coef</th>     <th>std err</th>      <th>z</th>      <th>P>|z|</th>  <th>[0.025</th>    <th>0.975]</th>  \n",
       "</tr>\n",
       "<tr>\n",
       "  <th>const</th>               <td>    6.8898</td> <td>    0.777</td> <td>    8.864</td> <td> 0.000</td> <td>    5.366</td> <td>    8.413</td>\n",
       "</tr>\n",
       "<tr>\n",
       "  <th>ar.L1.Exchange_Rate</th> <td>    0.9880</td> <td>    0.009</td> <td>  111.282</td> <td> 0.000</td> <td>    0.971</td> <td>    1.005</td>\n",
       "</tr>\n",
       "</table>\n",
       "<table class=\"simpletable\">\n",
       "<caption>Roots</caption>\n",
       "<tr>\n",
       "    <td></td>   <th>            Real</th>  <th>         Imaginary</th> <th>         Modulus</th>  <th>        Frequency</th>\n",
       "</tr>\n",
       "<tr>\n",
       "  <th>AR.1</th> <td>           1.0122</td> <td>          +0.0000j</td> <td>           1.0122</td> <td>           0.0000</td>\n",
       "</tr>\n",
       "</table>"
      ],
      "text/plain": [
       "<class 'statsmodels.iolib.summary.Summary'>\n",
       "\"\"\"\n",
       "                              ARMA Model Results                              \n",
       "==============================================================================\n",
       "Dep. Variable:          Exchange_Rate   No. Observations:                  268\n",
       "Model:                     ARMA(1, 0)   Log Likelihood                  78.451\n",
       "Method:                       css-mle   S.D. of innovations              0.179\n",
       "Date:                Mon, 18 Jul 2022   AIC                           -150.902\n",
       "Time:                        13:44:22   BIC                           -140.129\n",
       "Sample:                    01-01-1992   HQIC                          -146.575\n",
       "                         - 04-01-2014                                         \n",
       "=======================================================================================\n",
       "                          coef    std err          z      P>|z|      [0.025      0.975]\n",
       "---------------------------------------------------------------------------------------\n",
       "const                   6.8898      0.777      8.864      0.000       5.366       8.413\n",
       "ar.L1.Exchange_Rate     0.9880      0.009    111.282      0.000       0.971       1.005\n",
       "                                    Roots                                    \n",
       "=============================================================================\n",
       "                  Real          Imaginary           Modulus         Frequency\n",
       "-----------------------------------------------------------------------------\n",
       "AR.1            1.0122           +0.0000j            1.0122            0.0000\n",
       "-----------------------------------------------------------------------------\n",
       "\"\"\""
      ]
     },
     "execution_count": 63,
     "metadata": {},
     "output_type": "execute_result"
    }
   ],
   "source": [
    "model_ar1=ARMA(df_train.Exchange_Rate,order=(1,0))\n",
    "res_ar1=model_ar1.fit()\n",
    "res_ar1.summary()"
   ]
  },
  {
   "cell_type": "code",
   "execution_count": null,
   "metadata": {
    "colab": {
     "base_uri": "https://localhost:8080/",
     "height": 384
    },
    "id": "vF1IBGyWn5-X",
    "outputId": "b7789997-97a5-474d-f374-43aaef797b38"
   },
   "outputs": [
    {
     "name": "stderr",
     "output_type": "stream",
     "text": [
      "/usr/local/lib/python3.7/dist-packages/statsmodels/tsa/base/tsa_model.py:165: ValueWarning: No frequency information was provided, so inferred frequency MS will be used.\n",
      "  % freq, ValueWarning)\n"
     ]
    },
    {
     "data": {
      "text/html": [
       "<table class=\"simpletable\">\n",
       "<caption>ARMA Model Results</caption>\n",
       "<tr>\n",
       "  <th>Dep. Variable:</th>   <td>Exchange_Rate</td>  <th>  No. Observations:  </th>    <td>268</td>  \n",
       "</tr>\n",
       "<tr>\n",
       "  <th>Model:</th>            <td>ARMA(2, 0)</td>    <th>  Log Likelihood     </th>  <td>78.532</td> \n",
       "</tr>\n",
       "<tr>\n",
       "  <th>Method:</th>             <td>css-mle</td>     <th>  S.D. of innovations</th>   <td>0.179</td> \n",
       "</tr>\n",
       "<tr>\n",
       "  <th>Date:</th>          <td>Mon, 18 Jul 2022</td> <th>  AIC                </th> <td>-149.063</td>\n",
       "</tr>\n",
       "<tr>\n",
       "  <th>Time:</th>              <td>13:44:22</td>     <th>  BIC                </th> <td>-134.699</td>\n",
       "</tr>\n",
       "<tr>\n",
       "  <th>Sample:</th>           <td>01-01-1992</td>    <th>  HQIC               </th> <td>-143.294</td>\n",
       "</tr>\n",
       "<tr>\n",
       "  <th></th>                 <td>- 04-01-2014</td>   <th>                     </th>     <td> </td>   \n",
       "</tr>\n",
       "</table>\n",
       "<table class=\"simpletable\">\n",
       "<tr>\n",
       "           <td></td>              <th>coef</th>     <th>std err</th>      <th>z</th>      <th>P>|z|</th>  <th>[0.025</th>    <th>0.975]</th>  \n",
       "</tr>\n",
       "<tr>\n",
       "  <th>const</th>               <td>    6.9128</td> <td>    0.762</td> <td>    9.077</td> <td> 0.000</td> <td>    5.420</td> <td>    8.405</td>\n",
       "</tr>\n",
       "<tr>\n",
       "  <th>ar.L1.Exchange_Rate</th> <td>    1.0122</td> <td>    0.061</td> <td>   16.618</td> <td> 0.000</td> <td>    0.893</td> <td>    1.132</td>\n",
       "</tr>\n",
       "<tr>\n",
       "  <th>ar.L2.Exchange_Rate</th> <td>   -0.0246</td> <td>    0.061</td> <td>   -0.402</td> <td> 0.688</td> <td>   -0.145</td> <td>    0.095</td>\n",
       "</tr>\n",
       "</table>\n",
       "<table class=\"simpletable\">\n",
       "<caption>Roots</caption>\n",
       "<tr>\n",
       "    <td></td>   <th>            Real</th>  <th>         Imaginary</th> <th>         Modulus</th>  <th>        Frequency</th>\n",
       "</tr>\n",
       "<tr>\n",
       "  <th>AR.1</th> <td>           1.0129</td> <td>          +0.0000j</td> <td>           1.0129</td> <td>           0.0000</td>\n",
       "</tr>\n",
       "<tr>\n",
       "  <th>AR.2</th> <td>          40.1210</td> <td>          +0.0000j</td> <td>          40.1210</td> <td>           0.0000</td>\n",
       "</tr>\n",
       "</table>"
      ],
      "text/plain": [
       "<class 'statsmodels.iolib.summary.Summary'>\n",
       "\"\"\"\n",
       "                              ARMA Model Results                              \n",
       "==============================================================================\n",
       "Dep. Variable:          Exchange_Rate   No. Observations:                  268\n",
       "Model:                     ARMA(2, 0)   Log Likelihood                  78.532\n",
       "Method:                       css-mle   S.D. of innovations              0.179\n",
       "Date:                Mon, 18 Jul 2022   AIC                           -149.063\n",
       "Time:                        13:44:22   BIC                           -134.699\n",
       "Sample:                    01-01-1992   HQIC                          -143.294\n",
       "                         - 04-01-2014                                         \n",
       "=======================================================================================\n",
       "                          coef    std err          z      P>|z|      [0.025      0.975]\n",
       "---------------------------------------------------------------------------------------\n",
       "const                   6.9128      0.762      9.077      0.000       5.420       8.405\n",
       "ar.L1.Exchange_Rate     1.0122      0.061     16.618      0.000       0.893       1.132\n",
       "ar.L2.Exchange_Rate    -0.0246      0.061     -0.402      0.688      -0.145       0.095\n",
       "                                    Roots                                    \n",
       "=============================================================================\n",
       "                  Real          Imaginary           Modulus         Frequency\n",
       "-----------------------------------------------------------------------------\n",
       "AR.1            1.0129           +0.0000j            1.0129            0.0000\n",
       "AR.2           40.1210           +0.0000j           40.1210            0.0000\n",
       "-----------------------------------------------------------------------------\n",
       "\"\"\""
      ]
     },
     "execution_count": 64,
     "metadata": {},
     "output_type": "execute_result"
    }
   ],
   "source": [
    "model_ar2=ARMA(df_train.Exchange_Rate,order=(2,0))\n",
    "res_ar2=model_ar2.fit()\n",
    "res_ar2.summary()"
   ]
  },
  {
   "cell_type": "code",
   "execution_count": null,
   "metadata": {
    "colab": {
     "base_uri": "https://localhost:8080/",
     "height": 426
    },
    "id": "WobDcc3bn6Ac",
    "outputId": "2bae3e0b-11a3-45c5-ca6e-6245b42c9746"
   },
   "outputs": [
    {
     "name": "stderr",
     "output_type": "stream",
     "text": [
      "/usr/local/lib/python3.7/dist-packages/statsmodels/tsa/base/tsa_model.py:165: ValueWarning: No frequency information was provided, so inferred frequency MS will be used.\n",
      "  % freq, ValueWarning)\n"
     ]
    },
    {
     "data": {
      "text/html": [
       "<table class=\"simpletable\">\n",
       "<caption>ARMA Model Results</caption>\n",
       "<tr>\n",
       "  <th>Dep. Variable:</th>   <td>Exchange_Rate</td>  <th>  No. Observations:  </th>    <td>268</td>  \n",
       "</tr>\n",
       "<tr>\n",
       "  <th>Model:</th>            <td>ARMA(3, 0)</td>    <th>  Log Likelihood     </th>  <td>78.579</td> \n",
       "</tr>\n",
       "<tr>\n",
       "  <th>Method:</th>             <td>css-mle</td>     <th>  S.D. of innovations</th>   <td>0.179</td> \n",
       "</tr>\n",
       "<tr>\n",
       "  <th>Date:</th>          <td>Mon, 18 Jul 2022</td> <th>  AIC                </th> <td>-147.158</td>\n",
       "</tr>\n",
       "<tr>\n",
       "  <th>Time:</th>              <td>13:44:22</td>     <th>  BIC                </th> <td>-129.203</td>\n",
       "</tr>\n",
       "<tr>\n",
       "  <th>Sample:</th>           <td>01-01-1992</td>    <th>  HQIC               </th> <td>-139.947</td>\n",
       "</tr>\n",
       "<tr>\n",
       "  <th></th>                 <td>- 04-01-2014</td>   <th>                     </th>     <td> </td>   \n",
       "</tr>\n",
       "</table>\n",
       "<table class=\"simpletable\">\n",
       "<tr>\n",
       "           <td></td>              <th>coef</th>     <th>std err</th>      <th>z</th>      <th>P>|z|</th>  <th>[0.025</th>    <th>0.975]</th>  \n",
       "</tr>\n",
       "<tr>\n",
       "  <th>const</th>               <td>    6.9311</td> <td>    0.750</td> <td>    9.246</td> <td> 0.000</td> <td>    5.462</td> <td>    8.400</td>\n",
       "</tr>\n",
       "<tr>\n",
       "  <th>ar.L1.Exchange_Rate</th> <td>    1.0118</td> <td>    0.061</td> <td>   16.610</td> <td> 0.000</td> <td>    0.892</td> <td>    1.131</td>\n",
       "</tr>\n",
       "<tr>\n",
       "  <th>ar.L2.Exchange_Rate</th> <td>   -0.0056</td> <td>    0.087</td> <td>   -0.065</td> <td> 0.948</td> <td>   -0.176</td> <td>    0.165</td>\n",
       "</tr>\n",
       "<tr>\n",
       "  <th>ar.L3.Exchange_Rate</th> <td>   -0.0189</td> <td>    0.061</td> <td>   -0.308</td> <td> 0.758</td> <td>   -0.139</td> <td>    0.101</td>\n",
       "</tr>\n",
       "</table>\n",
       "<table class=\"simpletable\">\n",
       "<caption>Roots</caption>\n",
       "<tr>\n",
       "    <td></td>   <th>            Real</th>  <th>         Imaginary</th> <th>         Modulus</th>  <th>        Frequency</th>\n",
       "</tr>\n",
       "<tr>\n",
       "  <th>AR.1</th> <td>           1.0135</td> <td>          +0.0000j</td> <td>           1.0135</td> <td>           0.0000</td>\n",
       "</tr>\n",
       "<tr>\n",
       "  <th>AR.2</th> <td>           6.6060</td> <td>          +0.0000j</td> <td>           6.6060</td> <td>           0.0000</td>\n",
       "</tr>\n",
       "<tr>\n",
       "  <th>AR.3</th> <td>          -7.9184</td> <td>          +0.0000j</td> <td>           7.9184</td> <td>           0.5000</td>\n",
       "</tr>\n",
       "</table>"
      ],
      "text/plain": [
       "<class 'statsmodels.iolib.summary.Summary'>\n",
       "\"\"\"\n",
       "                              ARMA Model Results                              \n",
       "==============================================================================\n",
       "Dep. Variable:          Exchange_Rate   No. Observations:                  268\n",
       "Model:                     ARMA(3, 0)   Log Likelihood                  78.579\n",
       "Method:                       css-mle   S.D. of innovations              0.179\n",
       "Date:                Mon, 18 Jul 2022   AIC                           -147.158\n",
       "Time:                        13:44:22   BIC                           -129.203\n",
       "Sample:                    01-01-1992   HQIC                          -139.947\n",
       "                         - 04-01-2014                                         \n",
       "=======================================================================================\n",
       "                          coef    std err          z      P>|z|      [0.025      0.975]\n",
       "---------------------------------------------------------------------------------------\n",
       "const                   6.9311      0.750      9.246      0.000       5.462       8.400\n",
       "ar.L1.Exchange_Rate     1.0118      0.061     16.610      0.000       0.892       1.131\n",
       "ar.L2.Exchange_Rate    -0.0056      0.087     -0.065      0.948      -0.176       0.165\n",
       "ar.L3.Exchange_Rate    -0.0189      0.061     -0.308      0.758      -0.139       0.101\n",
       "                                    Roots                                    \n",
       "=============================================================================\n",
       "                  Real          Imaginary           Modulus         Frequency\n",
       "-----------------------------------------------------------------------------\n",
       "AR.1            1.0135           +0.0000j            1.0135            0.0000\n",
       "AR.2            6.6060           +0.0000j            6.6060            0.0000\n",
       "AR.3           -7.9184           +0.0000j            7.9184            0.5000\n",
       "-----------------------------------------------------------------------------\n",
       "\"\"\""
      ]
     },
     "execution_count": 65,
     "metadata": {},
     "output_type": "execute_result"
    }
   ],
   "source": [
    "model_ar3=ARMA(df_train.Exchange_Rate,order=(3,0))\n",
    "res_ar3=model_ar3.fit()\n",
    "res_ar3.summary()"
   ]
  },
  {
   "cell_type": "code",
   "execution_count": null,
   "metadata": {
    "colab": {
     "base_uri": "https://localhost:8080/",
     "height": 634
    },
    "id": "2Ru81Fbdn6HJ",
    "outputId": "1d679032-ffb6-4121-c61d-dcd33d37554b"
   },
   "outputs": [
    {
     "name": "stderr",
     "output_type": "stream",
     "text": [
      "/usr/local/lib/python3.7/dist-packages/statsmodels/tsa/base/tsa_model.py:165: ValueWarning: No frequency information was provided, so inferred frequency MS will be used.\n",
      "  % freq, ValueWarning)\n"
     ]
    },
    {
     "data": {
      "text/html": [
       "<table class=\"simpletable\">\n",
       "<caption>ARMA Model Results</caption>\n",
       "<tr>\n",
       "  <th>Dep. Variable:</th>   <td>Exchange_Rate</td>  <th>  No. Observations:  </th>    <td>268</td>  \n",
       "</tr>\n",
       "<tr>\n",
       "  <th>Model:</th>            <td>ARMA(8, 0)</td>    <th>  Log Likelihood     </th>  <td>78.679</td> \n",
       "</tr>\n",
       "<tr>\n",
       "  <th>Method:</th>             <td>css-mle</td>     <th>  S.D. of innovations</th>   <td>0.179</td> \n",
       "</tr>\n",
       "<tr>\n",
       "  <th>Date:</th>          <td>Mon, 18 Jul 2022</td> <th>  AIC                </th> <td>-137.358</td>\n",
       "</tr>\n",
       "<tr>\n",
       "  <th>Time:</th>              <td>13:44:24</td>     <th>  BIC                </th> <td>-101.448</td>\n",
       "</tr>\n",
       "<tr>\n",
       "  <th>Sample:</th>           <td>01-01-1992</td>    <th>  HQIC               </th> <td>-122.935</td>\n",
       "</tr>\n",
       "<tr>\n",
       "  <th></th>                 <td>- 04-01-2014</td>   <th>                     </th>     <td> </td>   \n",
       "</tr>\n",
       "</table>\n",
       "<table class=\"simpletable\">\n",
       "<tr>\n",
       "           <td></td>              <th>coef</th>     <th>std err</th>      <th>z</th>      <th>P>|z|</th>  <th>[0.025</th>    <th>0.975]</th>  \n",
       "</tr>\n",
       "<tr>\n",
       "  <th>const</th>               <td>    6.9819</td> <td>    0.722</td> <td>    9.673</td> <td> 0.000</td> <td>    5.567</td> <td>    8.397</td>\n",
       "</tr>\n",
       "<tr>\n",
       "  <th>ar.L1.Exchange_Rate</th> <td>    1.0112</td> <td>    0.061</td> <td>   16.599</td> <td> 0.000</td> <td>    0.892</td> <td>    1.131</td>\n",
       "</tr>\n",
       "<tr>\n",
       "  <th>ar.L2.Exchange_Rate</th> <td>   -0.0057</td> <td>    0.087</td> <td>   -0.066</td> <td> 0.948</td> <td>   -0.176</td> <td>    0.164</td>\n",
       "</tr>\n",
       "<tr>\n",
       "  <th>ar.L3.Exchange_Rate</th> <td>   -0.0043</td> <td>    0.087</td> <td>   -0.050</td> <td> 0.960</td> <td>   -0.174</td> <td>    0.166</td>\n",
       "</tr>\n",
       "<tr>\n",
       "  <th>ar.L4.Exchange_Rate</th> <td>   -0.0117</td> <td>    0.086</td> <td>   -0.135</td> <td> 0.893</td> <td>   -0.181</td> <td>    0.158</td>\n",
       "</tr>\n",
       "<tr>\n",
       "  <th>ar.L5.Exchange_Rate</th> <td>    0.0141</td> <td>    0.086</td> <td>    0.163</td> <td> 0.871</td> <td>   -0.155</td> <td>    0.183</td>\n",
       "</tr>\n",
       "<tr>\n",
       "  <th>ar.L6.Exchange_Rate</th> <td>   -0.0026</td> <td>    0.086</td> <td>   -0.030</td> <td> 0.976</td> <td>   -0.171</td> <td>    0.166</td>\n",
       "</tr>\n",
       "<tr>\n",
       "  <th>ar.L7.Exchange_Rate</th> <td>   -0.0135</td> <td>    0.086</td> <td>   -0.157</td> <td> 0.876</td> <td>   -0.182</td> <td>    0.155</td>\n",
       "</tr>\n",
       "<tr>\n",
       "  <th>ar.L8.Exchange_Rate</th> <td>   -0.0012</td> <td>    0.061</td> <td>   -0.019</td> <td> 0.985</td> <td>   -0.120</td> <td>    0.118</td>\n",
       "</tr>\n",
       "</table>\n",
       "<table class=\"simpletable\">\n",
       "<caption>Roots</caption>\n",
       "<tr>\n",
       "    <td></td>   <th>            Real</th>  <th>         Imaginary</th> <th>         Modulus</th>  <th>        Frequency</th>\n",
       "</tr>\n",
       "<tr>\n",
       "  <th>AR.1</th> <td>           1.0155</td> <td>          -0.0000j</td> <td>           1.0155</td> <td>          -0.0000</td>\n",
       "</tr>\n",
       "<tr>\n",
       "  <th>AR.2</th> <td>           1.7473</td> <td>          -0.0000j</td> <td>           1.7473</td> <td>          -0.0000</td>\n",
       "</tr>\n",
       "<tr>\n",
       "  <th>AR.3</th> <td>           0.9029</td> <td>          -1.7268j</td> <td>           1.9486</td> <td>          -0.1733</td>\n",
       "</tr>\n",
       "<tr>\n",
       "  <th>AR.4</th> <td>           0.9029</td> <td>          +1.7268j</td> <td>           1.9486</td> <td>           0.1733</td>\n",
       "</tr>\n",
       "<tr>\n",
       "  <th>AR.5</th> <td>          -1.2065</td> <td>          -1.7739j</td> <td>           2.1453</td> <td>          -0.3451</td>\n",
       "</tr>\n",
       "<tr>\n",
       "  <th>AR.6</th> <td>          -1.2065</td> <td>          +1.7739j</td> <td>           2.1453</td> <td>           0.3451</td>\n",
       "</tr>\n",
       "<tr>\n",
       "  <th>AR.7</th> <td>          -2.4551</td> <td>          -0.0000j</td> <td>           2.4551</td> <td>          -0.5000</td>\n",
       "</tr>\n",
       "<tr>\n",
       "  <th>AR.8</th> <td>         -11.1326</td> <td>          -0.0000j</td> <td>          11.1326</td> <td>          -0.5000</td>\n",
       "</tr>\n",
       "</table>"
      ],
      "text/plain": [
       "<class 'statsmodels.iolib.summary.Summary'>\n",
       "\"\"\"\n",
       "                              ARMA Model Results                              \n",
       "==============================================================================\n",
       "Dep. Variable:          Exchange_Rate   No. Observations:                  268\n",
       "Model:                     ARMA(8, 0)   Log Likelihood                  78.679\n",
       "Method:                       css-mle   S.D. of innovations              0.179\n",
       "Date:                Mon, 18 Jul 2022   AIC                           -137.358\n",
       "Time:                        13:44:24   BIC                           -101.448\n",
       "Sample:                    01-01-1992   HQIC                          -122.935\n",
       "                         - 04-01-2014                                         \n",
       "=======================================================================================\n",
       "                          coef    std err          z      P>|z|      [0.025      0.975]\n",
       "---------------------------------------------------------------------------------------\n",
       "const                   6.9819      0.722      9.673      0.000       5.567       8.397\n",
       "ar.L1.Exchange_Rate     1.0112      0.061     16.599      0.000       0.892       1.131\n",
       "ar.L2.Exchange_Rate    -0.0057      0.087     -0.066      0.948      -0.176       0.164\n",
       "ar.L3.Exchange_Rate    -0.0043      0.087     -0.050      0.960      -0.174       0.166\n",
       "ar.L4.Exchange_Rate    -0.0117      0.086     -0.135      0.893      -0.181       0.158\n",
       "ar.L5.Exchange_Rate     0.0141      0.086      0.163      0.871      -0.155       0.183\n",
       "ar.L6.Exchange_Rate    -0.0026      0.086     -0.030      0.976      -0.171       0.166\n",
       "ar.L7.Exchange_Rate    -0.0135      0.086     -0.157      0.876      -0.182       0.155\n",
       "ar.L8.Exchange_Rate    -0.0012      0.061     -0.019      0.985      -0.120       0.118\n",
       "                                    Roots                                    \n",
       "=============================================================================\n",
       "                  Real          Imaginary           Modulus         Frequency\n",
       "-----------------------------------------------------------------------------\n",
       "AR.1            1.0155           -0.0000j            1.0155           -0.0000\n",
       "AR.2            1.7473           -0.0000j            1.7473           -0.0000\n",
       "AR.3            0.9029           -1.7268j            1.9486           -0.1733\n",
       "AR.4            0.9029           +1.7268j            1.9486            0.1733\n",
       "AR.5           -1.2065           -1.7739j            2.1453           -0.3451\n",
       "AR.6           -1.2065           +1.7739j            2.1453            0.3451\n",
       "AR.7           -2.4551           -0.0000j            2.4551           -0.5000\n",
       "AR.8          -11.1326           -0.0000j           11.1326           -0.5000\n",
       "-----------------------------------------------------------------------------\n",
       "\"\"\""
      ]
     },
     "execution_count": 66,
     "metadata": {},
     "output_type": "execute_result"
    }
   ],
   "source": [
    "model_ar8=ARMA(df_train.Exchange_Rate,order=(8,0))\n",
    "res_ar8=model_ar8.fit()\n",
    "res_ar8.summary()"
   ]
  },
  {
   "cell_type": "code",
   "execution_count": null,
   "metadata": {
    "colab": {
     "base_uri": "https://localhost:8080/",
     "height": 455
    },
    "id": "xXYLrmzfnrQW",
    "outputId": "6d6c4532-fccd-4966-99f0-14ab96f47d81"
   },
   "outputs": [
    {
     "data": {
      "text/html": [
       "\n",
       "  <div id=\"df-7a23216a-2ad1-4dbc-82a7-2867ad0db32b\">\n",
       "    <div class=\"colab-df-container\">\n",
       "      <div>\n",
       "<style scoped>\n",
       "    .dataframe tbody tr th:only-of-type {\n",
       "        vertical-align: middle;\n",
       "    }\n",
       "\n",
       "    .dataframe tbody tr th {\n",
       "        vertical-align: top;\n",
       "    }\n",
       "\n",
       "    .dataframe thead th {\n",
       "        text-align: right;\n",
       "    }\n",
       "</style>\n",
       "<table border=\"1\" class=\"dataframe\">\n",
       "  <thead>\n",
       "    <tr style=\"text-align: right;\">\n",
       "      <th></th>\n",
       "      <th>Prediction</th>\n",
       "    </tr>\n",
       "    <tr>\n",
       "      <th>Date</th>\n",
       "      <th></th>\n",
       "    </tr>\n",
       "  </thead>\n",
       "  <tbody>\n",
       "    <tr>\n",
       "      <th>2014-05-01</th>\n",
       "      <td>6.232589</td>\n",
       "    </tr>\n",
       "    <tr>\n",
       "      <th>2014-06-01</th>\n",
       "      <td>6.240482</td>\n",
       "    </tr>\n",
       "    <tr>\n",
       "      <th>2014-07-01</th>\n",
       "      <td>6.248280</td>\n",
       "    </tr>\n",
       "    <tr>\n",
       "      <th>2014-08-01</th>\n",
       "      <td>6.255984</td>\n",
       "    </tr>\n",
       "    <tr>\n",
       "      <th>2014-09-01</th>\n",
       "      <td>6.263596</td>\n",
       "    </tr>\n",
       "    <tr>\n",
       "      <th>...</th>\n",
       "      <td>...</td>\n",
       "    </tr>\n",
       "    <tr>\n",
       "      <th>2019-07-01</th>\n",
       "      <td>6.579074</td>\n",
       "    </tr>\n",
       "    <tr>\n",
       "      <th>2019-08-01</th>\n",
       "      <td>6.582806</td>\n",
       "    </tr>\n",
       "    <tr>\n",
       "      <th>2019-09-01</th>\n",
       "      <td>6.586493</td>\n",
       "    </tr>\n",
       "    <tr>\n",
       "      <th>2019-10-01</th>\n",
       "      <td>6.590135</td>\n",
       "    </tr>\n",
       "    <tr>\n",
       "      <th>2019-11-01</th>\n",
       "      <td>6.593734</td>\n",
       "    </tr>\n",
       "  </tbody>\n",
       "</table>\n",
       "<p>67 rows × 1 columns</p>\n",
       "</div>\n",
       "      <button class=\"colab-df-convert\" onclick=\"convertToInteractive('df-7a23216a-2ad1-4dbc-82a7-2867ad0db32b')\"\n",
       "              title=\"Convert this dataframe to an interactive table.\"\n",
       "              style=\"display:none;\">\n",
       "        \n",
       "  <svg xmlns=\"http://www.w3.org/2000/svg\" height=\"24px\"viewBox=\"0 0 24 24\"\n",
       "       width=\"24px\">\n",
       "    <path d=\"M0 0h24v24H0V0z\" fill=\"none\"/>\n",
       "    <path d=\"M18.56 5.44l.94 2.06.94-2.06 2.06-.94-2.06-.94-.94-2.06-.94 2.06-2.06.94zm-11 1L8.5 8.5l.94-2.06 2.06-.94-2.06-.94L8.5 2.5l-.94 2.06-2.06.94zm10 10l.94 2.06.94-2.06 2.06-.94-2.06-.94-.94-2.06-.94 2.06-2.06.94z\"/><path d=\"M17.41 7.96l-1.37-1.37c-.4-.4-.92-.59-1.43-.59-.52 0-1.04.2-1.43.59L10.3 9.45l-7.72 7.72c-.78.78-.78 2.05 0 2.83L4 21.41c.39.39.9.59 1.41.59.51 0 1.02-.2 1.41-.59l7.78-7.78 2.81-2.81c.8-.78.8-2.07 0-2.86zM5.41 20L4 18.59l7.72-7.72 1.47 1.35L5.41 20z\"/>\n",
       "  </svg>\n",
       "      </button>\n",
       "      \n",
       "  <style>\n",
       "    .colab-df-container {\n",
       "      display:flex;\n",
       "      flex-wrap:wrap;\n",
       "      gap: 12px;\n",
       "    }\n",
       "\n",
       "    .colab-df-convert {\n",
       "      background-color: #E8F0FE;\n",
       "      border: none;\n",
       "      border-radius: 50%;\n",
       "      cursor: pointer;\n",
       "      display: none;\n",
       "      fill: #1967D2;\n",
       "      height: 32px;\n",
       "      padding: 0 0 0 0;\n",
       "      width: 32px;\n",
       "    }\n",
       "\n",
       "    .colab-df-convert:hover {\n",
       "      background-color: #E2EBFA;\n",
       "      box-shadow: 0px 1px 2px rgba(60, 64, 67, 0.3), 0px 1px 3px 1px rgba(60, 64, 67, 0.15);\n",
       "      fill: #174EA6;\n",
       "    }\n",
       "\n",
       "    [theme=dark] .colab-df-convert {\n",
       "      background-color: #3B4455;\n",
       "      fill: #D2E3FC;\n",
       "    }\n",
       "\n",
       "    [theme=dark] .colab-df-convert:hover {\n",
       "      background-color: #434B5C;\n",
       "      box-shadow: 0px 1px 3px 1px rgba(0, 0, 0, 0.15);\n",
       "      filter: drop-shadow(0px 1px 2px rgba(0, 0, 0, 0.3));\n",
       "      fill: #FFFFFF;\n",
       "    }\n",
       "  </style>\n",
       "\n",
       "      <script>\n",
       "        const buttonEl =\n",
       "          document.querySelector('#df-7a23216a-2ad1-4dbc-82a7-2867ad0db32b button.colab-df-convert');\n",
       "        buttonEl.style.display =\n",
       "          google.colab.kernel.accessAllowed ? 'block' : 'none';\n",
       "\n",
       "        async function convertToInteractive(key) {\n",
       "          const element = document.querySelector('#df-7a23216a-2ad1-4dbc-82a7-2867ad0db32b');\n",
       "          const dataTable =\n",
       "            await google.colab.kernel.invokeFunction('convertToInteractive',\n",
       "                                                     [key], {});\n",
       "          if (!dataTable) return;\n",
       "\n",
       "          const docLinkHtml = 'Like what you see? Visit the ' +\n",
       "            '<a target=\"_blank\" href=https://colab.research.google.com/notebooks/data_table.ipynb>data table notebook</a>'\n",
       "            + ' to learn more about interactive tables.';\n",
       "          element.innerHTML = '';\n",
       "          dataTable['output_type'] = 'display_data';\n",
       "          await google.colab.output.renderOutput(dataTable, element);\n",
       "          const docLink = document.createElement('div');\n",
       "          docLink.innerHTML = docLinkHtml;\n",
       "          element.appendChild(docLink);\n",
       "        }\n",
       "      </script>\n",
       "    </div>\n",
       "  </div>\n",
       "  "
      ],
      "text/plain": [
       "            Prediction\n",
       "Date                  \n",
       "2014-05-01    6.232589\n",
       "2014-06-01    6.240482\n",
       "2014-07-01    6.248280\n",
       "2014-08-01    6.255984\n",
       "2014-09-01    6.263596\n",
       "...                ...\n",
       "2019-07-01    6.579074\n",
       "2019-08-01    6.582806\n",
       "2019-09-01    6.586493\n",
       "2019-10-01    6.590135\n",
       "2019-11-01    6.593734\n",
       "\n",
       "[67 rows x 1 columns]"
      ]
     },
     "execution_count": 67,
     "metadata": {},
     "output_type": "execute_result"
    }
   ],
   "source": [
    "pred =res_ar1.predict(start=len(df_train),end=(len(df)-1),dynamic=False)\n",
    "forecast = pd.DataFrame(pred,index = df_test.index,columns=['Prediction'])\n",
    "forecast"
   ]
  },
  {
   "cell_type": "code",
   "execution_count": null,
   "metadata": {
    "colab": {
     "base_uri": "https://localhost:8080/",
     "height": 531
    },
    "id": "c4SVe_yWrdH5",
    "outputId": "a5b4280c-c2e2-4440-870e-1d4820177285"
   },
   "outputs": [
    {
     "data": {
      "text/plain": [
       "[<matplotlib.lines.Line2D at 0x7f4342129c10>]"
      ]
     },
     "execution_count": 68,
     "metadata": {},
     "output_type": "execute_result"
    },
    {
     "data": {
      "image/png": "[encoded data removed]",
      "text/plain": [
       "<Figure size 1152x576 with 1 Axes>"
      ]
     },
     "metadata": {
      "needs_background": "light"
     },
     "output_type": "display_data"
    }
   ],
   "source": [
    "plt.figure(figsize=(16,8))\n",
    "plt.title('China exchange rate predictions using AR')\n",
    "plt.ylabel('Excahnge Rate(Yuan/DOllar)')\n",
    "plt.xlabel('Time')\n",
    "plt.plot(df_train.Exchange_Rate)\n",
    "plt.plot(df_test.Exchange_Rate,color='g')\n",
    "plt.plot(forecast['Prediction'],color='r')"
   ]
  },
  {
   "cell_type": "markdown",
   "metadata": {
    "id": "Sr7BucJBrhVO"
   },
   "source": [
    "#Moving Average"
   ]
  },
  {
   "cell_type": "code",
   "execution_count": null,
   "metadata": {
    "colab": {
     "base_uri": "https://localhost:8080/",
     "height": 342
    },
    "id": "eGB3TtGGrlwf",
    "outputId": "8fa4b41a-7189-4c35-ff68-161582805e99"
   },
   "outputs": [
    {
     "name": "stderr",
     "output_type": "stream",
     "text": [
      "/usr/local/lib/python3.7/dist-packages/statsmodels/tsa/base/tsa_model.py:165: ValueWarning: No frequency information was provided, so inferred frequency MS will be used.\n",
      "  % freq, ValueWarning)\n"
     ]
    },
    {
     "data": {
      "text/html": [
       "<table class=\"simpletable\">\n",
       "<caption>ARMA Model Results</caption>\n",
       "<tr>\n",
       "  <th>Dep. Variable:</th>   <td>Exchange_Rate</td>  <th>  No. Observations:  </th>    <td>268</td>  \n",
       "</tr>\n",
       "<tr>\n",
       "  <th>Model:</th>            <td>ARMA(0, 1)</td>    <th>  Log Likelihood     </th> <td>-223.725</td>\n",
       "</tr>\n",
       "<tr>\n",
       "  <th>Method:</th>             <td>css-mle</td>     <th>  S.D. of innovations</th>   <td>0.556</td> \n",
       "</tr>\n",
       "<tr>\n",
       "  <th>Date:</th>          <td>Mon, 18 Jul 2022</td> <th>  AIC                </th>  <td>453.449</td>\n",
       "</tr>\n",
       "<tr>\n",
       "  <th>Time:</th>              <td>13:44:25</td>     <th>  BIC                </th>  <td>464.222</td>\n",
       "</tr>\n",
       "<tr>\n",
       "  <th>Sample:</th>           <td>01-01-1992</td>    <th>  HQIC               </th>  <td>457.776</td>\n",
       "</tr>\n",
       "<tr>\n",
       "  <th></th>                 <td>- 04-01-2014</td>   <th>                     </th>     <td> </td>   \n",
       "</tr>\n",
       "</table>\n",
       "<table class=\"simpletable\">\n",
       "<tr>\n",
       "           <td></td>              <th>coef</th>     <th>std err</th>      <th>z</th>      <th>P>|z|</th>  <th>[0.025</th>    <th>0.975]</th>  \n",
       "</tr>\n",
       "<tr>\n",
       "  <th>const</th>               <td>    7.5266</td> <td>    0.064</td> <td>  117.435</td> <td> 0.000</td> <td>    7.401</td> <td>    7.652</td>\n",
       "</tr>\n",
       "<tr>\n",
       "  <th>ma.L1.Exchange_Rate</th> <td>    0.8906</td> <td>    0.021</td> <td>   41.551</td> <td> 0.000</td> <td>    0.849</td> <td>    0.933</td>\n",
       "</tr>\n",
       "</table>\n",
       "<table class=\"simpletable\">\n",
       "<caption>Roots</caption>\n",
       "<tr>\n",
       "    <td></td>   <th>            Real</th>  <th>         Imaginary</th> <th>         Modulus</th>  <th>        Frequency</th>\n",
       "</tr>\n",
       "<tr>\n",
       "  <th>MA.1</th> <td>          -1.1228</td> <td>          +0.0000j</td> <td>           1.1228</td> <td>           0.5000</td>\n",
       "</tr>\n",
       "</table>"
      ],
      "text/plain": [
       "<class 'statsmodels.iolib.summary.Summary'>\n",
       "\"\"\"\n",
       "                              ARMA Model Results                              \n",
       "==============================================================================\n",
       "Dep. Variable:          Exchange_Rate   No. Observations:                  268\n",
       "Model:                     ARMA(0, 1)   Log Likelihood                -223.725\n",
       "Method:                       css-mle   S.D. of innovations              0.556\n",
       "Date:                Mon, 18 Jul 2022   AIC                            453.449\n",
       "Time:                        13:44:25   BIC                            464.222\n",
       "Sample:                    01-01-1992   HQIC                           457.776\n",
       "                         - 04-01-2014                                         \n",
       "=======================================================================================\n",
       "                          coef    std err          z      P>|z|      [0.025      0.975]\n",
       "---------------------------------------------------------------------------------------\n",
       "const                   7.5266      0.064    117.435      0.000       7.401       7.652\n",
       "ma.L1.Exchange_Rate     0.8906      0.021     41.551      0.000       0.849       0.933\n",
       "                                    Roots                                    \n",
       "=============================================================================\n",
       "                  Real          Imaginary           Modulus         Frequency\n",
       "-----------------------------------------------------------------------------\n",
       "MA.1           -1.1228           +0.0000j            1.1228            0.5000\n",
       "-----------------------------------------------------------------------------\n",
       "\"\"\""
      ]
     },
     "execution_count": 69,
     "metadata": {},
     "output_type": "execute_result"
    }
   ],
   "source": [
    "model_MA1=ARMA(df_train.Exchange_Rate,order=(0,1))\n",
    "res_MA1=model_MA1.fit()\n",
    "res_MA1.summary()"
   ]
  },
  {
   "cell_type": "code",
   "execution_count": null,
   "metadata": {
    "colab": {
     "base_uri": "https://localhost:8080/",
     "height": 426
    },
    "id": "bfJyqBnRrl1R",
    "outputId": "f93064bb-28f6-431f-be03-5ad35a23323c"
   },
   "outputs": [
    {
     "name": "stderr",
     "output_type": "stream",
     "text": [
      "/usr/local/lib/python3.7/dist-packages/statsmodels/tsa/base/tsa_model.py:165: ValueWarning: No frequency information was provided, so inferred frequency MS will be used.\n",
      "  % freq, ValueWarning)\n"
     ]
    },
    {
     "data": {
      "text/html": [
       "<table class=\"simpletable\">\n",
       "<caption>ARMA Model Results</caption>\n",
       "<tr>\n",
       "  <th>Dep. Variable:</th>   <td>Exchange_Rate</td>  <th>  No. Observations:  </th>   <td>268</td>  \n",
       "</tr>\n",
       "<tr>\n",
       "  <th>Model:</th>            <td>ARMA(0, 3)</td>    <th>  Log Likelihood     </th> <td>-69.985</td>\n",
       "</tr>\n",
       "<tr>\n",
       "  <th>Method:</th>             <td>css-mle</td>     <th>  S.D. of innovations</th>  <td>0.313</td> \n",
       "</tr>\n",
       "<tr>\n",
       "  <th>Date:</th>          <td>Mon, 18 Jul 2022</td> <th>  AIC                </th> <td>149.971</td>\n",
       "</tr>\n",
       "<tr>\n",
       "  <th>Time:</th>              <td>13:44:25</td>     <th>  BIC                </th> <td>167.926</td>\n",
       "</tr>\n",
       "<tr>\n",
       "  <th>Sample:</th>           <td>01-01-1992</td>    <th>  HQIC               </th> <td>157.182</td>\n",
       "</tr>\n",
       "<tr>\n",
       "  <th></th>                 <td>- 04-01-2014</td>   <th>                     </th>    <td> </td>   \n",
       "</tr>\n",
       "</table>\n",
       "<table class=\"simpletable\">\n",
       "<tr>\n",
       "           <td></td>              <th>coef</th>     <th>std err</th>      <th>z</th>      <th>P>|z|</th>  <th>[0.025</th>    <th>0.975]</th>  \n",
       "</tr>\n",
       "<tr>\n",
       "  <th>const</th>               <td>    7.5154</td> <td>    0.079</td> <td>   94.541</td> <td> 0.000</td> <td>    7.360</td> <td>    7.671</td>\n",
       "</tr>\n",
       "<tr>\n",
       "  <th>ma.L1.Exchange_Rate</th> <td>    1.4087</td> <td>    0.066</td> <td>   21.406</td> <td> 0.000</td> <td>    1.280</td> <td>    1.538</td>\n",
       "</tr>\n",
       "<tr>\n",
       "  <th>ma.L2.Exchange_Rate</th> <td>    1.2027</td> <td>    0.060</td> <td>   19.996</td> <td> 0.000</td> <td>    1.085</td> <td>    1.321</td>\n",
       "</tr>\n",
       "<tr>\n",
       "  <th>ma.L3.Exchange_Rate</th> <td>    0.5715</td> <td>    0.044</td> <td>   13.055</td> <td> 0.000</td> <td>    0.486</td> <td>    0.657</td>\n",
       "</tr>\n",
       "</table>\n",
       "<table class=\"simpletable\">\n",
       "<caption>Roots</caption>\n",
       "<tr>\n",
       "    <td></td>   <th>            Real</th>  <th>         Imaginary</th> <th>         Modulus</th>  <th>        Frequency</th>\n",
       "</tr>\n",
       "<tr>\n",
       "  <th>MA.1</th> <td>          -1.2519</td> <td>          -0.0000j</td> <td>           1.2519</td> <td>          -0.5000</td>\n",
       "</tr>\n",
       "<tr>\n",
       "  <th>MA.2</th> <td>          -0.4262</td> <td>          -1.1027j</td> <td>           1.1822</td> <td>          -0.3087</td>\n",
       "</tr>\n",
       "<tr>\n",
       "  <th>MA.3</th> <td>          -0.4262</td> <td>          +1.1027j</td> <td>           1.1822</td> <td>           0.3087</td>\n",
       "</tr>\n",
       "</table>"
      ],
      "text/plain": [
       "<class 'statsmodels.iolib.summary.Summary'>\n",
       "\"\"\"\n",
       "                              ARMA Model Results                              \n",
       "==============================================================================\n",
       "Dep. Variable:          Exchange_Rate   No. Observations:                  268\n",
       "Model:                     ARMA(0, 3)   Log Likelihood                 -69.985\n",
       "Method:                       css-mle   S.D. of innovations              0.313\n",
       "Date:                Mon, 18 Jul 2022   AIC                            149.971\n",
       "Time:                        13:44:25   BIC                            167.926\n",
       "Sample:                    01-01-1992   HQIC                           157.182\n",
       "                         - 04-01-2014                                         \n",
       "=======================================================================================\n",
       "                          coef    std err          z      P>|z|      [0.025      0.975]\n",
       "---------------------------------------------------------------------------------------\n",
       "const                   7.5154      0.079     94.541      0.000       7.360       7.671\n",
       "ma.L1.Exchange_Rate     1.4087      0.066     21.406      0.000       1.280       1.538\n",
       "ma.L2.Exchange_Rate     1.2027      0.060     19.996      0.000       1.085       1.321\n",
       "ma.L3.Exchange_Rate     0.5715      0.044     13.055      0.000       0.486       0.657\n",
       "                                    Roots                                    \n",
       "=============================================================================\n",
       "                  Real          Imaginary           Modulus         Frequency\n",
       "-----------------------------------------------------------------------------\n",
       "MA.1           -1.2519           -0.0000j            1.2519           -0.5000\n",
       "MA.2           -0.4262           -1.1027j            1.1822           -0.3087\n",
       "MA.3           -0.4262           +1.1027j            1.1822            0.3087\n",
       "-----------------------------------------------------------------------------\n",
       "\"\"\""
      ]
     },
     "execution_count": 70,
     "metadata": {},
     "output_type": "execute_result"
    }
   ],
   "source": [
    "model_MA3=ARMA(df_train.Exchange_Rate,order=(0,3))\n",
    "res_MA3=model_MA3.fit()\n",
    "res_MA3.summary()"
   ]
  },
  {
   "cell_type": "code",
   "execution_count": null,
   "metadata": {
    "colab": {
     "base_uri": "https://localhost:8080/",
     "height": 509
    },
    "id": "kPoNLqIGrl3m",
    "outputId": "2be93932-3a01-4a91-c23b-d6e962b6523f"
   },
   "outputs": [
    {
     "name": "stderr",
     "output_type": "stream",
     "text": [
      "/usr/local/lib/python3.7/dist-packages/statsmodels/tsa/base/tsa_model.py:165: ValueWarning: No frequency information was provided, so inferred frequency MS will be used.\n",
      "  % freq, ValueWarning)\n"
     ]
    },
    {
     "data": {
      "text/html": [
       "<table class=\"simpletable\">\n",
       "<caption>ARMA Model Results</caption>\n",
       "<tr>\n",
       "  <th>Dep. Variable:</th>   <td>Exchange_Rate</td>  <th>  No. Observations:  </th>   <td>268</td> \n",
       "</tr>\n",
       "<tr>\n",
       "  <th>Model:</th>            <td>ARMA(0, 5)</td>    <th>  Log Likelihood     </th> <td>-8.398</td>\n",
       "</tr>\n",
       "<tr>\n",
       "  <th>Method:</th>             <td>css-mle</td>     <th>  S.D. of innovations</th>  <td>0.248</td>\n",
       "</tr>\n",
       "<tr>\n",
       "  <th>Date:</th>          <td>Mon, 18 Jul 2022</td> <th>  AIC                </th> <td>30.795</td>\n",
       "</tr>\n",
       "<tr>\n",
       "  <th>Time:</th>              <td>13:44:26</td>     <th>  BIC                </th> <td>55.932</td>\n",
       "</tr>\n",
       "<tr>\n",
       "  <th>Sample:</th>           <td>01-01-1992</td>    <th>  HQIC               </th> <td>40.892</td>\n",
       "</tr>\n",
       "<tr>\n",
       "  <th></th>                 <td>- 04-01-2014</td>   <th>                     </th>    <td> </td>  \n",
       "</tr>\n",
       "</table>\n",
       "<table class=\"simpletable\">\n",
       "<tr>\n",
       "           <td></td>              <th>coef</th>     <th>std err</th>      <th>z</th>      <th>P>|z|</th>  <th>[0.025</th>    <th>0.975]</th>  \n",
       "</tr>\n",
       "<tr>\n",
       "  <th>const</th>               <td>    7.5061</td> <td>    0.095</td> <td>   78.798</td> <td> 0.000</td> <td>    7.319</td> <td>    7.693</td>\n",
       "</tr>\n",
       "<tr>\n",
       "  <th>ma.L1.Exchange_Rate</th> <td>    1.3514</td> <td>    0.071</td> <td>   18.901</td> <td> 0.000</td> <td>    1.211</td> <td>    1.491</td>\n",
       "</tr>\n",
       "<tr>\n",
       "  <th>ma.L2.Exchange_Rate</th> <td>    1.4502</td> <td>    0.106</td> <td>   13.734</td> <td> 0.000</td> <td>    1.243</td> <td>    1.657</td>\n",
       "</tr>\n",
       "<tr>\n",
       "  <th>ma.L3.Exchange_Rate</th> <td>    1.2659</td> <td>    0.086</td> <td>   14.801</td> <td> 0.000</td> <td>    1.098</td> <td>    1.434</td>\n",
       "</tr>\n",
       "<tr>\n",
       "  <th>ma.L4.Exchange_Rate</th> <td>    0.8609</td> <td>    0.068</td> <td>   12.717</td> <td> 0.000</td> <td>    0.728</td> <td>    0.994</td>\n",
       "</tr>\n",
       "<tr>\n",
       "  <th>ma.L5.Exchange_Rate</th> <td>    0.4018</td> <td>    0.058</td> <td>    6.977</td> <td> 0.000</td> <td>    0.289</td> <td>    0.515</td>\n",
       "</tr>\n",
       "</table>\n",
       "<table class=\"simpletable\">\n",
       "<caption>Roots</caption>\n",
       "<tr>\n",
       "    <td></td>   <th>            Real</th>  <th>         Imaginary</th> <th>         Modulus</th>  <th>        Frequency</th>\n",
       "</tr>\n",
       "<tr>\n",
       "  <th>MA.1</th> <td>           0.2776</td> <td>          -1.1175j</td> <td>           1.1515</td> <td>          -0.2112</td>\n",
       "</tr>\n",
       "<tr>\n",
       "  <th>MA.2</th> <td>           0.2776</td> <td>          +1.1175j</td> <td>           1.1515</td> <td>           0.2112</td>\n",
       "</tr>\n",
       "<tr>\n",
       "  <th>MA.3</th> <td>          -1.2389</td> <td>          -0.0000j</td> <td>           1.2389</td> <td>          -0.5000</td>\n",
       "</tr>\n",
       "<tr>\n",
       "  <th>MA.4</th> <td>          -0.7295</td> <td>          -0.9915j</td> <td>           1.2310</td> <td>          -0.3510</td>\n",
       "</tr>\n",
       "<tr>\n",
       "  <th>MA.5</th> <td>          -0.7295</td> <td>          +0.9915j</td> <td>           1.2310</td> <td>           0.3510</td>\n",
       "</tr>\n",
       "</table>"
      ],
      "text/plain": [
       "<class 'statsmodels.iolib.summary.Summary'>\n",
       "\"\"\"\n",
       "                              ARMA Model Results                              \n",
       "==============================================================================\n",
       "Dep. Variable:          Exchange_Rate   No. Observations:                  268\n",
       "Model:                     ARMA(0, 5)   Log Likelihood                  -8.398\n",
       "Method:                       css-mle   S.D. of innovations              0.248\n",
       "Date:                Mon, 18 Jul 2022   AIC                             30.795\n",
       "Time:                        13:44:26   BIC                             55.932\n",
       "Sample:                    01-01-1992   HQIC                            40.892\n",
       "                         - 04-01-2014                                         \n",
       "=======================================================================================\n",
       "                          coef    std err          z      P>|z|      [0.025      0.975]\n",
       "---------------------------------------------------------------------------------------\n",
       "const                   7.5061      0.095     78.798      0.000       7.319       7.693\n",
       "ma.L1.Exchange_Rate     1.3514      0.071     18.901      0.000       1.211       1.491\n",
       "ma.L2.Exchange_Rate     1.4502      0.106     13.734      0.000       1.243       1.657\n",
       "ma.L3.Exchange_Rate     1.2659      0.086     14.801      0.000       1.098       1.434\n",
       "ma.L4.Exchange_Rate     0.8609      0.068     12.717      0.000       0.728       0.994\n",
       "ma.L5.Exchange_Rate     0.4018      0.058      6.977      0.000       0.289       0.515\n",
       "                                    Roots                                    \n",
       "=============================================================================\n",
       "                  Real          Imaginary           Modulus         Frequency\n",
       "-----------------------------------------------------------------------------\n",
       "MA.1            0.2776           -1.1175j            1.1515           -0.2112\n",
       "MA.2            0.2776           +1.1175j            1.1515            0.2112\n",
       "MA.3           -1.2389           -0.0000j            1.2389           -0.5000\n",
       "MA.4           -0.7295           -0.9915j            1.2310           -0.3510\n",
       "MA.5           -0.7295           +0.9915j            1.2310            0.3510\n",
       "-----------------------------------------------------------------------------\n",
       "\"\"\""
      ]
     },
     "execution_count": 71,
     "metadata": {},
     "output_type": "execute_result"
    }
   ],
   "source": [
    "model_MA5=ARMA(df_train.Exchange_Rate,order=(0,5))\n",
    "res_MA5=model_MA5.fit()\n",
    "res_MA5.summary()"
   ]
  },
  {
   "cell_type": "code",
   "execution_count": null,
   "metadata": {
    "colab": {
     "base_uri": "https://localhost:8080/",
     "height": 592
    },
    "id": "uSLVkFULrl5x",
    "outputId": "8e9600f3-cb06-4191-8a8f-8319edd48dfc"
   },
   "outputs": [
    {
     "name": "stderr",
     "output_type": "stream",
     "text": [
      "/usr/local/lib/python3.7/dist-packages/statsmodels/tsa/base/tsa_model.py:165: ValueWarning: No frequency information was provided, so inferred frequency MS will be used.\n",
      "  % freq, ValueWarning)\n"
     ]
    },
    {
     "data": {
      "text/html": [
       "<table class=\"simpletable\">\n",
       "<caption>ARMA Model Results</caption>\n",
       "<tr>\n",
       "  <th>Dep. Variable:</th>   <td>Exchange_Rate</td>  <th>  No. Observations:  </th>   <td>268</td>  \n",
       "</tr>\n",
       "<tr>\n",
       "  <th>Model:</th>            <td>ARMA(0, 7)</td>    <th>  Log Likelihood     </th> <td>22.629</td> \n",
       "</tr>\n",
       "<tr>\n",
       "  <th>Method:</th>             <td>css-mle</td>     <th>  S.D. of innovations</th>  <td>0.221</td> \n",
       "</tr>\n",
       "<tr>\n",
       "  <th>Date:</th>          <td>Mon, 18 Jul 2022</td> <th>  AIC                </th> <td>-27.259</td>\n",
       "</tr>\n",
       "<tr>\n",
       "  <th>Time:</th>              <td>13:44:27</td>     <th>  BIC                </th>  <td>5.060</td> \n",
       "</tr>\n",
       "<tr>\n",
       "  <th>Sample:</th>           <td>01-01-1992</td>    <th>  HQIC               </th> <td>-14.278</td>\n",
       "</tr>\n",
       "<tr>\n",
       "  <th></th>                 <td>- 04-01-2014</td>   <th>                     </th>    <td> </td>   \n",
       "</tr>\n",
       "</table>\n",
       "<table class=\"simpletable\">\n",
       "<tr>\n",
       "           <td></td>              <th>coef</th>     <th>std err</th>      <th>z</th>      <th>P>|z|</th>  <th>[0.025</th>    <th>0.975]</th>  \n",
       "</tr>\n",
       "<tr>\n",
       "  <th>const</th>               <td>    7.4982</td> <td>    0.113</td> <td>   66.443</td> <td> 0.000</td> <td>    7.277</td> <td>    7.719</td>\n",
       "</tr>\n",
       "<tr>\n",
       "  <th>ma.L1.Exchange_Rate</th> <td>    1.2943</td> <td>    0.063</td> <td>   20.493</td> <td> 0.000</td> <td>    1.171</td> <td>    1.418</td>\n",
       "</tr>\n",
       "<tr>\n",
       "  <th>ma.L2.Exchange_Rate</th> <td>    1.4669</td> <td>    0.098</td> <td>   14.956</td> <td> 0.000</td> <td>    1.275</td> <td>    1.659</td>\n",
       "</tr>\n",
       "<tr>\n",
       "  <th>ma.L3.Exchange_Rate</th> <td>    1.4792</td> <td>    0.115</td> <td>   12.831</td> <td> 0.000</td> <td>    1.253</td> <td>    1.705</td>\n",
       "</tr>\n",
       "<tr>\n",
       "  <th>ma.L4.Exchange_Rate</th> <td>    1.2948</td> <td>    0.107</td> <td>   12.132</td> <td> 0.000</td> <td>    1.086</td> <td>    1.504</td>\n",
       "</tr>\n",
       "<tr>\n",
       "  <th>ma.L5.Exchange_Rate</th> <td>    0.9966</td> <td>    0.090</td> <td>   11.087</td> <td> 0.000</td> <td>    0.820</td> <td>    1.173</td>\n",
       "</tr>\n",
       "<tr>\n",
       "  <th>ma.L6.Exchange_Rate</th> <td>    0.6351</td> <td>    0.075</td> <td>    8.525</td> <td> 0.000</td> <td>    0.489</td> <td>    0.781</td>\n",
       "</tr>\n",
       "<tr>\n",
       "  <th>ma.L7.Exchange_Rate</th> <td>    0.2802</td> <td>    0.054</td> <td>    5.215</td> <td> 0.000</td> <td>    0.175</td> <td>    0.386</td>\n",
       "</tr>\n",
       "</table>\n",
       "<table class=\"simpletable\">\n",
       "<caption>Roots</caption>\n",
       "<tr>\n",
       "    <td></td>   <th>            Real</th>  <th>         Imaginary</th> <th>         Modulus</th>  <th>        Frequency</th>\n",
       "</tr>\n",
       "<tr>\n",
       "  <th>MA.1</th> <td>           0.5860</td> <td>          -0.9628j</td> <td>           1.1271</td> <td>          -0.1630</td>\n",
       "</tr>\n",
       "<tr>\n",
       "  <th>MA.2</th> <td>           0.5860</td> <td>          +0.9628j</td> <td>           1.1271</td> <td>           0.1630</td>\n",
       "</tr>\n",
       "<tr>\n",
       "  <th>MA.3</th> <td>          -0.1534</td> <td>          -1.1883j</td> <td>           1.1982</td> <td>          -0.2704</td>\n",
       "</tr>\n",
       "<tr>\n",
       "  <th>MA.4</th> <td>          -0.1534</td> <td>          +1.1883j</td> <td>           1.1982</td> <td>           0.2704</td>\n",
       "</tr>\n",
       "<tr>\n",
       "  <th>MA.5</th> <td>          -0.9427</td> <td>          -0.8253j</td> <td>           1.2529</td> <td>          -0.3855</td>\n",
       "</tr>\n",
       "<tr>\n",
       "  <th>MA.6</th> <td>          -0.9427</td> <td>          +0.8253j</td> <td>           1.2529</td> <td>           0.3855</td>\n",
       "</tr>\n",
       "<tr>\n",
       "  <th>MA.7</th> <td>          -1.2466</td> <td>          -0.0000j</td> <td>           1.2466</td> <td>          -0.5000</td>\n",
       "</tr>\n",
       "</table>"
      ],
      "text/plain": [
       "<class 'statsmodels.iolib.summary.Summary'>\n",
       "\"\"\"\n",
       "                              ARMA Model Results                              \n",
       "==============================================================================\n",
       "Dep. Variable:          Exchange_Rate   No. Observations:                  268\n",
       "Model:                     ARMA(0, 7)   Log Likelihood                  22.629\n",
       "Method:                       css-mle   S.D. of innovations              0.221\n",
       "Date:                Mon, 18 Jul 2022   AIC                            -27.259\n",
       "Time:                        13:44:27   BIC                              5.060\n",
       "Sample:                    01-01-1992   HQIC                           -14.278\n",
       "                         - 04-01-2014                                         \n",
       "=======================================================================================\n",
       "                          coef    std err          z      P>|z|      [0.025      0.975]\n",
       "---------------------------------------------------------------------------------------\n",
       "const                   7.4982      0.113     66.443      0.000       7.277       7.719\n",
       "ma.L1.Exchange_Rate     1.2943      0.063     20.493      0.000       1.171       1.418\n",
       "ma.L2.Exchange_Rate     1.4669      0.098     14.956      0.000       1.275       1.659\n",
       "ma.L3.Exchange_Rate     1.4792      0.115     12.831      0.000       1.253       1.705\n",
       "ma.L4.Exchange_Rate     1.2948      0.107     12.132      0.000       1.086       1.504\n",
       "ma.L5.Exchange_Rate     0.9966      0.090     11.087      0.000       0.820       1.173\n",
       "ma.L6.Exchange_Rate     0.6351      0.075      8.525      0.000       0.489       0.781\n",
       "ma.L7.Exchange_Rate     0.2802      0.054      5.215      0.000       0.175       0.386\n",
       "                                    Roots                                    \n",
       "=============================================================================\n",
       "                  Real          Imaginary           Modulus         Frequency\n",
       "-----------------------------------------------------------------------------\n",
       "MA.1            0.5860           -0.9628j            1.1271           -0.1630\n",
       "MA.2            0.5860           +0.9628j            1.1271            0.1630\n",
       "MA.3           -0.1534           -1.1883j            1.1982           -0.2704\n",
       "MA.4           -0.1534           +1.1883j            1.1982            0.2704\n",
       "MA.5           -0.9427           -0.8253j            1.2529           -0.3855\n",
       "MA.6           -0.9427           +0.8253j            1.2529            0.3855\n",
       "MA.7           -1.2466           -0.0000j            1.2466           -0.5000\n",
       "-----------------------------------------------------------------------------\n",
       "\"\"\""
      ]
     },
     "execution_count": 72,
     "metadata": {},
     "output_type": "execute_result"
    }
   ],
   "source": [
    "model_MA7=ARMA(df_train.Exchange_Rate,order=(0,7))\n",
    "res_MA7=model_MA7.fit()\n",
    "res_MA7.summary()"
   ]
  },
  {
   "cell_type": "code",
   "execution_count": null,
   "metadata": {
    "colab": {
     "base_uri": "https://localhost:8080/",
     "height": 842
    },
    "id": "Q_SUsTkprl8F",
    "outputId": "cf0c8d51-f830-4276-f982-98df9bb75696"
   },
   "outputs": [
    {
     "name": "stderr",
     "output_type": "stream",
     "text": [
      "/usr/local/lib/python3.7/dist-packages/statsmodels/tsa/base/tsa_model.py:165: ValueWarning: No frequency information was provided, so inferred frequency MS will be used.\n",
      "  % freq, ValueWarning)\n"
     ]
    },
    {
     "data": {
      "text/html": [
       "<table class=\"simpletable\">\n",
       "<caption>ARMA Model Results</caption>\n",
       "<tr>\n",
       "  <th>Dep. Variable:</th>   <td>Exchange_Rate</td>  <th>  No. Observations:  </th>   <td>268</td>  \n",
       "</tr>\n",
       "<tr>\n",
       "  <th>Model:</th>            <td>ARMA(0, 13)</td>   <th>  Log Likelihood     </th> <td>56.839</td> \n",
       "</tr>\n",
       "<tr>\n",
       "  <th>Method:</th>             <td>css-mle</td>     <th>  S.D. of innovations</th>  <td>0.194</td> \n",
       "</tr>\n",
       "<tr>\n",
       "  <th>Date:</th>          <td>Mon, 18 Jul 2022</td> <th>  AIC                </th> <td>-83.679</td>\n",
       "</tr>\n",
       "<tr>\n",
       "  <th>Time:</th>              <td>13:44:50</td>     <th>  BIC                </th> <td>-29.814</td>\n",
       "</tr>\n",
       "<tr>\n",
       "  <th>Sample:</th>           <td>01-01-1992</td>    <th>  HQIC               </th> <td>-62.044</td>\n",
       "</tr>\n",
       "<tr>\n",
       "  <th></th>                 <td>- 04-01-2014</td>   <th>                     </th>    <td> </td>   \n",
       "</tr>\n",
       "</table>\n",
       "<table class=\"simpletable\">\n",
       "<tr>\n",
       "            <td></td>              <th>coef</th>     <th>std err</th>      <th>z</th>      <th>P>|z|</th>  <th>[0.025</th>    <th>0.975]</th>  \n",
       "</tr>\n",
       "<tr>\n",
       "  <th>const</th>                <td>    7.4695</td> <td>    0.158</td> <td>   47.408</td> <td> 0.000</td> <td>    7.161</td> <td>    7.778</td>\n",
       "</tr>\n",
       "<tr>\n",
       "  <th>ma.L1.Exchange_Rate</th>  <td>    1.1547</td> <td>    0.062</td> <td>   18.510</td> <td> 0.000</td> <td>    1.032</td> <td>    1.277</td>\n",
       "</tr>\n",
       "<tr>\n",
       "  <th>ma.L2.Exchange_Rate</th>  <td>    1.2836</td> <td>    0.097</td> <td>   13.284</td> <td> 0.000</td> <td>    1.094</td> <td>    1.473</td>\n",
       "</tr>\n",
       "<tr>\n",
       "  <th>ma.L3.Exchange_Rate</th>  <td>    1.3709</td> <td>    0.127</td> <td>   10.753</td> <td> 0.000</td> <td>    1.121</td> <td>    1.621</td>\n",
       "</tr>\n",
       "<tr>\n",
       "  <th>ma.L4.Exchange_Rate</th>  <td>    1.3984</td> <td>    0.153</td> <td>    9.127</td> <td> 0.000</td> <td>    1.098</td> <td>    1.699</td>\n",
       "</tr>\n",
       "<tr>\n",
       "  <th>ma.L5.Exchange_Rate</th>  <td>    1.3861</td> <td>    0.169</td> <td>    8.199</td> <td> 0.000</td> <td>    1.055</td> <td>    1.717</td>\n",
       "</tr>\n",
       "<tr>\n",
       "  <th>ma.L6.Exchange_Rate</th>  <td>    1.3241</td> <td>    0.172</td> <td>    7.717</td> <td> 0.000</td> <td>    0.988</td> <td>    1.660</td>\n",
       "</tr>\n",
       "<tr>\n",
       "  <th>ma.L7.Exchange_Rate</th>  <td>    1.2029</td> <td>    0.160</td> <td>    7.514</td> <td> 0.000</td> <td>    0.889</td> <td>    1.517</td>\n",
       "</tr>\n",
       "<tr>\n",
       "  <th>ma.L8.Exchange_Rate</th>  <td>    1.0467</td> <td>    0.143</td> <td>    7.326</td> <td> 0.000</td> <td>    0.767</td> <td>    1.327</td>\n",
       "</tr>\n",
       "<tr>\n",
       "  <th>ma.L9.Exchange_Rate</th>  <td>    0.8665</td> <td>    0.128</td> <td>    6.774</td> <td> 0.000</td> <td>    0.616</td> <td>    1.117</td>\n",
       "</tr>\n",
       "<tr>\n",
       "  <th>ma.L10.Exchange_Rate</th> <td>    0.6596</td> <td>    0.118</td> <td>    5.601</td> <td> 0.000</td> <td>    0.429</td> <td>    0.890</td>\n",
       "</tr>\n",
       "<tr>\n",
       "  <th>ma.L11.Exchange_Rate</th> <td>    0.4534</td> <td>    0.106</td> <td>    4.294</td> <td> 0.000</td> <td>    0.246</td> <td>    0.660</td>\n",
       "</tr>\n",
       "<tr>\n",
       "  <th>ma.L12.Exchange_Rate</th> <td>    0.2374</td> <td>    0.086</td> <td>    2.766</td> <td> 0.006</td> <td>    0.069</td> <td>    0.406</td>\n",
       "</tr>\n",
       "<tr>\n",
       "  <th>ma.L13.Exchange_Rate</th> <td>    0.1223</td> <td>    0.059</td> <td>    2.064</td> <td> 0.040</td> <td>    0.006</td> <td>    0.238</td>\n",
       "</tr>\n",
       "</table>\n",
       "<table class=\"simpletable\">\n",
       "<caption>Roots</caption>\n",
       "<tr>\n",
       "    <td></td>    <th>            Real</th>  <th>         Imaginary</th> <th>         Modulus</th>  <th>        Frequency</th>\n",
       "</tr>\n",
       "<tr>\n",
       "  <th>MA.1</th>  <td>           0.8947</td> <td>          -0.6161j</td> <td>           1.0863</td> <td>          -0.0960</td>\n",
       "</tr>\n",
       "<tr>\n",
       "  <th>MA.2</th>  <td>           0.8947</td> <td>          +0.6161j</td> <td>           1.0863</td> <td>           0.0960</td>\n",
       "</tr>\n",
       "<tr>\n",
       "  <th>MA.3</th>  <td>          -1.1576</td> <td>          -0.0000j</td> <td>           1.1576</td> <td>          -0.5000</td>\n",
       "</tr>\n",
       "<tr>\n",
       "  <th>MA.4</th>  <td>          -1.0464</td> <td>          -0.5192j</td> <td>           1.1681</td> <td>          -0.4267</td>\n",
       "</tr>\n",
       "<tr>\n",
       "  <th>MA.5</th>  <td>          -1.0464</td> <td>          +0.5192j</td> <td>           1.1681</td> <td>           0.4267</td>\n",
       "</tr>\n",
       "<tr>\n",
       "  <th>MA.6</th>  <td>          -0.7390</td> <td>          -0.9461j</td> <td>           1.2005</td> <td>          -0.3555</td>\n",
       "</tr>\n",
       "<tr>\n",
       "  <th>MA.7</th>  <td>          -0.7390</td> <td>          +0.9461j</td> <td>           1.2005</td> <td>           0.3555</td>\n",
       "</tr>\n",
       "<tr>\n",
       "  <th>MA.8</th>  <td>           0.6073</td> <td>          -0.9907j</td> <td>           1.1621</td> <td>          -0.1625</td>\n",
       "</tr>\n",
       "<tr>\n",
       "  <th>MA.9</th>  <td>           0.6073</td> <td>          +0.9907j</td> <td>           1.1621</td> <td>           0.1625</td>\n",
       "</tr>\n",
       "<tr>\n",
       "  <th>MA.10</th> <td>          -0.2853</td> <td>          -1.1886j</td> <td>           1.2224</td> <td>          -0.2875</td>\n",
       "</tr>\n",
       "<tr>\n",
       "  <th>MA.11</th> <td>          -0.2853</td> <td>          +1.1886j</td> <td>           1.2224</td> <td>           0.2875</td>\n",
       "</tr>\n",
       "<tr>\n",
       "  <th>MA.12</th> <td>           0.1769</td> <td>          -1.2154j</td> <td>           1.2282</td> <td>          -0.2270</td>\n",
       "</tr>\n",
       "<tr>\n",
       "  <th>MA.13</th> <td>           0.1769</td> <td>          +1.2154j</td> <td>           1.2282</td> <td>           0.2270</td>\n",
       "</tr>\n",
       "</table>"
      ],
      "text/plain": [
       "<class 'statsmodels.iolib.summary.Summary'>\n",
       "\"\"\"\n",
       "                              ARMA Model Results                              \n",
       "==============================================================================\n",
       "Dep. Variable:          Exchange_Rate   No. Observations:                  268\n",
       "Model:                    ARMA(0, 13)   Log Likelihood                  56.839\n",
       "Method:                       css-mle   S.D. of innovations              0.194\n",
       "Date:                Mon, 18 Jul 2022   AIC                            -83.679\n",
       "Time:                        13:44:50   BIC                            -29.814\n",
       "Sample:                    01-01-1992   HQIC                           -62.044\n",
       "                         - 04-01-2014                                         \n",
       "========================================================================================\n",
       "                           coef    std err          z      P>|z|      [0.025      0.975]\n",
       "----------------------------------------------------------------------------------------\n",
       "const                    7.4695      0.158     47.408      0.000       7.161       7.778\n",
       "ma.L1.Exchange_Rate      1.1547      0.062     18.510      0.000       1.032       1.277\n",
       "ma.L2.Exchange_Rate      1.2836      0.097     13.284      0.000       1.094       1.473\n",
       "ma.L3.Exchange_Rate      1.3709      0.127     10.753      0.000       1.121       1.621\n",
       "ma.L4.Exchange_Rate      1.3984      0.153      9.127      0.000       1.098       1.699\n",
       "ma.L5.Exchange_Rate      1.3861      0.169      8.199      0.000       1.055       1.717\n",
       "ma.L6.Exchange_Rate      1.3241      0.172      7.717      0.000       0.988       1.660\n",
       "ma.L7.Exchange_Rate      1.2029      0.160      7.514      0.000       0.889       1.517\n",
       "ma.L8.Exchange_Rate      1.0467      0.143      7.326      0.000       0.767       1.327\n",
       "ma.L9.Exchange_Rate      0.8665      0.128      6.774      0.000       0.616       1.117\n",
       "ma.L10.Exchange_Rate     0.6596      0.118      5.601      0.000       0.429       0.890\n",
       "ma.L11.Exchange_Rate     0.4534      0.106      4.294      0.000       0.246       0.660\n",
       "ma.L12.Exchange_Rate     0.2374      0.086      2.766      0.006       0.069       0.406\n",
       "ma.L13.Exchange_Rate     0.1223      0.059      2.064      0.040       0.006       0.238\n",
       "                                    Roots                                     \n",
       "==============================================================================\n",
       "                   Real          Imaginary           Modulus         Frequency\n",
       "------------------------------------------------------------------------------\n",
       "MA.1             0.8947           -0.6161j            1.0863           -0.0960\n",
       "MA.2             0.8947           +0.6161j            1.0863            0.0960\n",
       "MA.3            -1.1576           -0.0000j            1.1576           -0.5000\n",
       "MA.4            -1.0464           -0.5192j            1.1681           -0.4267\n",
       "MA.5            -1.0464           +0.5192j            1.1681            0.4267\n",
       "MA.6            -0.7390           -0.9461j            1.2005           -0.3555\n",
       "MA.7            -0.7390           +0.9461j            1.2005            0.3555\n",
       "MA.8             0.6073           -0.9907j            1.1621           -0.1625\n",
       "MA.9             0.6073           +0.9907j            1.1621            0.1625\n",
       "MA.10           -0.2853           -1.1886j            1.2224           -0.2875\n",
       "MA.11           -0.2853           +1.1886j            1.2224            0.2875\n",
       "MA.12            0.1769           -1.2154j            1.2282           -0.2270\n",
       "MA.13            0.1769           +1.2154j            1.2282            0.2270\n",
       "------------------------------------------------------------------------------\n",
       "\"\"\""
      ]
     },
     "execution_count": 73,
     "metadata": {},
     "output_type": "execute_result"
    }
   ],
   "source": [
    "model_MA13=ARMA(df_train.Exchange_Rate,order=(0,13))\n",
    "res_MA13=model_MA13.fit()\n",
    "res_MA13.summary()"
   ]
  },
  {
   "cell_type": "code",
   "execution_count": null,
   "metadata": {
    "colab": {
     "base_uri": "https://localhost:8080/",
     "height": 455
    },
    "id": "JWnlFoX9rmAv",
    "outputId": "a8111586-d279-46ae-a08a-b52e44efb63c"
   },
   "outputs": [
    {
     "data": {
      "text/html": [
       "\n",
       "  <div id=\"df-74ebbea5-5ae2-4105-9255-63227ae4443e\">\n",
       "    <div class=\"colab-df-container\">\n",
       "      <div>\n",
       "<style scoped>\n",
       "    .dataframe tbody tr th:only-of-type {\n",
       "        vertical-align: middle;\n",
       "    }\n",
       "\n",
       "    .dataframe tbody tr th {\n",
       "        vertical-align: top;\n",
       "    }\n",
       "\n",
       "    .dataframe thead th {\n",
       "        text-align: right;\n",
       "    }\n",
       "</style>\n",
       "<table border=\"1\" class=\"dataframe\">\n",
       "  <thead>\n",
       "    <tr style=\"text-align: right;\">\n",
       "      <th></th>\n",
       "      <th>Prediction</th>\n",
       "    </tr>\n",
       "    <tr>\n",
       "      <th>Date</th>\n",
       "      <th></th>\n",
       "    </tr>\n",
       "  </thead>\n",
       "  <tbody>\n",
       "    <tr>\n",
       "      <th>2014-05-01</th>\n",
       "      <td>6.352423</td>\n",
       "    </tr>\n",
       "    <tr>\n",
       "      <th>2014-06-01</th>\n",
       "      <td>6.487874</td>\n",
       "    </tr>\n",
       "    <tr>\n",
       "      <th>2014-07-01</th>\n",
       "      <td>6.628966</td>\n",
       "    </tr>\n",
       "    <tr>\n",
       "      <th>2014-08-01</th>\n",
       "      <td>6.770622</td>\n",
       "    </tr>\n",
       "    <tr>\n",
       "      <th>2014-09-01</th>\n",
       "      <td>6.907831</td>\n",
       "    </tr>\n",
       "    <tr>\n",
       "      <th>...</th>\n",
       "      <td>...</td>\n",
       "    </tr>\n",
       "    <tr>\n",
       "      <th>2019-07-01</th>\n",
       "      <td>7.469508</td>\n",
       "    </tr>\n",
       "    <tr>\n",
       "      <th>2019-08-01</th>\n",
       "      <td>7.469508</td>\n",
       "    </tr>\n",
       "    <tr>\n",
       "      <th>2019-09-01</th>\n",
       "      <td>7.469508</td>\n",
       "    </tr>\n",
       "    <tr>\n",
       "      <th>2019-10-01</th>\n",
       "      <td>7.469508</td>\n",
       "    </tr>\n",
       "    <tr>\n",
       "      <th>2019-11-01</th>\n",
       "      <td>7.469508</td>\n",
       "    </tr>\n",
       "  </tbody>\n",
       "</table>\n",
       "<p>67 rows × 1 columns</p>\n",
       "</div>\n",
       "      <button class=\"colab-df-convert\" onclick=\"convertToInteractive('df-74ebbea5-5ae2-4105-9255-63227ae4443e')\"\n",
       "              title=\"Convert this dataframe to an interactive table.\"\n",
       "              style=\"display:none;\">\n",
       "        \n",
       "  <svg xmlns=\"http://www.w3.org/2000/svg\" height=\"24px\"viewBox=\"0 0 24 24\"\n",
       "       width=\"24px\">\n",
       "    <path d=\"M0 0h24v24H0V0z\" fill=\"none\"/>\n",
       "    <path d=\"M18.56 5.44l.94 2.06.94-2.06 2.06-.94-2.06-.94-.94-2.06-.94 2.06-2.06.94zm-11 1L8.5 8.5l.94-2.06 2.06-.94-2.06-.94L8.5 2.5l-.94 2.06-2.06.94zm10 10l.94 2.06.94-2.06 2.06-.94-2.06-.94-.94-2.06-.94 2.06-2.06.94z\"/><path d=\"M17.41 7.96l-1.37-1.37c-.4-.4-.92-.59-1.43-.59-.52 0-1.04.2-1.43.59L10.3 9.45l-7.72 7.72c-.78.78-.78 2.05 0 2.83L4 21.41c.39.39.9.59 1.41.59.51 0 1.02-.2 1.41-.59l7.78-7.78 2.81-2.81c.8-.78.8-2.07 0-2.86zM5.41 20L4 18.59l7.72-7.72 1.47 1.35L5.41 20z\"/>\n",
       "  </svg>\n",
       "      </button>\n",
       "      \n",
       "  <style>\n",
       "    .colab-df-container {\n",
       "      display:flex;\n",
       "      flex-wrap:wrap;\n",
       "      gap: 12px;\n",
       "    }\n",
       "\n",
       "    .colab-df-convert {\n",
       "      background-color: #E8F0FE;\n",
       "      border: none;\n",
       "      border-radius: 50%;\n",
       "      cursor: pointer;\n",
       "      display: none;\n",
       "      fill: #1967D2;\n",
       "      height: 32px;\n",
       "      padding: 0 0 0 0;\n",
       "      width: 32px;\n",
       "    }\n",
       "\n",
       "    .colab-df-convert:hover {\n",
       "      background-color: #E2EBFA;\n",
       "      box-shadow: 0px 1px 2px rgba(60, 64, 67, 0.3), 0px 1px 3px 1px rgba(60, 64, 67, 0.15);\n",
       "      fill: #174EA6;\n",
       "    }\n",
       "\n",
       "    [theme=dark] .colab-df-convert {\n",
       "      background-color: #3B4455;\n",
       "      fill: #D2E3FC;\n",
       "    }\n",
       "\n",
       "    [theme=dark] .colab-df-convert:hover {\n",
       "      background-color: #434B5C;\n",
       "      box-shadow: 0px 1px 3px 1px rgba(0, 0, 0, 0.15);\n",
       "      filter: drop-shadow(0px 1px 2px rgba(0, 0, 0, 0.3));\n",
       "      fill: #FFFFFF;\n",
       "    }\n",
       "  </style>\n",
       "\n",
       "      <script>\n",
       "        const buttonEl =\n",
       "          document.querySelector('#df-74ebbea5-5ae2-4105-9255-63227ae4443e button.colab-df-convert');\n",
       "        buttonEl.style.display =\n",
       "          google.colab.kernel.accessAllowed ? 'block' : 'none';\n",
       "\n",
       "        async function convertToInteractive(key) {\n",
       "          const element = document.querySelector('#df-74ebbea5-5ae2-4105-9255-63227ae4443e');\n",
       "          const dataTable =\n",
       "            await google.colab.kernel.invokeFunction('convertToInteractive',\n",
       "                                                     [key], {});\n",
       "          if (!dataTable) return;\n",
       "\n",
       "          const docLinkHtml = 'Like what you see? Visit the ' +\n",
       "            '<a target=\"_blank\" href=https://colab.research.google.com/notebooks/data_table.ipynb>data table notebook</a>'\n",
       "            + ' to learn more about interactive tables.';\n",
       "          element.innerHTML = '';\n",
       "          dataTable['output_type'] = 'display_data';\n",
       "          await google.colab.output.renderOutput(dataTable, element);\n",
       "          const docLink = document.createElement('div');\n",
       "          docLink.innerHTML = docLinkHtml;\n",
       "          element.appendChild(docLink);\n",
       "        }\n",
       "      </script>\n",
       "    </div>\n",
       "  </div>\n",
       "  "
      ],
      "text/plain": [
       "            Prediction\n",
       "Date                  \n",
       "2014-05-01    6.352423\n",
       "2014-06-01    6.487874\n",
       "2014-07-01    6.628966\n",
       "2014-08-01    6.770622\n",
       "2014-09-01    6.907831\n",
       "...                ...\n",
       "2019-07-01    7.469508\n",
       "2019-08-01    7.469508\n",
       "2019-09-01    7.469508\n",
       "2019-10-01    7.469508\n",
       "2019-11-01    7.469508\n",
       "\n",
       "[67 rows x 1 columns]"
      ]
     },
     "execution_count": 74,
     "metadata": {},
     "output_type": "execute_result"
    }
   ],
   "source": [
    "pred =res_MA13.predict(start=len(df_train),end=(len(df)-1),dynamic=False)\n",
    "forecast = pd.DataFrame(pred,index = df_test.index,columns=['Prediction'])\n",
    "forecast"
   ]
  },
  {
   "cell_type": "code",
   "execution_count": null,
   "metadata": {
    "colab": {
     "base_uri": "https://localhost:8080/",
     "height": 531
    },
    "id": "Akj3vKs1rmDB",
    "outputId": "7569a092-95f6-41fc-b2b7-34eb09084397"
   },
   "outputs": [
    {
     "data": {
      "text/plain": [
       "[<matplotlib.lines.Line2D at 0x7f4342229dd0>]"
      ]
     },
     "execution_count": 75,
     "metadata": {},
     "output_type": "execute_result"
    },
    {
     "data": {
      "image/png": "[encoded data removed]",
      "text/plain": [
       "<Figure size 1152x576 with 1 Axes>"
      ]
     },
     "metadata": {
      "needs_background": "light"
     },
     "output_type": "display_data"
    }
   ],
   "source": [
    "plt.figure(figsize=(16,8))\n",
    "plt.title('China exchange rate predictions using MA')\n",
    "plt.ylabel('Excahnge Rate(Yuan/DOllar)')\n",
    "plt.xlabel('Time')\n",
    "plt.plot(df_train.Exchange_Rate)\n",
    "plt.plot(df_test.Exchange_Rate,color='g')\n",
    "plt.plot(forecast['Prediction'],color='r')"
   ]
  },
  {
   "cell_type": "code",
   "execution_count": null,
   "metadata": {
    "id": "BMJUCGejsowP"
   },
   "outputs": [],
   "source": []
  },
  {
   "cell_type": "markdown",
   "metadata": {
    "id": "T2dDP4masqHJ"
   },
   "source": [
    "#ARMA"
   ]
  },
  {
   "cell_type": "code",
   "execution_count": null,
   "metadata": {
    "colab": {
     "base_uri": "https://localhost:8080/",
     "height": 384
    },
    "id": "Jf4zMtUCsta6",
    "outputId": "f002b002-8883-428a-a21e-b29a849bdc32"
   },
   "outputs": [
    {
     "name": "stderr",
     "output_type": "stream",
     "text": [
      "/usr/local/lib/python3.7/dist-packages/statsmodels/tsa/base/tsa_model.py:165: ValueWarning: No frequency information was provided, so inferred frequency MS will be used.\n",
      "  % freq, ValueWarning)\n"
     ]
    },
    {
     "data": {
      "text/html": [
       "<table class=\"simpletable\">\n",
       "<caption>ARMA Model Results</caption>\n",
       "<tr>\n",
       "  <th>Dep. Variable:</th>   <td>Exchange_Rate</td>  <th>  No. Observations:  </th>    <td>335</td>  \n",
       "</tr>\n",
       "<tr>\n",
       "  <th>Model:</th>            <td>ARMA(1, 1)</td>    <th>  Log Likelihood     </th>  <td>129.766</td>\n",
       "</tr>\n",
       "<tr>\n",
       "  <th>Method:</th>             <td>css-mle</td>     <th>  S.D. of innovations</th>   <td>0.163</td> \n",
       "</tr>\n",
       "<tr>\n",
       "  <th>Date:</th>          <td>Mon, 18 Jul 2022</td> <th>  AIC                </th> <td>-251.532</td>\n",
       "</tr>\n",
       "<tr>\n",
       "  <th>Time:</th>              <td>13:45:07</td>     <th>  BIC                </th> <td>-236.276</td>\n",
       "</tr>\n",
       "<tr>\n",
       "  <th>Sample:</th>           <td>01-01-1992</td>    <th>  HQIC               </th> <td>-245.450</td>\n",
       "</tr>\n",
       "<tr>\n",
       "  <th></th>                 <td>- 11-01-2019</td>   <th>                     </th>     <td> </td>   \n",
       "</tr>\n",
       "</table>\n",
       "<table class=\"simpletable\">\n",
       "<tr>\n",
       "           <td></td>              <th>coef</th>     <th>std err</th>      <th>z</th>      <th>P>|z|</th>  <th>[0.025</th>    <th>0.975]</th>  \n",
       "</tr>\n",
       "<tr>\n",
       "  <th>const</th>               <td>    7.0076</td> <td>    0.591</td> <td>   11.848</td> <td> 0.000</td> <td>    5.848</td> <td>    8.167</td>\n",
       "</tr>\n",
       "<tr>\n",
       "  <th>ar.L1.Exchange_Rate</th> <td>    0.9864</td> <td>    0.009</td> <td>  114.232</td> <td> 0.000</td> <td>    0.970</td> <td>    1.003</td>\n",
       "</tr>\n",
       "<tr>\n",
       "  <th>ma.L1.Exchange_Rate</th> <td>    0.0409</td> <td>    0.054</td> <td>    0.755</td> <td> 0.451</td> <td>   -0.065</td> <td>    0.147</td>\n",
       "</tr>\n",
       "</table>\n",
       "<table class=\"simpletable\">\n",
       "<caption>Roots</caption>\n",
       "<tr>\n",
       "    <td></td>   <th>            Real</th>  <th>         Imaginary</th> <th>         Modulus</th>  <th>        Frequency</th>\n",
       "</tr>\n",
       "<tr>\n",
       "  <th>AR.1</th> <td>           1.0137</td> <td>          +0.0000j</td> <td>           1.0137</td> <td>           0.0000</td>\n",
       "</tr>\n",
       "<tr>\n",
       "  <th>MA.1</th> <td>         -24.4531</td> <td>          +0.0000j</td> <td>          24.4531</td> <td>           0.5000</td>\n",
       "</tr>\n",
       "</table>"
      ],
      "text/plain": [
       "<class 'statsmodels.iolib.summary.Summary'>\n",
       "\"\"\"\n",
       "                              ARMA Model Results                              \n",
       "==============================================================================\n",
       "Dep. Variable:          Exchange_Rate   No. Observations:                  335\n",
       "Model:                     ARMA(1, 1)   Log Likelihood                 129.766\n",
       "Method:                       css-mle   S.D. of innovations              0.163\n",
       "Date:                Mon, 18 Jul 2022   AIC                           -251.532\n",
       "Time:                        13:45:07   BIC                           -236.276\n",
       "Sample:                    01-01-1992   HQIC                          -245.450\n",
       "                         - 11-01-2019                                         \n",
       "=======================================================================================\n",
       "                          coef    std err          z      P>|z|      [0.025      0.975]\n",
       "---------------------------------------------------------------------------------------\n",
       "const                   7.0076      0.591     11.848      0.000       5.848       8.167\n",
       "ar.L1.Exchange_Rate     0.9864      0.009    114.232      0.000       0.970       1.003\n",
       "ma.L1.Exchange_Rate     0.0409      0.054      0.755      0.451      -0.065       0.147\n",
       "                                    Roots                                    \n",
       "=============================================================================\n",
       "                  Real          Imaginary           Modulus         Frequency\n",
       "-----------------------------------------------------------------------------\n",
       "AR.1            1.0137           +0.0000j            1.0137            0.0000\n",
       "MA.1          -24.4531           +0.0000j           24.4531            0.5000\n",
       "-----------------------------------------------------------------------------\n",
       "\"\"\""
      ]
     },
     "execution_count": 76,
     "metadata": {},
     "output_type": "execute_result"
    }
   ],
   "source": [
    "model_ARMA1=ARMA(df.Exchange_Rate,order=(1,1))\n",
    "res_ARMA1=model_ARMA1.fit()\n",
    "res_ARMA1.summary()"
   ]
  },
  {
   "cell_type": "code",
   "execution_count": null,
   "metadata": {
    "colab": {
     "base_uri": "https://localhost:8080/",
     "height": 467
    },
    "id": "JfsoJOyHstdY",
    "outputId": "7c3472f0-9449-4849-a6d5-fbc0ef757906"
   },
   "outputs": [
    {
     "name": "stderr",
     "output_type": "stream",
     "text": [
      "/usr/local/lib/python3.7/dist-packages/statsmodels/tsa/base/tsa_model.py:165: ValueWarning: No frequency information was provided, so inferred frequency MS will be used.\n",
      "  % freq, ValueWarning)\n"
     ]
    },
    {
     "data": {
      "text/html": [
       "<table class=\"simpletable\">\n",
       "<caption>ARMA Model Results</caption>\n",
       "<tr>\n",
       "  <th>Dep. Variable:</th>   <td>Exchange_Rate</td>  <th>  No. Observations:  </th>    <td>335</td>  \n",
       "</tr>\n",
       "<tr>\n",
       "  <th>Model:</th>            <td>ARMA(2, 2)</td>    <th>  Log Likelihood     </th>  <td>131.932</td>\n",
       "</tr>\n",
       "<tr>\n",
       "  <th>Method:</th>             <td>css-mle</td>     <th>  S.D. of innovations</th>   <td>0.162</td> \n",
       "</tr>\n",
       "<tr>\n",
       "  <th>Date:</th>          <td>Mon, 18 Jul 2022</td> <th>  AIC                </th> <td>-251.865</td>\n",
       "</tr>\n",
       "<tr>\n",
       "  <th>Time:</th>              <td>13:45:09</td>     <th>  BIC                </th> <td>-228.980</td>\n",
       "</tr>\n",
       "<tr>\n",
       "  <th>Sample:</th>           <td>01-01-1992</td>    <th>  HQIC               </th> <td>-242.741</td>\n",
       "</tr>\n",
       "<tr>\n",
       "  <th></th>                 <td>- 11-01-2019</td>   <th>                     </th>     <td> </td>   \n",
       "</tr>\n",
       "</table>\n",
       "<table class=\"simpletable\">\n",
       "<tr>\n",
       "           <td></td>              <th>coef</th>     <th>std err</th>      <th>z</th>      <th>P>|z|</th>  <th>[0.025</th>    <th>0.975]</th>  \n",
       "</tr>\n",
       "<tr>\n",
       "  <th>const</th>               <td>    7.2640</td> <td>    0.198</td> <td>   36.694</td> <td> 0.000</td> <td>    6.876</td> <td>    7.652</td>\n",
       "</tr>\n",
       "<tr>\n",
       "  <th>ar.L1.Exchange_Rate</th> <td>    1.9865</td> <td>    0.009</td> <td>  233.549</td> <td> 0.000</td> <td>    1.970</td> <td>    2.003</td>\n",
       "</tr>\n",
       "<tr>\n",
       "  <th>ar.L2.Exchange_Rate</th> <td>   -0.9870</td> <td>    0.009</td> <td> -115.802</td> <td> 0.000</td> <td>   -1.004</td> <td>   -0.970</td>\n",
       "</tr>\n",
       "<tr>\n",
       "  <th>ma.L1.Exchange_Rate</th> <td>   -0.9748</td> <td>    0.057</td> <td>  -17.190</td> <td> 0.000</td> <td>   -1.086</td> <td>   -0.864</td>\n",
       "</tr>\n",
       "<tr>\n",
       "  <th>ma.L2.Exchange_Rate</th> <td>   -0.0215</td> <td>    0.055</td> <td>   -0.389</td> <td> 0.698</td> <td>   -0.130</td> <td>    0.087</td>\n",
       "</tr>\n",
       "</table>\n",
       "<table class=\"simpletable\">\n",
       "<caption>Roots</caption>\n",
       "<tr>\n",
       "    <td></td>   <th>            Real</th>  <th>         Imaginary</th> <th>         Modulus</th>  <th>        Frequency</th>\n",
       "</tr>\n",
       "<tr>\n",
       "  <th>AR.1</th> <td>           1.0064</td> <td>          -0.0206j</td> <td>           1.0066</td> <td>          -0.0033</td>\n",
       "</tr>\n",
       "<tr>\n",
       "  <th>AR.2</th> <td>           1.0064</td> <td>          +0.0206j</td> <td>           1.0066</td> <td>           0.0033</td>\n",
       "</tr>\n",
       "<tr>\n",
       "  <th>MA.1</th> <td>           1.0036</td> <td>          +0.0000j</td> <td>           1.0036</td> <td>           0.0000</td>\n",
       "</tr>\n",
       "<tr>\n",
       "  <th>MA.2</th> <td>         -46.2448</td> <td>          +0.0000j</td> <td>          46.2448</td> <td>           0.5000</td>\n",
       "</tr>\n",
       "</table>"
      ],
      "text/plain": [
       "<class 'statsmodels.iolib.summary.Summary'>\n",
       "\"\"\"\n",
       "                              ARMA Model Results                              \n",
       "==============================================================================\n",
       "Dep. Variable:          Exchange_Rate   No. Observations:                  335\n",
       "Model:                     ARMA(2, 2)   Log Likelihood                 131.932\n",
       "Method:                       css-mle   S.D. of innovations              0.162\n",
       "Date:                Mon, 18 Jul 2022   AIC                           -251.865\n",
       "Time:                        13:45:09   BIC                           -228.980\n",
       "Sample:                    01-01-1992   HQIC                          -242.741\n",
       "                         - 11-01-2019                                         \n",
       "=======================================================================================\n",
       "                          coef    std err          z      P>|z|      [0.025      0.975]\n",
       "---------------------------------------------------------------------------------------\n",
       "const                   7.2640      0.198     36.694      0.000       6.876       7.652\n",
       "ar.L1.Exchange_Rate     1.9865      0.009    233.549      0.000       1.970       2.003\n",
       "ar.L2.Exchange_Rate    -0.9870      0.009   -115.802      0.000      -1.004      -0.970\n",
       "ma.L1.Exchange_Rate    -0.9748      0.057    -17.190      0.000      -1.086      -0.864\n",
       "ma.L2.Exchange_Rate    -0.0215      0.055     -0.389      0.698      -0.130       0.087\n",
       "                                    Roots                                    \n",
       "=============================================================================\n",
       "                  Real          Imaginary           Modulus         Frequency\n",
       "-----------------------------------------------------------------------------\n",
       "AR.1            1.0064           -0.0206j            1.0066           -0.0033\n",
       "AR.2            1.0064           +0.0206j            1.0066            0.0033\n",
       "MA.1            1.0036           +0.0000j            1.0036            0.0000\n",
       "MA.2          -46.2448           +0.0000j           46.2448            0.5000\n",
       "-----------------------------------------------------------------------------\n",
       "\"\"\""
      ]
     },
     "execution_count": 77,
     "metadata": {},
     "output_type": "execute_result"
    }
   ],
   "source": [
    "model_ARMA2=ARMA(df.Exchange_Rate,order=(2,2))\n",
    "res_ARMA2=model_ARMA2.fit()\n",
    "res_ARMA2.summary()"
   ]
  },
  {
   "cell_type": "code",
   "execution_count": null,
   "metadata": {
    "colab": {
     "base_uri": "https://localhost:8080/",
     "height": 462
    },
    "id": "pVk3s9iJstgZ",
    "outputId": "6557d14b-68a7-494c-91c5-2161d3887fd5"
   },
   "outputs": [
    {
     "name": "stderr",
     "output_type": "stream",
     "text": [
      "/usr/local/lib/python3.7/dist-packages/statsmodels/tsa/base/tsa_model.py:165: ValueWarning: No frequency information was provided, so inferred frequency MS will be used.\n",
      "  % freq, ValueWarning)\n",
      "/usr/local/lib/python3.7/dist-packages/statsmodels/base/model.py:512: ConvergenceWarning: Maximum Likelihood optimization failed to converge. Check mle_retvals\n",
      "  \"Check mle_retvals\", ConvergenceWarning)\n"
     ]
    },
    {
     "data": {
      "text/html": [
       "<table class=\"simpletable\">\n",
       "<caption>ARMA Model Results</caption>\n",
       "<tr>\n",
       "  <th>Dep. Variable:</th>   <td>Exchange_Rate</td>  <th>  No. Observations:  </th>    <td>335</td>  \n",
       "</tr>\n",
       "<tr>\n",
       "  <th>Model:</th>            <td>ARMA(2, 1)</td>    <th>  Log Likelihood     </th>  <td>131.946</td>\n",
       "</tr>\n",
       "<tr>\n",
       "  <th>Method:</th>             <td>css-mle</td>     <th>  S.D. of innovations</th>   <td>0.162</td> \n",
       "</tr>\n",
       "<tr>\n",
       "  <th>Date:</th>          <td>Mon, 18 Jul 2022</td> <th>  AIC                </th> <td>-253.892</td>\n",
       "</tr>\n",
       "<tr>\n",
       "  <th>Time:</th>              <td>13:45:12</td>     <th>  BIC                </th> <td>-234.821</td>\n",
       "</tr>\n",
       "<tr>\n",
       "  <th>Sample:</th>           <td>01-01-1992</td>    <th>  HQIC               </th> <td>-246.289</td>\n",
       "</tr>\n",
       "<tr>\n",
       "  <th></th>                 <td>- 11-01-2019</td>   <th>                     </th>     <td> </td>   \n",
       "</tr>\n",
       "</table>\n",
       "<table class=\"simpletable\">\n",
       "<tr>\n",
       "           <td></td>              <th>coef</th>     <th>std err</th>      <th>z</th>      <th>P>|z|</th>  <th>[0.025</th>    <th>0.975]</th>  \n",
       "</tr>\n",
       "<tr>\n",
       "  <th>const</th>               <td>    7.2765</td> <td>    0.178</td> <td>   40.960</td> <td> 0.000</td> <td>    6.928</td> <td>    7.625</td>\n",
       "</tr>\n",
       "<tr>\n",
       "  <th>ar.L1.Exchange_Rate</th> <td>    1.9878</td> <td>    0.008</td> <td>  253.746</td> <td> 0.000</td> <td>    1.972</td> <td>    2.003</td>\n",
       "</tr>\n",
       "<tr>\n",
       "  <th>ar.L2.Exchange_Rate</th> <td>   -0.9883</td> <td>    0.008</td> <td> -125.768</td> <td> 0.000</td> <td>   -1.004</td> <td>   -0.973</td>\n",
       "</tr>\n",
       "<tr>\n",
       "  <th>ma.L1.Exchange_Rate</th> <td>   -0.9987</td> <td>    0.008</td> <td> -123.337</td> <td> 0.000</td> <td>   -1.015</td> <td>   -0.983</td>\n",
       "</tr>\n",
       "</table>\n",
       "<table class=\"simpletable\">\n",
       "<caption>Roots</caption>\n",
       "<tr>\n",
       "    <td></td>   <th>            Real</th>  <th>         Imaginary</th> <th>         Modulus</th>  <th>        Frequency</th>\n",
       "</tr>\n",
       "<tr>\n",
       "  <th>AR.1</th> <td>           1.0057</td> <td>          -0.0212j</td> <td>           1.0059</td> <td>          -0.0034</td>\n",
       "</tr>\n",
       "<tr>\n",
       "  <th>AR.2</th> <td>           1.0057</td> <td>          +0.0212j</td> <td>           1.0059</td> <td>           0.0034</td>\n",
       "</tr>\n",
       "<tr>\n",
       "  <th>MA.1</th> <td>           1.0013</td> <td>          +0.0000j</td> <td>           1.0013</td> <td>           0.0000</td>\n",
       "</tr>\n",
       "</table>"
      ],
      "text/plain": [
       "<class 'statsmodels.iolib.summary.Summary'>\n",
       "\"\"\"\n",
       "                              ARMA Model Results                              \n",
       "==============================================================================\n",
       "Dep. Variable:          Exchange_Rate   No. Observations:                  335\n",
       "Model:                     ARMA(2, 1)   Log Likelihood                 131.946\n",
       "Method:                       css-mle   S.D. of innovations              0.162\n",
       "Date:                Mon, 18 Jul 2022   AIC                           -253.892\n",
       "Time:                        13:45:12   BIC                           -234.821\n",
       "Sample:                    01-01-1992   HQIC                          -246.289\n",
       "                         - 11-01-2019                                         \n",
       "=======================================================================================\n",
       "                          coef    std err          z      P>|z|      [0.025      0.975]\n",
       "---------------------------------------------------------------------------------------\n",
       "const                   7.2765      0.178     40.960      0.000       6.928       7.625\n",
       "ar.L1.Exchange_Rate     1.9878      0.008    253.746      0.000       1.972       2.003\n",
       "ar.L2.Exchange_Rate    -0.9883      0.008   -125.768      0.000      -1.004      -0.973\n",
       "ma.L1.Exchange_Rate    -0.9987      0.008   -123.337      0.000      -1.015      -0.983\n",
       "                                    Roots                                    \n",
       "=============================================================================\n",
       "                  Real          Imaginary           Modulus         Frequency\n",
       "-----------------------------------------------------------------------------\n",
       "AR.1            1.0057           -0.0212j            1.0059           -0.0034\n",
       "AR.2            1.0057           +0.0212j            1.0059            0.0034\n",
       "MA.1            1.0013           +0.0000j            1.0013            0.0000\n",
       "-----------------------------------------------------------------------------\n",
       "\"\"\""
      ]
     },
     "execution_count": 78,
     "metadata": {},
     "output_type": "execute_result"
    }
   ],
   "source": [
    "model_ARMA3=ARMA(df.Exchange_Rate,order=(2,1))\n",
    "res_ARMA3=model_ARMA3.fit()\n",
    "res_ARMA3.summary()"
   ]
  },
  {
   "cell_type": "code",
   "execution_count": null,
   "metadata": {
    "colab": {
     "base_uri": "https://localhost:8080/",
     "height": 455
    },
    "id": "DM4O71ZistiZ",
    "outputId": "d34ae7c9-9d43-401a-84b5-5fa2a5ebfa38"
   },
   "outputs": [
    {
     "data": {
      "text/html": [
       "\n",
       "  <div id=\"df-4f0366f2-e89d-4260-8a3f-eecca8c758bc\">\n",
       "    <div class=\"colab-df-container\">\n",
       "      <div>\n",
       "<style scoped>\n",
       "    .dataframe tbody tr th:only-of-type {\n",
       "        vertical-align: middle;\n",
       "    }\n",
       "\n",
       "    .dataframe tbody tr th {\n",
       "        vertical-align: top;\n",
       "    }\n",
       "\n",
       "    .dataframe thead th {\n",
       "        text-align: right;\n",
       "    }\n",
       "</style>\n",
       "<table border=\"1\" class=\"dataframe\">\n",
       "  <thead>\n",
       "    <tr style=\"text-align: right;\">\n",
       "      <th></th>\n",
       "      <th>Prediction</th>\n",
       "    </tr>\n",
       "    <tr>\n",
       "      <th>Date</th>\n",
       "      <th></th>\n",
       "    </tr>\n",
       "  </thead>\n",
       "  <tbody>\n",
       "    <tr>\n",
       "      <th>2014-05-01</th>\n",
       "      <td>6.233023</td>\n",
       "    </tr>\n",
       "    <tr>\n",
       "      <th>2014-06-01</th>\n",
       "      <td>6.246778</td>\n",
       "    </tr>\n",
       "    <tr>\n",
       "      <th>2014-07-01</th>\n",
       "      <td>6.239910</td>\n",
       "    </tr>\n",
       "    <tr>\n",
       "      <th>2014-08-01</th>\n",
       "      <td>6.208464</td>\n",
       "    </tr>\n",
       "    <tr>\n",
       "      <th>2014-09-01</th>\n",
       "      <td>6.165039</td>\n",
       "    </tr>\n",
       "    <tr>\n",
       "      <th>...</th>\n",
       "      <td>...</td>\n",
       "    </tr>\n",
       "    <tr>\n",
       "      <th>2019-07-01</th>\n",
       "      <td>6.918874</td>\n",
       "    </tr>\n",
       "    <tr>\n",
       "      <th>2019-08-01</th>\n",
       "      <td>6.898983</td>\n",
       "    </tr>\n",
       "    <tr>\n",
       "      <th>2019-09-01</th>\n",
       "      <td>7.082781</td>\n",
       "    </tr>\n",
       "    <tr>\n",
       "      <th>2019-10-01</th>\n",
       "      <td>7.133152</td>\n",
       "    </tr>\n",
       "    <tr>\n",
       "      <th>2019-11-01</th>\n",
       "      <td>7.115739</td>\n",
       "    </tr>\n",
       "  </tbody>\n",
       "</table>\n",
       "<p>67 rows × 1 columns</p>\n",
       "</div>\n",
       "      <button class=\"colab-df-convert\" onclick=\"convertToInteractive('df-4f0366f2-e89d-4260-8a3f-eecca8c758bc')\"\n",
       "              title=\"Convert this dataframe to an interactive table.\"\n",
       "              style=\"display:none;\">\n",
       "        \n",
       "  <svg xmlns=\"http://www.w3.org/2000/svg\" height=\"24px\"viewBox=\"0 0 24 24\"\n",
       "       width=\"24px\">\n",
       "    <path d=\"M0 0h24v24H0V0z\" fill=\"none\"/>\n",
       "    <path d=\"M18.56 5.44l.94 2.06.94-2.06 2.06-.94-2.06-.94-.94-2.06-.94 2.06-2.06.94zm-11 1L8.5 8.5l.94-2.06 2.06-.94-2.06-.94L8.5 2.5l-.94 2.06-2.06.94zm10 10l.94 2.06.94-2.06 2.06-.94-2.06-.94-.94-2.06-.94 2.06-2.06.94z\"/><path d=\"M17.41 7.96l-1.37-1.37c-.4-.4-.92-.59-1.43-.59-.52 0-1.04.2-1.43.59L10.3 9.45l-7.72 7.72c-.78.78-.78 2.05 0 2.83L4 21.41c.39.39.9.59 1.41.59.51 0 1.02-.2 1.41-.59l7.78-7.78 2.81-2.81c.8-.78.8-2.07 0-2.86zM5.41 20L4 18.59l7.72-7.72 1.47 1.35L5.41 20z\"/>\n",
       "  </svg>\n",
       "      </button>\n",
       "      \n",
       "  <style>\n",
       "    .colab-df-container {\n",
       "      display:flex;\n",
       "      flex-wrap:wrap;\n",
       "      gap: 12px;\n",
       "    }\n",
       "\n",
       "    .colab-df-convert {\n",
       "      background-color: #E8F0FE;\n",
       "      border: none;\n",
       "      border-radius: 50%;\n",
       "      cursor: pointer;\n",
       "      display: none;\n",
       "      fill: #1967D2;\n",
       "      height: 32px;\n",
       "      padding: 0 0 0 0;\n",
       "      width: 32px;\n",
       "    }\n",
       "\n",
       "    .colab-df-convert:hover {\n",
       "      background-color: #E2EBFA;\n",
       "      box-shadow: 0px 1px 2px rgba(60, 64, 67, 0.3), 0px 1px 3px 1px rgba(60, 64, 67, 0.15);\n",
       "      fill: #174EA6;\n",
       "    }\n",
       "\n",
       "    [theme=dark] .colab-df-convert {\n",
       "      background-color: #3B4455;\n",
       "      fill: #D2E3FC;\n",
       "    }\n",
       "\n",
       "    [theme=dark] .colab-df-convert:hover {\n",
       "      background-color: #434B5C;\n",
       "      box-shadow: 0px 1px 3px 1px rgba(0, 0, 0, 0.15);\n",
       "      filter: drop-shadow(0px 1px 2px rgba(0, 0, 0, 0.3));\n",
       "      fill: #FFFFFF;\n",
       "    }\n",
       "  </style>\n",
       "\n",
       "      <script>\n",
       "        const buttonEl =\n",
       "          document.querySelector('#df-4f0366f2-e89d-4260-8a3f-eecca8c758bc button.colab-df-convert');\n",
       "        buttonEl.style.display =\n",
       "          google.colab.kernel.accessAllowed ? 'block' : 'none';\n",
       "\n",
       "        async function convertToInteractive(key) {\n",
       "          const element = document.querySelector('#df-4f0366f2-e89d-4260-8a3f-eecca8c758bc');\n",
       "          const dataTable =\n",
       "            await google.colab.kernel.invokeFunction('convertToInteractive',\n",
       "                                                     [key], {});\n",
       "          if (!dataTable) return;\n",
       "\n",
       "          const docLinkHtml = 'Like what you see? Visit the ' +\n",
       "            '<a target=\"_blank\" href=https://colab.research.google.com/notebooks/data_table.ipynb>data table notebook</a>'\n",
       "            + ' to learn more about interactive tables.';\n",
       "          element.innerHTML = '';\n",
       "          dataTable['output_type'] = 'display_data';\n",
       "          await google.colab.output.renderOutput(dataTable, element);\n",
       "          const docLink = document.createElement('div');\n",
       "          docLink.innerHTML = docLinkHtml;\n",
       "          element.appendChild(docLink);\n",
       "        }\n",
       "      </script>\n",
       "    </div>\n",
       "  </div>\n",
       "  "
      ],
      "text/plain": [
       "            Prediction\n",
       "Date                  \n",
       "2014-05-01    6.233023\n",
       "2014-06-01    6.246778\n",
       "2014-07-01    6.239910\n",
       "2014-08-01    6.208464\n",
       "2014-09-01    6.165039\n",
       "...                ...\n",
       "2019-07-01    6.918874\n",
       "2019-08-01    6.898983\n",
       "2019-09-01    7.082781\n",
       "2019-10-01    7.133152\n",
       "2019-11-01    7.115739\n",
       "\n",
       "[67 rows x 1 columns]"
      ]
     },
     "execution_count": 79,
     "metadata": {},
     "output_type": "execute_result"
    }
   ],
   "source": [
    "pred =res_ARMA3.predict(start=len(df_train),end=(len(df)-1),dynamic=False)\n",
    "forecast = pd.DataFrame(pred,index = df_test.index,columns=['Prediction'])\n",
    "forecast"
   ]
  },
  {
   "cell_type": "code",
   "execution_count": null,
   "metadata": {
    "colab": {
     "base_uri": "https://localhost:8080/",
     "height": 531
    },
    "id": "kso1fj42stkj",
    "outputId": "6e5a5bea-7d08-44cd-f621-fa7cdbe13b0a"
   },
   "outputs": [
    {
     "data": {
      "text/plain": [
       "[<matplotlib.lines.Line2D at 0x7f4341709510>]"
      ]
     },
     "execution_count": 80,
     "metadata": {},
     "output_type": "execute_result"
    },
    {
     "data": {
      "image/png": "[encoded data removed]",
      "text/plain": [
       "<Figure size 1152x576 with 1 Axes>"
      ]
     },
     "metadata": {
      "needs_background": "light"
     },
     "output_type": "display_data"
    }
   ],
   "source": [
    "plt.figure(figsize=(16,8))\n",
    "plt.title('China exchange rate predictions using ARMA')\n",
    "plt.ylabel('Excahnge Rate(Yuan/DOllar)')\n",
    "plt.xlabel('Time')\n",
    "plt.plot(df_train.Exchange_Rate)\n",
    "plt.plot(df_test.Exchange_Rate,color='g')\n",
    "plt.plot(forecast['Prediction'],color='r')"
   ]
  },
  {
   "cell_type": "markdown",
   "metadata": {
    "id": "gnJLbbXDtKVW"
   },
   "source": [
    "#ARIMA"
   ]
  },
  {
   "cell_type": "code",
   "execution_count": null,
   "metadata": {
    "id": "ggKruZI6stpq"
   },
   "outputs": [],
   "source": [
    "from pmdarima.arima import auto_arima"
   ]
  },
  {
   "cell_type": "code",
   "execution_count": null,
   "metadata": {
    "colab": {
     "base_uri": "https://localhost:8080/"
    },
    "id": "4J9MhDo0vSNZ",
    "outputId": "eaa2308f-0663-4616-bb63-53d96a94816d"
   },
   "outputs": [
    {
     "name": "stdout",
     "output_type": "stream",
     "text": [
      "Performing stepwise search to minimize aic\n",
      " ARIMA(1,1,1)(0,1,1)[12]             : AIC=-108.570, Time=1.06 sec\n",
      " ARIMA(0,1,0)(0,1,0)[12]             : AIC=43.264, Time=0.07 sec\n",
      " ARIMA(1,1,0)(1,1,0)[12]             : AIC=-110.205, Time=0.46 sec\n",
      " ARIMA(0,1,1)(0,1,1)[12]             : AIC=-110.582, Time=1.01 sec\n",
      " ARIMA(0,1,1)(0,1,0)[12]             : AIC=45.213, Time=0.12 sec\n",
      " ARIMA(0,1,1)(1,1,1)[12]             : AIC=-119.104, Time=1.22 sec\n",
      " ARIMA(0,1,1)(1,1,0)[12]             : AIC=-110.204, Time=0.44 sec\n",
      " ARIMA(0,1,1)(2,1,1)[12]             : AIC=-117.201, Time=3.24 sec\n",
      " ARIMA(0,1,1)(1,1,2)[12]             : AIC=-117.200, Time=5.30 sec\n",
      " ARIMA(0,1,1)(0,1,2)[12]             : AIC=-118.684, Time=3.39 sec\n",
      " ARIMA(0,1,1)(2,1,0)[12]             : AIC=-118.176, Time=1.26 sec\n",
      " ARIMA(0,1,1)(2,1,2)[12]             : AIC=-115.198, Time=4.15 sec\n",
      " ARIMA(0,1,0)(1,1,1)[12]             : AIC=-121.026, Time=1.14 sec\n",
      " ARIMA(0,1,0)(0,1,1)[12]             : AIC=-112.556, Time=0.76 sec\n",
      " ARIMA(0,1,0)(1,1,0)[12]             : AIC=-112.161, Time=0.38 sec\n",
      " ARIMA(0,1,0)(2,1,1)[12]             : AIC=-119.121, Time=4.05 sec\n",
      " ARIMA(0,1,0)(1,1,2)[12]             : AIC=-119.121, Time=4.58 sec\n",
      " ARIMA(0,1,0)(0,1,2)[12]             : AIC=-120.610, Time=2.91 sec\n",
      " ARIMA(0,1,0)(2,1,0)[12]             : AIC=-120.090, Time=1.59 sec\n",
      " ARIMA(0,1,0)(2,1,2)[12]             : AIC=-117.119, Time=3.60 sec\n",
      " ARIMA(1,1,0)(1,1,1)[12]             : AIC=-119.106, Time=0.90 sec\n",
      " ARIMA(1,1,1)(1,1,1)[12]             : AIC=-117.083, Time=1.85 sec\n",
      " ARIMA(0,1,0)(1,1,1)[12] intercept   : AIC=-120.498, Time=2.03 sec\n",
      "\n",
      "Best model:  ARIMA(0,1,0)(1,1,1)[12]          \n",
      "Total fit time: 45.553 seconds\n"
     ]
    },
    {
     "data": {
      "text/plain": [
       "ARIMA(order=(0, 1, 0), scoring_args={}, seasonal_order=(1, 1, 1, 12),\n",
       "      suppress_warnings=True, with_intercept=False)"
      ]
     },
     "execution_count": 82,
     "metadata": {},
     "output_type": "execute_result"
    }
   ],
   "source": [
    "from pmdarima.arima import auto_arima\n",
    "\n",
    "model = auto_arima(df_train.Exchange_Rate, start_p=1, start_q=1, max_p=1, max_q=1, m=12, start_P=0, seasonal=True, d=1, D=1, trace=True, error_action='ignore', suppress_warnings=True)\n",
    "model.fit(df_train)"
   ]
  },
  {
   "cell_type": "code",
   "execution_count": null,
   "metadata": {
    "colab": {
     "base_uri": "https://localhost:8080/",
     "height": 455
    },
    "id": "dLAZKJtmvVTJ",
    "outputId": "dce6db52-ed07-43dc-ec4b-0bbca5399db5"
   },
   "outputs": [
    {
     "data": {
      "text/html": [
       "\n",
       "  <div id=\"df-9c5c754a-bbfa-4153-8106-993c59f50041\">\n",
       "    <div class=\"colab-df-container\">\n",
       "      <div>\n",
       "<style scoped>\n",
       "    .dataframe tbody tr th:only-of-type {\n",
       "        vertical-align: middle;\n",
       "    }\n",
       "\n",
       "    .dataframe tbody tr th {\n",
       "        vertical-align: top;\n",
       "    }\n",
       "\n",
       "    .dataframe thead th {\n",
       "        text-align: right;\n",
       "    }\n",
       "</style>\n",
       "<table border=\"1\" class=\"dataframe\">\n",
       "  <thead>\n",
       "    <tr style=\"text-align: right;\">\n",
       "      <th></th>\n",
       "      <th>Prediction</th>\n",
       "    </tr>\n",
       "    <tr>\n",
       "      <th>Date</th>\n",
       "      <th></th>\n",
       "    </tr>\n",
       "  </thead>\n",
       "  <tbody>\n",
       "    <tr>\n",
       "      <th>2014-05-01</th>\n",
       "      <td>6.222949</td>\n",
       "    </tr>\n",
       "    <tr>\n",
       "      <th>2014-06-01</th>\n",
       "      <td>6.232105</td>\n",
       "    </tr>\n",
       "    <tr>\n",
       "      <th>2014-07-01</th>\n",
       "      <td>6.223075</td>\n",
       "    </tr>\n",
       "    <tr>\n",
       "      <th>2014-08-01</th>\n",
       "      <td>6.204850</td>\n",
       "    </tr>\n",
       "    <tr>\n",
       "      <th>2014-09-01</th>\n",
       "      <td>6.174760</td>\n",
       "    </tr>\n",
       "    <tr>\n",
       "      <th>...</th>\n",
       "      <td>...</td>\n",
       "    </tr>\n",
       "    <tr>\n",
       "      <th>2019-07-01</th>\n",
       "      <td>5.646332</td>\n",
       "    </tr>\n",
       "    <tr>\n",
       "      <th>2019-08-01</th>\n",
       "      <td>5.629757</td>\n",
       "    </tr>\n",
       "    <tr>\n",
       "      <th>2019-09-01</th>\n",
       "      <td>5.608695</td>\n",
       "    </tr>\n",
       "    <tr>\n",
       "      <th>2019-10-01</th>\n",
       "      <td>5.575393</td>\n",
       "    </tr>\n",
       "    <tr>\n",
       "      <th>2019-11-01</th>\n",
       "      <td>5.557697</td>\n",
       "    </tr>\n",
       "  </tbody>\n",
       "</table>\n",
       "<p>67 rows × 1 columns</p>\n",
       "</div>\n",
       "      <button class=\"colab-df-convert\" onclick=\"convertToInteractive('df-9c5c754a-bbfa-4153-8106-993c59f50041')\"\n",
       "              title=\"Convert this dataframe to an interactive table.\"\n",
       "              style=\"display:none;\">\n",
       "        \n",
       "  <svg xmlns=\"http://www.w3.org/2000/svg\" height=\"24px\"viewBox=\"0 0 24 24\"\n",
       "       width=\"24px\">\n",
       "    <path d=\"M0 0h24v24H0V0z\" fill=\"none\"/>\n",
       "    <path d=\"M18.56 5.44l.94 2.06.94-2.06 2.06-.94-2.06-.94-.94-2.06-.94 2.06-2.06.94zm-11 1L8.5 8.5l.94-2.06 2.06-.94-2.06-.94L8.5 2.5l-.94 2.06-2.06.94zm10 10l.94 2.06.94-2.06 2.06-.94-2.06-.94-.94-2.06-.94 2.06-2.06.94z\"/><path d=\"M17.41 7.96l-1.37-1.37c-.4-.4-.92-.59-1.43-.59-.52 0-1.04.2-1.43.59L10.3 9.45l-7.72 7.72c-.78.78-.78 2.05 0 2.83L4 21.41c.39.39.9.59 1.41.59.51 0 1.02-.2 1.41-.59l7.78-7.78 2.81-2.81c.8-.78.8-2.07 0-2.86zM5.41 20L4 18.59l7.72-7.72 1.47 1.35L5.41 20z\"/>\n",
       "  </svg>\n",
       "      </button>\n",
       "      \n",
       "  <style>\n",
       "    .colab-df-container {\n",
       "      display:flex;\n",
       "      flex-wrap:wrap;\n",
       "      gap: 12px;\n",
       "    }\n",
       "\n",
       "    .colab-df-convert {\n",
       "      background-color: #E8F0FE;\n",
       "      border: none;\n",
       "      border-radius: 50%;\n",
       "      cursor: pointer;\n",
       "      display: none;\n",
       "      fill: #1967D2;\n",
       "      height: 32px;\n",
       "      padding: 0 0 0 0;\n",
       "      width: 32px;\n",
       "    }\n",
       "\n",
       "    .colab-df-convert:hover {\n",
       "      background-color: #E2EBFA;\n",
       "      box-shadow: 0px 1px 2px rgba(60, 64, 67, 0.3), 0px 1px 3px 1px rgba(60, 64, 67, 0.15);\n",
       "      fill: #174EA6;\n",
       "    }\n",
       "\n",
       "    [theme=dark] .colab-df-convert {\n",
       "      background-color: #3B4455;\n",
       "      fill: #D2E3FC;\n",
       "    }\n",
       "\n",
       "    [theme=dark] .colab-df-convert:hover {\n",
       "      background-color: #434B5C;\n",
       "      box-shadow: 0px 1px 3px 1px rgba(0, 0, 0, 0.15);\n",
       "      filter: drop-shadow(0px 1px 2px rgba(0, 0, 0, 0.3));\n",
       "      fill: #FFFFFF;\n",
       "    }\n",
       "  </style>\n",
       "\n",
       "      <script>\n",
       "        const buttonEl =\n",
       "          document.querySelector('#df-9c5c754a-bbfa-4153-8106-993c59f50041 button.colab-df-convert');\n",
       "        buttonEl.style.display =\n",
       "          google.colab.kernel.accessAllowed ? 'block' : 'none';\n",
       "\n",
       "        async function convertToInteractive(key) {\n",
       "          const element = document.querySelector('#df-9c5c754a-bbfa-4153-8106-993c59f50041');\n",
       "          const dataTable =\n",
       "            await google.colab.kernel.invokeFunction('convertToInteractive',\n",
       "                                                     [key], {});\n",
       "          if (!dataTable) return;\n",
       "\n",
       "          const docLinkHtml = 'Like what you see? Visit the ' +\n",
       "            '<a target=\"_blank\" href=https://colab.research.google.com/notebooks/data_table.ipynb>data table notebook</a>'\n",
       "            + ' to learn more about interactive tables.';\n",
       "          element.innerHTML = '';\n",
       "          dataTable['output_type'] = 'display_data';\n",
       "          await google.colab.output.renderOutput(dataTable, element);\n",
       "          const docLink = document.createElement('div');\n",
       "          docLink.innerHTML = docLinkHtml;\n",
       "          element.appendChild(docLink);\n",
       "        }\n",
       "      </script>\n",
       "    </div>\n",
       "  </div>\n",
       "  "
      ],
      "text/plain": [
       "            Prediction\n",
       "Date                  \n",
       "2014-05-01    6.222949\n",
       "2014-06-01    6.232105\n",
       "2014-07-01    6.223075\n",
       "2014-08-01    6.204850\n",
       "2014-09-01    6.174760\n",
       "...                ...\n",
       "2019-07-01    5.646332\n",
       "2019-08-01    5.629757\n",
       "2019-09-01    5.608695\n",
       "2019-10-01    5.575393\n",
       "2019-11-01    5.557697\n",
       "\n",
       "[67 rows x 1 columns]"
      ]
     },
     "execution_count": 83,
     "metadata": {},
     "output_type": "execute_result"
    }
   ],
   "source": [
    "forecast = model.predict(n_periods=len(df_test.Exchange_Rate))\n",
    "forecast = pd.DataFrame(forecast,index = df_test.index,columns=['Prediction'])\n",
    "forecast\n"
   ]
  },
  {
   "cell_type": "code",
   "execution_count": null,
   "metadata": {
    "colab": {
     "base_uri": "https://localhost:8080/",
     "height": 531
    },
    "id": "1biCU5oVvVda",
    "outputId": "dbb5a50a-c018-44f7-966c-f1943ae0041c"
   },
   "outputs": [
    {
     "data": {
      "text/plain": [
       "[<matplotlib.lines.Line2D at 0x7f43406f9b10>]"
      ]
     },
     "execution_count": 84,
     "metadata": {},
     "output_type": "execute_result"
    },
    {
     "data": {
      "image/png": "[encoded data removed]",
      "text/plain": [
       "<Figure size 1152x576 with 1 Axes>"
      ]
     },
     "metadata": {
      "needs_background": "light"
     },
     "output_type": "display_data"
    }
   ],
   "source": [
    "plt.figure(figsize=(16,8))\n",
    "plt.title('China exchange rate predictions using ARIMA')\n",
    "plt.ylabel('Excahnge Rate(Yuan/DOllar)')\n",
    "plt.xlabel('Time')\n",
    "plt.plot(df_train.Exchange_Rate)\n",
    "plt.plot(df_test.Exchange_Rate,color='g')\n",
    "plt.plot(forecast['Prediction'],color='r')"
   ]
  },
  {
   "cell_type": "markdown",
   "metadata": {
    "id": "PUnfZPt30aQW"
   },
   "source": [
    "Facebook Prophet"
   ]
  },
  {
   "cell_type": "code",
   "execution_count": null,
   "metadata": {
    "id": "HIb_SU7jvUjg"
   },
   "outputs": [],
   "source": [
    "#importing prophet\n",
    "from fbprophet import Prophet"
   ]
  },
  {
   "cell_type": "code",
   "execution_count": null,
   "metadata": {
    "id": "aqlIpWvqRh6r"
   },
   "outputs": [],
   "source": [
    "df_train_new=df_train.copy()"
   ]
  },
  {
   "cell_type": "code",
   "execution_count": null,
   "metadata": {
    "id": "gNqGB1TQRh88"
   },
   "outputs": [],
   "source": [
    "df_train_new['Date']=df_train_new.index"
   ]
  },
  {
   "cell_type": "code",
   "execution_count": null,
   "metadata": {
    "id": "AdmD9l9YRiED"
   },
   "outputs": [],
   "source": [
    "train = df_train_new[['Date','Exchange_Rate']][:-30]\n",
    "valid = df_train_new[['Date','Exchange_Rate']][-30:]"
   ]
  },
  {
   "cell_type": "code",
   "execution_count": null,
   "metadata": {
    "id": "dAiHL0_TRiQC"
   },
   "outputs": [],
   "source": [
    "#preparing data\n",
    "train = train.rename(columns={'Exchange_Rate': 'y', 'Date': 'ds'})\n",
    "valid = valid.rename(columns={'Exchange_Rate': 'y', 'Date': 'ds'})\n"
   ]
  },
  {
   "cell_type": "code",
   "execution_count": null,
   "metadata": {
    "colab": {
     "base_uri": "https://localhost:8080/"
    },
    "id": "vedr2PsVRiSx",
    "outputId": "705f5475-b32e-4890-f71b-d4106d692545"
   },
   "outputs": [
    {
     "data": {
      "text/plain": [
       "<fbprophet.forecaster.Prophet at 0x7f4340339890>"
      ]
     },
     "execution_count": 90,
     "metadata": {},
     "output_type": "execute_result"
    }
   ],
   "source": [
    "model = Prophet(yearly_seasonality=True, daily_seasonality=False)\n",
    "model.fit(train)"
   ]
  },
  {
   "cell_type": "code",
   "execution_count": null,
   "metadata": {
    "id": "2uir9rp3RiVT"
   },
   "outputs": [],
   "source": [
    "Exchange_Rate= model.make_future_dataframe(periods=len(valid))\n",
    "forecast = model.predict(Exchange_Rate)"
   ]
  },
  {
   "cell_type": "code",
   "execution_count": null,
   "metadata": {
    "colab": {
     "base_uri": "https://localhost:8080/"
    },
    "id": "9VReiHzMRiX2",
    "outputId": "0c321c50-b7da-4c5c-9be1-e8610fbaccd5"
   },
   "outputs": [
    {
     "name": "stdout",
     "output_type": "stream",
     "text": [
      "RMSE value on validation set:\n",
      "0.23010605821688948\n"
     ]
    }
   ],
   "source": [
    "forecast_valid = forecast['yhat'][len(train):]\n",
    "rms=np.sqrt(np.mean(np.power((np.array(valid['y'])-np.array(forecast_valid)),2)))\n",
    "print('RMSE value on validation set:')\n",
    "print(rms)"
   ]
  },
  {
   "cell_type": "code",
   "execution_count": null,
   "metadata": {
    "colab": {
     "base_uri": "https://localhost:8080/"
    },
    "id": "mhYgDIh-RzJR",
    "outputId": "d0b92aa4-e497-4738-f152-61338df3bb1c"
   },
   "outputs": [
    {
     "data": {
      "text/plain": [
       "238    6.252391\n",
       "239    6.183211\n",
       "240    6.277671\n",
       "241    6.226516\n",
       "242    6.200774\n",
       "243    6.259046\n",
       "244    6.281488\n",
       "245    6.262825\n",
       "246    6.220197\n",
       "247    6.340361\n",
       "248    6.313205\n",
       "249    6.308930\n",
       "250    6.385373\n",
       "251    6.422010\n",
       "252    6.412993\n",
       "253    6.375019\n",
       "254    6.494544\n",
       "255    6.461312\n",
       "256    6.445546\n",
       "257    6.505271\n",
       "258    6.520315\n",
       "259    6.485340\n",
       "260    6.417697\n",
       "261    6.504622\n",
       "262    6.436749\n",
       "263    6.385268\n",
       "264    6.409223\n",
       "265    6.389488\n",
       "266    6.321757\n",
       "267    6.224377\n",
       "Name: yhat, dtype: float64"
      ]
     },
     "execution_count": 93,
     "metadata": {},
     "output_type": "execute_result"
    }
   ],
   "source": [
    "forecast_valid"
   ]
  },
  {
   "cell_type": "code",
   "execution_count": null,
   "metadata": {
    "colab": {
     "base_uri": "https://localhost:8080/",
     "height": 531
    },
    "id": "wcU6TDpWRzLf",
    "outputId": "bb0315cb-d641-4b8b-998c-3f4f195a012d"
   },
   "outputs": [
    {
     "data": {
      "text/plain": [
       "[<matplotlib.lines.Line2D at 0x7f4341eee8d0>]"
      ]
     },
     "execution_count": 96,
     "metadata": {},
     "output_type": "execute_result"
    },
    {
     "data": {
      "image/png": "[encoded data removed]",
      "text/plain": [
       "<Figure size 1152x576 with 1 Axes>"
      ]
     },
     "metadata": {
      "needs_background": "light"
     },
     "output_type": "display_data"
    }
   ],
   "source": [
    "#plot\n",
    "plt.figure(figsize=(16,8))\n",
    "plt.title('China exchange rate predictions using fbprophet')\n",
    "plt.ylabel('Exchange_Rate (Yuan/Dollar)')\n",
    "plt.xlabel('Time')\n",
    "\n",
    "valid = valid.assign(Predictions = 0)\n",
    "valid = valid.assign(Predictions = forecast_valid.values)\n",
    "plt.plot(train['y'])\n",
    "plt.plot(valid['y'],color='g')\n",
    "plt.plot(valid['Predictions'],color='r')"
   ]
  },
  {
   "cell_type": "code",
   "execution_count": null,
   "metadata": {
    "id": "qCn3fEtIkGHz"
   },
   "outputs": [],
   "source": []
  }
 ],
 "metadata": {
  "colab": {
   "collapsed_sections": [],
   "name": "PPOC_Task_2.ipynb",
   "provenance": []
  },
  "kernelspec": {
   "display_name": "Python 3",
   "language": "python",
   "name": "python3"
  },
  "language_info": {
   "codemirror_mode": {
    "name": "ipython",
    "version": 3
   },
   "file_extension": ".py",
   "mimetype": "text/x-python",
   "name": "python",
   "nbconvert_exporter": "python",
   "pygments_lexer": "ipython3",
   "version": "3.7.4"
  }
 },
 "nbformat": 4,
 "nbformat_minor": 5
}
